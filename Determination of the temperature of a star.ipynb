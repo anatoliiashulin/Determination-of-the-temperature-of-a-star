{
 "cells": [
  {
   "cell_type": "markdown",
   "id": "6e7aa521",
   "metadata": {},
   "source": [
    "## Прогнозирование температуры звезды"
   ]
  },
  {
   "cell_type": "markdown",
   "id": "eac15005",
   "metadata": {},
   "source": [
    "Задача от обсерватории: придумать, как с помощью нейросети определять температуру на поверхности обнаруженных звёзд. Обычно для расчёта температуры учёные пользуются следующими методами:    \n",
    "*Закон смещения Вина.    \n",
    "Закон Стефана-Больцмана.    \n",
    "Спектральный анализ.*    \n",
    "Каждый из них имеет плюсы и минусы. Обсерватория хочет внедрить технологии машинного обучения для предсказания температуры звёзд, надеясь, что этот метод будет наиболее точным и удобным.    \n",
    "В базе обсерватории есть характеристики уже изученных 240 звёзд.    "
   ]
  },
  {
   "cell_type": "markdown",
   "id": "d410d3c6",
   "metadata": {},
   "source": [
    "**Характеристики** \n",
    "\n",
    "`Относительная светимость L/Lo` — светимость звезды относительно Солнца.    \n",
    "`Относительный радиус R/Ro` — радиус звезды относительно радиуса Солнца.     \n",
    "`Абсолютная звёздная величина Mv` — физическая величина, характеризующая блеск звезды.     \n",
    "`Звёздный цвет (white, red, blue, yellow, yellow-orange и др.)` — цвет звезды, который определяют на основе спектрального анализа.    \n",
    "`тип звезды` Коричневый карлик-0, Красный карлик-1, Белый карлик-2, Звёзды главной последовательности-3, Сверхгигант-4, Гипергигант-5    \n",
    "`Абсолютная температура T(K)` — температура на поверхности звезды в Кельвинах.\n"
   ]
  },
  {
   "cell_type": "markdown",
   "id": "corresponding-armstrong",
   "metadata": {
    "ExecuteTime": {
     "end_time": "2022-05-05T04:58:05.692448Z",
     "start_time": "2022-05-05T04:58:05.688565Z"
    }
   },
   "source": [
    "## Загрузка данных"
   ]
  },
  {
   "cell_type": "code",
   "execution_count": 1,
   "id": "spectacular-folder",
   "metadata": {},
   "outputs": [],
   "source": [
    "import pandas as pd\n",
    "import matplotlib.pyplot as plt\n",
    "import seaborn as sns \n",
    "import numpy as np \n",
    "import random\n",
    "\n",
    "from math import ceil, sqrt\n",
    "from sklearn.model_selection import train_test_split\n",
    "from sklearn.preprocessing import OneHotEncoder, StandardScaler\n",
    "from sklearn.metrics import mean_squared_error\n",
    "\n",
    "import torch\n",
    "import torch.nn as nn\n",
    "\n",
    "plt.style.use('seaborn-v0_8-darkgrid')\n",
    "pd.options.mode.chained_assignment = None\n",
    "torch.use_deterministic_algorithms(True)"
   ]
  },
  {
   "cell_type": "code",
   "execution_count": 2,
   "id": "f693f0d3",
   "metadata": {},
   "outputs": [
    {
     "data": {
      "text/plain": [
       "<torch._C.Generator at 0x1bf3f4cc5f0>"
      ]
     },
     "execution_count": 2,
     "metadata": {},
     "output_type": "execute_result"
    }
   ],
   "source": [
    "random.seed(42)\n",
    "np.random.seed(42)\n",
    "torch.manual_seed(42)"
   ]
  },
  {
   "cell_type": "code",
   "execution_count": 3,
   "id": "b76fa08f",
   "metadata": {},
   "outputs": [],
   "source": [
    "df = pd.read_csv('file_name.csv', sep='\\t' , index_col=0)"
   ]
  },
  {
   "cell_type": "code",
   "execution_count": 4,
   "id": "78f5ca88",
   "metadata": {},
   "outputs": [
    {
     "data": {
      "text/html": [
       "<div>\n",
       "<style scoped>\n",
       "    .dataframe tbody tr th:only-of-type {\n",
       "        vertical-align: middle;\n",
       "    }\n",
       "\n",
       "    .dataframe tbody tr th {\n",
       "        vertical-align: top;\n",
       "    }\n",
       "\n",
       "    .dataframe thead th {\n",
       "        text-align: right;\n",
       "    }\n",
       "</style>\n",
       "<table border=\"1\" class=\"dataframe\">\n",
       "  <thead>\n",
       "    <tr style=\"text-align: right;\">\n",
       "      <th></th>\n",
       "      <th>Temperature (K)</th>\n",
       "      <th>Luminosity(L/Lo)</th>\n",
       "      <th>Radius(R/Ro)</th>\n",
       "      <th>Absolute magnitude(Mv)</th>\n",
       "      <th>Star type</th>\n",
       "      <th>Star color</th>\n",
       "    </tr>\n",
       "  </thead>\n",
       "  <tbody>\n",
       "    <tr>\n",
       "      <th>0</th>\n",
       "      <td>3068</td>\n",
       "      <td>0.002400</td>\n",
       "      <td>0.1700</td>\n",
       "      <td>16.12</td>\n",
       "      <td>0</td>\n",
       "      <td>Red</td>\n",
       "    </tr>\n",
       "    <tr>\n",
       "      <th>1</th>\n",
       "      <td>3042</td>\n",
       "      <td>0.000500</td>\n",
       "      <td>0.1542</td>\n",
       "      <td>16.60</td>\n",
       "      <td>0</td>\n",
       "      <td>Red</td>\n",
       "    </tr>\n",
       "    <tr>\n",
       "      <th>2</th>\n",
       "      <td>2600</td>\n",
       "      <td>0.000300</td>\n",
       "      <td>0.1020</td>\n",
       "      <td>18.70</td>\n",
       "      <td>0</td>\n",
       "      <td>Red</td>\n",
       "    </tr>\n",
       "    <tr>\n",
       "      <th>3</th>\n",
       "      <td>2800</td>\n",
       "      <td>0.000200</td>\n",
       "      <td>0.1600</td>\n",
       "      <td>16.65</td>\n",
       "      <td>0</td>\n",
       "      <td>Red</td>\n",
       "    </tr>\n",
       "    <tr>\n",
       "      <th>4</th>\n",
       "      <td>1939</td>\n",
       "      <td>0.000138</td>\n",
       "      <td>0.1030</td>\n",
       "      <td>20.06</td>\n",
       "      <td>0</td>\n",
       "      <td>Red</td>\n",
       "    </tr>\n",
       "  </tbody>\n",
       "</table>\n",
       "</div>"
      ],
      "text/plain": [
       "   Temperature (K)  Luminosity(L/Lo)  Radius(R/Ro)  Absolute magnitude(Mv)  \\\n",
       "0             3068          0.002400        0.1700                   16.12   \n",
       "1             3042          0.000500        0.1542                   16.60   \n",
       "2             2600          0.000300        0.1020                   18.70   \n",
       "3             2800          0.000200        0.1600                   16.65   \n",
       "4             1939          0.000138        0.1030                   20.06   \n",
       "\n",
       "   Star type Star color  \n",
       "0          0        Red  \n",
       "1          0        Red  \n",
       "2          0        Red  \n",
       "3          0        Red  \n",
       "4          0        Red  "
      ]
     },
     "execution_count": 4,
     "metadata": {},
     "output_type": "execute_result"
    }
   ],
   "source": [
    "df.head()"
   ]
  },
  {
   "cell_type": "code",
   "execution_count": 5,
   "id": "ea01b0d5",
   "metadata": {},
   "outputs": [
    {
     "data": {
      "text/plain": [
       "Index(['Temperature (K)', 'Luminosity(L/Lo)', 'Radius(R/Ro)',\n",
       "       'Absolute magnitude(Mv)', 'Star type', 'Star color'],\n",
       "      dtype='object')"
      ]
     },
     "execution_count": 5,
     "metadata": {},
     "output_type": "execute_result"
    }
   ],
   "source": [
    "df.columns"
   ]
  },
  {
   "cell_type": "code",
   "execution_count": 6,
   "id": "9bb882cb",
   "metadata": {},
   "outputs": [],
   "source": [
    "num_cols = ['Luminosity(L/Lo)','Radius(R/Ro)','Absolute magnitude(Mv)'] #числовые признаки\n",
    "cat_cols = ['Star type', 'Star color'] #категориальные признаки\n",
    "target = ['Temperature (K)'] #целевой признак"
   ]
  },
  {
   "cell_type": "markdown",
   "id": "c928c7a6",
   "metadata": {},
   "source": [
    "Посмотрим на значения в категориальных столбцах"
   ]
  },
  {
   "cell_type": "code",
   "execution_count": 7,
   "id": "fcebc8b8",
   "metadata": {},
   "outputs": [
    {
     "data": {
      "text/plain": [
       "array(['Red', 'Blue White', 'White', 'Yellowish White', 'Blue white',\n",
       "       'Pale yellow orange', 'Blue', 'Blue-white', 'Whitish',\n",
       "       'yellow-white', 'Orange', 'White-Yellow', 'white', 'Blue ',\n",
       "       'yellowish', 'Yellowish', 'Orange-Red', 'Blue white ',\n",
       "       'Blue-White'], dtype=object)"
      ]
     },
     "execution_count": 7,
     "metadata": {},
     "output_type": "execute_result"
    }
   ],
   "source": [
    "df['Star color'].unique() "
   ]
  },
  {
   "cell_type": "markdown",
   "id": "20cffbf8",
   "metadata": {},
   "source": [
    "Наблюдаем большое количество опечаток. В будущем нам надо будет это исправить"
   ]
  },
  {
   "cell_type": "code",
   "execution_count": 8,
   "id": "dfd01e7b",
   "metadata": {},
   "outputs": [
    {
     "data": {
      "text/plain": [
       "array([0, 1, 2, 3, 4, 5], dtype=int64)"
      ]
     },
     "execution_count": 8,
     "metadata": {},
     "output_type": "execute_result"
    }
   ],
   "source": [
    "df['Star type'].unique()"
   ]
  },
  {
   "cell_type": "code",
   "execution_count": 9,
   "id": "8cf04e42",
   "metadata": {},
   "outputs": [
    {
     "data": {
      "text/html": [
       "<div>\n",
       "<style scoped>\n",
       "    .dataframe tbody tr th:only-of-type {\n",
       "        vertical-align: middle;\n",
       "    }\n",
       "\n",
       "    .dataframe tbody tr th {\n",
       "        vertical-align: top;\n",
       "    }\n",
       "\n",
       "    .dataframe thead th {\n",
       "        text-align: right;\n",
       "    }\n",
       "</style>\n",
       "<table border=\"1\" class=\"dataframe\">\n",
       "  <thead>\n",
       "    <tr style=\"text-align: right;\">\n",
       "      <th></th>\n",
       "      <th>Temperature (K)</th>\n",
       "      <th>Luminosity(L/Lo)</th>\n",
       "      <th>Radius(R/Ro)</th>\n",
       "      <th>Absolute magnitude(Mv)</th>\n",
       "      <th>Star type</th>\n",
       "      <th>Star color</th>\n",
       "    </tr>\n",
       "  </thead>\n",
       "  <tbody>\n",
       "    <tr>\n",
       "      <th>count</th>\n",
       "      <td>240.000000</td>\n",
       "      <td>240.000000</td>\n",
       "      <td>240.000000</td>\n",
       "      <td>240.000000</td>\n",
       "      <td>240.000000</td>\n",
       "      <td>240</td>\n",
       "    </tr>\n",
       "    <tr>\n",
       "      <th>unique</th>\n",
       "      <td>NaN</td>\n",
       "      <td>NaN</td>\n",
       "      <td>NaN</td>\n",
       "      <td>NaN</td>\n",
       "      <td>NaN</td>\n",
       "      <td>19</td>\n",
       "    </tr>\n",
       "    <tr>\n",
       "      <th>top</th>\n",
       "      <td>NaN</td>\n",
       "      <td>NaN</td>\n",
       "      <td>NaN</td>\n",
       "      <td>NaN</td>\n",
       "      <td>NaN</td>\n",
       "      <td>Red</td>\n",
       "    </tr>\n",
       "    <tr>\n",
       "      <th>freq</th>\n",
       "      <td>NaN</td>\n",
       "      <td>NaN</td>\n",
       "      <td>NaN</td>\n",
       "      <td>NaN</td>\n",
       "      <td>NaN</td>\n",
       "      <td>112</td>\n",
       "    </tr>\n",
       "    <tr>\n",
       "      <th>mean</th>\n",
       "      <td>10497.462500</td>\n",
       "      <td>107188.361635</td>\n",
       "      <td>237.157781</td>\n",
       "      <td>4.382396</td>\n",
       "      <td>2.500000</td>\n",
       "      <td>NaN</td>\n",
       "    </tr>\n",
       "    <tr>\n",
       "      <th>std</th>\n",
       "      <td>9552.425037</td>\n",
       "      <td>179432.244940</td>\n",
       "      <td>517.155763</td>\n",
       "      <td>10.532512</td>\n",
       "      <td>1.711394</td>\n",
       "      <td>NaN</td>\n",
       "    </tr>\n",
       "    <tr>\n",
       "      <th>min</th>\n",
       "      <td>1939.000000</td>\n",
       "      <td>0.000080</td>\n",
       "      <td>0.008400</td>\n",
       "      <td>-11.920000</td>\n",
       "      <td>0.000000</td>\n",
       "      <td>NaN</td>\n",
       "    </tr>\n",
       "    <tr>\n",
       "      <th>25%</th>\n",
       "      <td>3344.250000</td>\n",
       "      <td>0.000865</td>\n",
       "      <td>0.102750</td>\n",
       "      <td>-6.232500</td>\n",
       "      <td>1.000000</td>\n",
       "      <td>NaN</td>\n",
       "    </tr>\n",
       "    <tr>\n",
       "      <th>50%</th>\n",
       "      <td>5776.000000</td>\n",
       "      <td>0.070500</td>\n",
       "      <td>0.762500</td>\n",
       "      <td>8.313000</td>\n",
       "      <td>2.500000</td>\n",
       "      <td>NaN</td>\n",
       "    </tr>\n",
       "    <tr>\n",
       "      <th>75%</th>\n",
       "      <td>15055.500000</td>\n",
       "      <td>198050.000000</td>\n",
       "      <td>42.750000</td>\n",
       "      <td>13.697500</td>\n",
       "      <td>4.000000</td>\n",
       "      <td>NaN</td>\n",
       "    </tr>\n",
       "    <tr>\n",
       "      <th>max</th>\n",
       "      <td>40000.000000</td>\n",
       "      <td>849420.000000</td>\n",
       "      <td>1948.500000</td>\n",
       "      <td>20.060000</td>\n",
       "      <td>5.000000</td>\n",
       "      <td>NaN</td>\n",
       "    </tr>\n",
       "  </tbody>\n",
       "</table>\n",
       "</div>"
      ],
      "text/plain": [
       "        Temperature (K)  Luminosity(L/Lo)  Radius(R/Ro)  \\\n",
       "count        240.000000        240.000000    240.000000   \n",
       "unique              NaN               NaN           NaN   \n",
       "top                 NaN               NaN           NaN   \n",
       "freq                NaN               NaN           NaN   \n",
       "mean       10497.462500     107188.361635    237.157781   \n",
       "std         9552.425037     179432.244940    517.155763   \n",
       "min         1939.000000          0.000080      0.008400   \n",
       "25%         3344.250000          0.000865      0.102750   \n",
       "50%         5776.000000          0.070500      0.762500   \n",
       "75%        15055.500000     198050.000000     42.750000   \n",
       "max        40000.000000     849420.000000   1948.500000   \n",
       "\n",
       "        Absolute magnitude(Mv)   Star type Star color  \n",
       "count               240.000000  240.000000        240  \n",
       "unique                     NaN         NaN         19  \n",
       "top                        NaN         NaN        Red  \n",
       "freq                       NaN         NaN        112  \n",
       "mean                  4.382396    2.500000        NaN  \n",
       "std                  10.532512    1.711394        NaN  \n",
       "min                 -11.920000    0.000000        NaN  \n",
       "25%                  -6.232500    1.000000        NaN  \n",
       "50%                   8.313000    2.500000        NaN  \n",
       "75%                  13.697500    4.000000        NaN  \n",
       "max                  20.060000    5.000000        NaN  "
      ]
     },
     "execution_count": 9,
     "metadata": {},
     "output_type": "execute_result"
    }
   ],
   "source": [
    "df.describe(include = 'all')"
   ]
  },
  {
   "cell_type": "markdown",
   "id": "352d4069",
   "metadata": {},
   "source": [
    "**Вывод**\n",
    "`Temperature (K)` простирается от 2_000 градусов (красные звёзды) до 40_000 градусов (голубые звезды)    \n",
    "`Luminosity(L/Lo)` в относительной светимости std достигает 179432 при среднем значении 107188\n",
    "Так же в данных характеристиках очень большой разброс значений \n",
    "\n",
    "В `Star Color` 19 значений уникальных значений. В будущей их обработаем. "
   ]
  },
  {
   "cell_type": "markdown",
   "id": "simple-subdivision",
   "metadata": {},
   "source": [
    "## Предобработка и анализ данных"
   ]
  },
  {
   "cell_type": "markdown",
   "id": "7f9cc65a",
   "metadata": {},
   "source": [
    "Проверка на пропуски"
   ]
  },
  {
   "cell_type": "code",
   "execution_count": 10,
   "id": "flush-dream",
   "metadata": {},
   "outputs": [
    {
     "data": {
      "text/html": [
       "<div>\n",
       "<style scoped>\n",
       "    .dataframe tbody tr th:only-of-type {\n",
       "        vertical-align: middle;\n",
       "    }\n",
       "\n",
       "    .dataframe tbody tr th {\n",
       "        vertical-align: top;\n",
       "    }\n",
       "\n",
       "    .dataframe thead th {\n",
       "        text-align: right;\n",
       "    }\n",
       "</style>\n",
       "<table border=\"1\" class=\"dataframe\">\n",
       "  <thead>\n",
       "    <tr style=\"text-align: right;\">\n",
       "      <th></th>\n",
       "      <th>0</th>\n",
       "    </tr>\n",
       "  </thead>\n",
       "  <tbody>\n",
       "    <tr>\n",
       "      <th>Temperature (K)</th>\n",
       "      <td>0</td>\n",
       "    </tr>\n",
       "    <tr>\n",
       "      <th>Luminosity(L/Lo)</th>\n",
       "      <td>0</td>\n",
       "    </tr>\n",
       "    <tr>\n",
       "      <th>Radius(R/Ro)</th>\n",
       "      <td>0</td>\n",
       "    </tr>\n",
       "    <tr>\n",
       "      <th>Absolute magnitude(Mv)</th>\n",
       "      <td>0</td>\n",
       "    </tr>\n",
       "    <tr>\n",
       "      <th>Star type</th>\n",
       "      <td>0</td>\n",
       "    </tr>\n",
       "    <tr>\n",
       "      <th>Star color</th>\n",
       "      <td>0</td>\n",
       "    </tr>\n",
       "  </tbody>\n",
       "</table>\n",
       "</div>"
      ],
      "text/plain": [
       "                        0\n",
       "Temperature (K)         0\n",
       "Luminosity(L/Lo)        0\n",
       "Radius(R/Ro)            0\n",
       "Absolute magnitude(Mv)  0\n",
       "Star type               0\n",
       "Star color              0"
      ]
     },
     "execution_count": 10,
     "metadata": {},
     "output_type": "execute_result"
    }
   ],
   "source": [
    "df.isna().sum().to_frame()"
   ]
  },
  {
   "cell_type": "markdown",
   "id": "1f0945ea",
   "metadata": {},
   "source": [
    "На дубликаты"
   ]
  },
  {
   "cell_type": "code",
   "execution_count": 11,
   "id": "2b38ec86",
   "metadata": {},
   "outputs": [
    {
     "data": {
      "text/plain": [
       "0"
      ]
     },
     "execution_count": 11,
     "metadata": {},
     "output_type": "execute_result"
    }
   ],
   "source": [
    "df.duplicated().sum()"
   ]
  },
  {
   "cell_type": "code",
   "execution_count": 12,
   "id": "9c34bdc7",
   "metadata": {},
   "outputs": [
    {
     "data": {
      "image/png": "[encoded data removed]",
      "text/plain": [
       "<Figure size 1066.74x1000 with 20 Axes>"
      ]
     },
     "metadata": {},
     "output_type": "display_data"
    }
   ],
   "source": [
    "sns.pairplot(df, hue='Star type');"
   ]
  },
  {
   "cell_type": "markdown",
   "id": "ce4ce9c1",
   "metadata": {},
   "source": [
    "С увеличением температуры начинает уменьшаться абсолютная звёздная величина    \n",
    "При помощи радиуса можно выделить тип звезды     \n",
    "Хорошо выделяются кластеры типа звезды в зависимости абсолютной звёздой величины"
   ]
  },
  {
   "cell_type": "code",
   "execution_count": 13,
   "id": "642f0f6a",
   "metadata": {},
   "outputs": [
    {
     "data": {
      "image/png": "[encoded data removed]",
      "text/plain": [
       "<Figure size 1700x1300 with 1 Axes>"
      ]
     },
     "metadata": {},
     "output_type": "display_data"
    },
    {
     "data": {
      "image/png": "[encoded data removed]",
      "text/plain": [
       "<Figure size 1700x1300 with 1 Axes>"
      ]
     },
     "metadata": {},
     "output_type": "display_data"
    },
    {
     "data": {
      "image/png": "[encoded data removed]",
      "text/plain": [
       "<Figure size 1700x1300 with 1 Axes>"
      ]
     },
     "metadata": {},
     "output_type": "display_data"
    }
   ],
   "source": [
    "fig = plt.figure()\n",
    "for i in range(len(num_cols)):\n",
    "    plt.subplot(len(num_cols), 1, i+1)\n",
    "    df[num_cols[i]].plot(kind = 'hist', bins = 15, grid = True, legend = num_cols[i], figsize = (17,13))\n",
    "    plt.show()"
   ]
  },
  {
   "cell_type": "markdown",
   "id": "5b4686a6",
   "metadata": {},
   "source": [
    "В первых двух столбцах большинство значений находится в диапазоне от 0 до 150. \n",
    "Будь датасет больше или не будь задача связанная с астрономией, пришлось бы обрабатывать значения от выбросов"
   ]
  },
  {
   "cell_type": "markdown",
   "id": "90ca9cf5",
   "metadata": {},
   "source": [
    "Посмотрим получше на категориальные переменные \n",
    "Напоминаю в начале надо исправить ошибки в цвете звёзд "
   ]
  },
  {
   "cell_type": "code",
   "execution_count": 14,
   "id": "489d6c70",
   "metadata": {},
   "outputs": [
    {
     "data": {
      "text/plain": [
       "Red                   112\n",
       "Blue                   55\n",
       "Blue-white             26\n",
       "Blue White             10\n",
       "yellow-white            8\n",
       "White                   7\n",
       "Blue white              3\n",
       "Yellowish White         3\n",
       "white                   3\n",
       "Whitish                 2\n",
       "Orange                  2\n",
       "yellowish               2\n",
       "Pale yellow orange      1\n",
       "White-Yellow            1\n",
       "Blue                    1\n",
       "Yellowish               1\n",
       "Orange-Red              1\n",
       "Blue white              1\n",
       "Blue-White              1\n",
       "Name: Star color, dtype: int64"
      ]
     },
     "execution_count": 14,
     "metadata": {},
     "output_type": "execute_result"
    }
   ],
   "source": [
    "df['Star color'].value_counts()"
   ]
  },
  {
   "cell_type": "markdown",
   "id": "24aff36e",
   "metadata": {},
   "source": [
    "1) Можем увидеть, что есть опечатки в названиях. Например `Blue-white` и `Blue White`    \n",
    "2) Некоторых классы существуют в единичном экземпляре.    \n",
    "3) Так же открыв учебники по астронимии у нас в классификации цвета звёзд существуют неизвестные классы для науки.   \n",
    "\n",
    "Делаю предположение, что в данных целевая характеристика определена правильно и при помощи маленькой функции я перезапишу цвет звезды в зависимости от температуры "
   ]
  },
  {
   "cell_type": "markdown",
   "id": "fa6a49d2",
   "metadata": {},
   "source": [
    "Так же хочу выделить, что есть классы звезд, которых не существует в стандартной спецификации "
   ]
  },
  {
   "cell_type": "code",
   "execution_count": 15,
   "id": "2853013d",
   "metadata": {},
   "outputs": [],
   "source": [
    "def star_color(x):\n",
    "    if x > 30000:\n",
    "        return 'Blue'\n",
    "    elif 30000 >= x > 10000:\n",
    "        return 'Blue_white'\n",
    "    elif 10000 >= x > 7400:\n",
    "        return 'White'\n",
    "    elif 7400 >= x > 6000:\n",
    "        return 'Yellow_white'\n",
    "    elif 6000 >= x > 5000:\n",
    "        return 'Yellow'\n",
    "    elif 5000 >= x > 3800:\n",
    "        return 'Orange'\n",
    "    else:\n",
    "        return 'Red'"
   ]
  },
  {
   "cell_type": "code",
   "execution_count": 16,
   "id": "dc2db427",
   "metadata": {},
   "outputs": [],
   "source": [
    "df['Star color'] = df['Temperature (K)'].apply(star_color)"
   ]
  },
  {
   "cell_type": "code",
   "execution_count": 17,
   "id": "8c906252",
   "metadata": {},
   "outputs": [
    {
     "data": {
      "text/plain": [
       "Red             109\n",
       "Blue_white       76\n",
       "White            21\n",
       "Blue             14\n",
       "Yellow_white      7\n",
       "Orange            7\n",
       "Yellow            6\n",
       "Name: Star color, dtype: int64"
      ]
     },
     "execution_count": 17,
     "metadata": {},
     "output_type": "execute_result"
    }
   ],
   "source": [
    "df['Star color'].value_counts()"
   ]
  },
  {
   "cell_type": "code",
   "execution_count": 18,
   "id": "2a62669c",
   "metadata": {},
   "outputs": [],
   "source": [
    "df['Star type'] = df['Star type'].astype(dtype='object')"
   ]
  },
  {
   "cell_type": "markdown",
   "id": "4862ce16",
   "metadata": {},
   "source": [
    "### Обработка при помощи ONE и StandartScaler"
   ]
  },
  {
   "cell_type": "code",
   "execution_count": 19,
   "id": "97a83321",
   "metadata": {},
   "outputs": [],
   "source": [
    "X = df.drop(target, axis = 1).copy()\n",
    "y = df[target].copy()"
   ]
  },
  {
   "cell_type": "code",
   "execution_count": 20,
   "id": "2950e369",
   "metadata": {},
   "outputs": [],
   "source": [
    "X_train, X_test, y_train, y_test = train_test_split(X,y, test_size=0.2, random_state=3214)"
   ]
  },
  {
   "cell_type": "code",
   "execution_count": 21,
   "id": "bbded04e",
   "metadata": {},
   "outputs": [
    {
     "name": "stdout",
     "output_type": "stream",
     "text": [
      "В тренировочной выборке, размеры матрицы признаков  = (192, 5), целевого признака = (192, 1)\n",
      "В тестовой выборке, размеры матрицы признаков  = (48, 5), целевого признака = (48, 1)\n"
     ]
    }
   ],
   "source": [
    "for x,y,z in zip((y_train, y_test),(X_train, X_test), ('тренировочной', 'тестовой')):\n",
    "    print(f'В {z} выборке, размеры матрицы признаков  = {y.shape}, целевого признака = {x.shape}')"
   ]
  },
  {
   "cell_type": "code",
   "execution_count": 22,
   "id": "23f77bfc",
   "metadata": {},
   "outputs": [],
   "source": [
    "for i in [X_train, X_test, y_train, y_test]:\n",
    "    i.reset_index(drop=True, inplace=True)"
   ]
  },
  {
   "cell_type": "markdown",
   "id": "a838617b",
   "metadata": {},
   "source": [
    "Обрабатываем категориальные признаки"
   ]
  },
  {
   "cell_type": "code",
   "execution_count": 23,
   "id": "c49ad39a",
   "metadata": {},
   "outputs": [],
   "source": [
    "OHE = OneHotEncoder(sparse=False, drop = 'first', handle_unknown = 'error')\n",
    "\n",
    "X_train_cat = pd.DataFrame(OHE.fit_transform(X_train.loc[:,cat_cols]))\n",
    "X_train_cat.columns = OHE.get_feature_names_out(cat_cols)\n",
    "X_train.drop(cat_cols, axis = 1, inplace = True)\n",
    "X_train = pd.concat([X_train, X_train_cat], axis = 1)\n",
    "\n",
    "X_test_cat = pd.DataFrame(OHE.transform(X_test.loc[:,cat_cols]))\n",
    "X_test_cat.columns = OHE.get_feature_names_out(cat_cols)\n",
    "X_test.drop(cat_cols, axis = 1, inplace = True)\n",
    "X_test = pd.concat([X_test, X_test_cat], axis = 1)\n"
   ]
  },
  {
   "cell_type": "markdown",
   "id": "b565271f",
   "metadata": {},
   "source": [
    "Переходим к масштабированию числовых признаков"
   ]
  },
  {
   "cell_type": "code",
   "execution_count": 24,
   "id": "973d3f41",
   "metadata": {},
   "outputs": [],
   "source": [
    "scaler = StandardScaler()\n",
    "\n",
    "X_train[num_cols] = scaler.fit_transform(X_train[num_cols])\n",
    "X_test[num_cols] = scaler.transform(X_test[num_cols])"
   ]
  },
  {
   "cell_type": "code",
   "execution_count": 25,
   "id": "b604c5b4",
   "metadata": {},
   "outputs": [
    {
     "data": {
      "text/html": [
       "<div>\n",
       "<style scoped>\n",
       "    .dataframe tbody tr th:only-of-type {\n",
       "        vertical-align: middle;\n",
       "    }\n",
       "\n",
       "    .dataframe tbody tr th {\n",
       "        vertical-align: top;\n",
       "    }\n",
       "\n",
       "    .dataframe thead th {\n",
       "        text-align: right;\n",
       "    }\n",
       "</style>\n",
       "<table border=\"1\" class=\"dataframe\">\n",
       "  <thead>\n",
       "    <tr style=\"text-align: right;\">\n",
       "      <th></th>\n",
       "      <th>Luminosity(L/Lo)</th>\n",
       "      <th>Radius(R/Ro)</th>\n",
       "      <th>Absolute magnitude(Mv)</th>\n",
       "      <th>Star type_1</th>\n",
       "      <th>Star type_2</th>\n",
       "      <th>Star type_3</th>\n",
       "      <th>Star type_4</th>\n",
       "      <th>Star type_5</th>\n",
       "      <th>Star color_Blue_white</th>\n",
       "      <th>Star color_Orange</th>\n",
       "      <th>Star color_Red</th>\n",
       "      <th>Star color_White</th>\n",
       "      <th>Star color_Yellow</th>\n",
       "      <th>Star color_Yellow_white</th>\n",
       "    </tr>\n",
       "  </thead>\n",
       "  <tbody>\n",
       "    <tr>\n",
       "      <th>0</th>\n",
       "      <td>-0.627498</td>\n",
       "      <td>-0.440475</td>\n",
       "      <td>-0.145987</td>\n",
       "      <td>0.0</td>\n",
       "      <td>0.0</td>\n",
       "      <td>1.0</td>\n",
       "      <td>0.0</td>\n",
       "      <td>0.0</td>\n",
       "      <td>0.0</td>\n",
       "      <td>0.0</td>\n",
       "      <td>0.0</td>\n",
       "      <td>0.0</td>\n",
       "      <td>0.0</td>\n",
       "      <td>1.0</td>\n",
       "    </tr>\n",
       "    <tr>\n",
       "      <th>1</th>\n",
       "      <td>0.496468</td>\n",
       "      <td>2.230756</td>\n",
       "      <td>-1.387146</td>\n",
       "      <td>0.0</td>\n",
       "      <td>0.0</td>\n",
       "      <td>0.0</td>\n",
       "      <td>0.0</td>\n",
       "      <td>1.0</td>\n",
       "      <td>0.0</td>\n",
       "      <td>0.0</td>\n",
       "      <td>1.0</td>\n",
       "      <td>0.0</td>\n",
       "      <td>0.0</td>\n",
       "      <td>0.0</td>\n",
       "    </tr>\n",
       "    <tr>\n",
       "      <th>2</th>\n",
       "      <td>-0.627506</td>\n",
       "      <td>-0.442579</td>\n",
       "      <td>1.477650</td>\n",
       "      <td>0.0</td>\n",
       "      <td>0.0</td>\n",
       "      <td>0.0</td>\n",
       "      <td>0.0</td>\n",
       "      <td>0.0</td>\n",
       "      <td>0.0</td>\n",
       "      <td>0.0</td>\n",
       "      <td>1.0</td>\n",
       "      <td>0.0</td>\n",
       "      <td>0.0</td>\n",
       "      <td>0.0</td>\n",
       "    </tr>\n",
       "    <tr>\n",
       "      <th>3</th>\n",
       "      <td>-0.627506</td>\n",
       "      <td>-0.442030</td>\n",
       "      <td>0.756244</td>\n",
       "      <td>1.0</td>\n",
       "      <td>0.0</td>\n",
       "      <td>0.0</td>\n",
       "      <td>0.0</td>\n",
       "      <td>0.0</td>\n",
       "      <td>0.0</td>\n",
       "      <td>0.0</td>\n",
       "      <td>1.0</td>\n",
       "      <td>0.0</td>\n",
       "      <td>0.0</td>\n",
       "      <td>0.0</td>\n",
       "    </tr>\n",
       "    <tr>\n",
       "      <th>4</th>\n",
       "      <td>-0.627506</td>\n",
       "      <td>-0.442717</td>\n",
       "      <td>0.754351</td>\n",
       "      <td>0.0</td>\n",
       "      <td>1.0</td>\n",
       "      <td>0.0</td>\n",
       "      <td>0.0</td>\n",
       "      <td>0.0</td>\n",
       "      <td>1.0</td>\n",
       "      <td>0.0</td>\n",
       "      <td>0.0</td>\n",
       "      <td>0.0</td>\n",
       "      <td>0.0</td>\n",
       "      <td>0.0</td>\n",
       "    </tr>\n",
       "  </tbody>\n",
       "</table>\n",
       "</div>"
      ],
      "text/plain": [
       "   Luminosity(L/Lo)  Radius(R/Ro)  Absolute magnitude(Mv)  Star type_1  \\\n",
       "0         -0.627498     -0.440475               -0.145987          0.0   \n",
       "1          0.496468      2.230756               -1.387146          0.0   \n",
       "2         -0.627506     -0.442579                1.477650          0.0   \n",
       "3         -0.627506     -0.442030                0.756244          1.0   \n",
       "4         -0.627506     -0.442717                0.754351          0.0   \n",
       "\n",
       "   Star type_2  Star type_3  Star type_4  Star type_5  Star color_Blue_white  \\\n",
       "0          0.0          1.0          0.0          0.0                    0.0   \n",
       "1          0.0          0.0          0.0          1.0                    0.0   \n",
       "2          0.0          0.0          0.0          0.0                    0.0   \n",
       "3          0.0          0.0          0.0          0.0                    0.0   \n",
       "4          1.0          0.0          0.0          0.0                    1.0   \n",
       "\n",
       "   Star color_Orange  Star color_Red  Star color_White  Star color_Yellow  \\\n",
       "0                0.0             0.0               0.0                0.0   \n",
       "1                0.0             1.0               0.0                0.0   \n",
       "2                0.0             1.0               0.0                0.0   \n",
       "3                0.0             1.0               0.0                0.0   \n",
       "4                0.0             0.0               0.0                0.0   \n",
       "\n",
       "   Star color_Yellow_white  \n",
       "0                      1.0  \n",
       "1                      0.0  \n",
       "2                      0.0  \n",
       "3                      0.0  \n",
       "4                      0.0  "
      ]
     },
     "execution_count": 25,
     "metadata": {},
     "output_type": "execute_result"
    }
   ],
   "source": [
    "X_train.head()\n",
    "#посмотрим как выглядит тренировочный набор данных после обработки "
   ]
  },
  {
   "cell_type": "markdown",
   "id": "funded-electric",
   "metadata": {},
   "source": [
    "## Построение базовой нейронной сети"
   ]
  },
  {
   "cell_type": "markdown",
   "id": "53d75b01",
   "metadata": {},
   "source": [
    "В начале переведём наши данные к тензорам"
   ]
  },
  {
   "cell_type": "code",
   "execution_count": 26,
   "id": "forced-concentrate",
   "metadata": {
    "scrolled": true
   },
   "outputs": [],
   "source": [
    "X_train = torch.FloatTensor(X_train.values)\n",
    "X_test  = torch.FloatTensor(X_test.values)\n",
    "y_train  = torch.FloatTensor(y_train.values)\n",
    "y_test = torch.FloatTensor(y_test.values)"
   ]
  },
  {
   "cell_type": "markdown",
   "id": "6374b245",
   "metadata": {},
   "source": [
    "Настраиваем количество нейронов на слоях сети "
   ]
  },
  {
   "cell_type": "code",
   "execution_count": 27,
   "id": "1f20bd45",
   "metadata": {},
   "outputs": [],
   "source": [
    "n_in_neurons = 14\n",
    "n_hidden_neurons_1 = 50\n",
    "n_hidden_neurons_2 = 20\n",
    "n_out_neurons = 1"
   ]
  },
  {
   "cell_type": "code",
   "execution_count": 28,
   "id": "77427d31",
   "metadata": {},
   "outputs": [],
   "source": [
    "class Model(nn.Module):\n",
    "    def __init__(self, n_in_neurons, n_hidden_neurons_1, n_hidden_neurons_2, n_out_neurons):\n",
    "        super(Model, self).__init__()\n",
    "        \n",
    "        self.fc1 = nn.Linear(n_in_neurons, n_hidden_neurons_1)\n",
    "        self.act1 = nn.ReLU()\n",
    "        self.fc2 = nn.Linear(n_hidden_neurons_1, n_hidden_neurons_2)\n",
    "        self.act2 = nn.ReLU()\n",
    "        self.fc3 = nn.Linear(n_hidden_neurons_2, n_out_neurons)\n",
    "\n",
    "    def forward(self, x):\n",
    "        x = self.fc1(x)\n",
    "        x = self.act1(x)\n",
    "        x = self.fc2(x)\n",
    "        x = self.act2(x)\n",
    "        x = self.fc3(x)\n",
    "        \n",
    "        return x          "
   ]
  },
  {
   "cell_type": "code",
   "execution_count": 29,
   "id": "1d7f4a50",
   "metadata": {},
   "outputs": [],
   "source": [
    "net = Model(n_in_neurons, n_hidden_neurons_1, n_hidden_neurons_2, n_out_neurons) #модель \n",
    "loss=nn.MSELoss()\n",
    "\n",
    "optimizer = torch.optim.Adam(net.parameters(), lr=1e-3)\n",
    "optimizer1 = torch.optim.RMSprop(net.parameters(), lr=1e-3)\n",
    "optimizer2 = torch.optim.Adam(net.parameters(), lr=1e-2)\n",
    "optimizer3 = torch.optim.Adamax(net.parameters(), lr=1e-2)"
   ]
  },
  {
   "cell_type": "code",
   "execution_count": 30,
   "id": "7e800895",
   "metadata": {},
   "outputs": [],
   "source": [
    "def cross_vall_score(model, X_train, y_train, optim, num_epochs=250, batch_size=6, k=4, loss=nn.MSELoss()):\n",
    "    '''Функция для кросс-валидации нейронной сети'''\n",
    "    num_batches = ceil(len(X_train)/batch_size) # количество батчей \n",
    "    num_val_samples = len(X_train)//k # размер валидационной выборки \n",
    "    all_scores = []\n",
    "    \n",
    "    for i in range(k): \n",
    "        #разбиваем на валидационную и тренировочную выборку \n",
    "        print('processing fold #', i+1, end='  ')\n",
    "        \n",
    "        #обнуляем веса нейронной сети\n",
    "        for layer in model.children():\n",
    "            if hasattr(layer, 'reset_parameters'):\n",
    "                layer.reset_parameters()\n",
    "            \n",
    "        #валидационная выборка\n",
    "        val_data = X_train[i*num_val_samples: (i+1)*num_val_samples]\n",
    "        val_targets = y_train[i*num_val_samples: (i+1)*num_val_samples]\n",
    "        \n",
    "        #тренировочная выборка\n",
    "        partial_train_data = np.concatenate([X_train[:i*num_val_samples], X_train[(i+1)*num_val_samples:]], axis = 0)\n",
    "        partial_train_targets = np.concatenate([y_train[:i*num_val_samples], y_train[(i+1)*num_val_samples:]], axis = 0)\n",
    "        \n",
    "        #приводим наши данные к формату FloatTensor\n",
    "        val_data = torch.FloatTensor(val_data)\n",
    "        val_targets = torch.FloatTensor(val_targets)\n",
    "        partial_train_data = torch.FloatTensor(partial_train_data)\n",
    "        partial_train_targets = torch.FloatTensor(partial_train_targets)\n",
    "        \n",
    "        for epoch in range(num_epochs):\n",
    "            #создаем случайную перестановку индексов для каждой эпохи\n",
    "            order = np.random.permutation(len(partial_train_data))\n",
    "            for batch_idx in range(num_batches):\n",
    "                start_index = batch_idx * batch_size #стартовый индекс батча\n",
    "                optim.zero_grad() #обнуляем градиаенты\n",
    "                \n",
    "                #извлекаем батч\n",
    "                batch_indexes = order[start_index:start_index+batch_size]\n",
    "                X_batch = partial_train_data[batch_indexes]\n",
    "                y_batch = partial_train_targets[batch_indexes]\n",
    "                \n",
    "                preds = net.forward(X_batch).flatten() #получаем предсказание\n",
    "                loss_value = loss(preds, y_batch.flatten()) #высчитываем ошибку\n",
    "                loss_value.backward()\n",
    "                optim.step()\n",
    "                \n",
    "            if epoch == num_epochs-1:\n",
    "                model.eval()\n",
    "                val_preds = model.forward(val_data)\n",
    "                RMSE_loss = torch.sqrt(loss(val_targets, val_preds))\n",
    "                all_scores.append(RMSE_loss)\n",
    "                print('RMSE метрика =', float(RMSE_loss))\n",
    "    print('Средняя RMSE метрика =', int(sum(all_scores)/len(all_scores)),  '\\n')\n",
    "    return"
   ]
  },
  {
   "cell_type": "code",
   "execution_count": 31,
   "id": "1591037f",
   "metadata": {},
   "outputs": [
    {
     "name": "stdout",
     "output_type": "stream",
     "text": [
      "Adam (\n",
      "Parameter Group 0\n",
      "    amsgrad: False\n",
      "    betas: (0.9, 0.999)\n",
      "    capturable: False\n",
      "    differentiable: False\n",
      "    eps: 1e-08\n",
      "    foreach: None\n",
      "    fused: False\n",
      "    lr: 0.001\n",
      "    maximize: False\n",
      "    weight_decay: 0\n",
      ")\n",
      "processing fold # 1  RMSE метрика = 6077.55224609375\n",
      "processing fold # 2  RMSE метрика = 5214.10009765625\n",
      "processing fold # 3  RMSE метрика = 5345.73974609375\n",
      "processing fold # 4  RMSE метрика = 5070.201171875\n",
      "Средняя RMSE метрика = 5426 \n",
      "\n",
      "RMSprop (\n",
      "Parameter Group 0\n",
      "    alpha: 0.99\n",
      "    centered: False\n",
      "    differentiable: False\n",
      "    eps: 1e-08\n",
      "    foreach: None\n",
      "    lr: 0.001\n",
      "    maximize: False\n",
      "    momentum: 0\n",
      "    weight_decay: 0\n",
      ")\n",
      "processing fold # 1  RMSE метрика = 6231.0546875\n",
      "processing fold # 2  RMSE метрика = 6566.34716796875\n",
      "processing fold # 3  RMSE метрика = 5826.9384765625\n",
      "processing fold # 4  RMSE метрика = 6129.68310546875\n",
      "Средняя RMSE метрика = 6188 \n",
      "\n",
      "Adam (\n",
      "Parameter Group 0\n",
      "    amsgrad: False\n",
      "    betas: (0.9, 0.999)\n",
      "    capturable: False\n",
      "    differentiable: False\n",
      "    eps: 1e-08\n",
      "    foreach: None\n",
      "    fused: False\n",
      "    lr: 0.01\n",
      "    maximize: False\n",
      "    weight_decay: 0\n",
      ")\n",
      "processing fold # 1  RMSE метрика = 3433.729248046875\n",
      "processing fold # 2  RMSE метрика = 3760.662109375\n",
      "processing fold # 3  RMSE метрика = 3670.81787109375\n",
      "processing fold # 4  RMSE метрика = 4127.22509765625\n",
      "Средняя RMSE метрика = 3748 \n",
      "\n",
      "Adamax (\n",
      "Parameter Group 0\n",
      "    betas: (0.9, 0.999)\n",
      "    eps: 1e-08\n",
      "    foreach: None\n",
      "    lr: 0.01\n",
      "    maximize: False\n",
      "    weight_decay: 0\n",
      ")\n",
      "processing fold # 1  RMSE метрика = 4299.58447265625\n",
      "processing fold # 2  RMSE метрика = 3139.442138671875\n",
      "processing fold # 3  RMSE метрика = 3418.0185546875\n",
      "processing fold # 4  RMSE метрика = 3708.921875\n",
      "Средняя RMSE метрика = 3641 \n",
      "\n"
     ]
    }
   ],
   "source": [
    "x = [optimizer, optimizer1, optimizer2, optimizer3]\n",
    "\n",
    "for i in x:\n",
    "    print(i)\n",
    "    cross_vall_score(net, X_train, y_train, i)"
   ]
  },
  {
   "cell_type": "markdown",
   "id": "d6d090b1",
   "metadata": {},
   "source": [
    "Лучше всего себя показала оптимизация Adamax с шагом сходимости в 0.01"
   ]
  },
  {
   "cell_type": "code",
   "execution_count": 32,
   "id": "d8226e00",
   "metadata": {},
   "outputs": [],
   "source": [
    "def neiron(model, X_train, y_train, optim, num_epochs = 250, batch_size = 6):\n",
    "    '''Функция обучает нейронную сеть батчами с заданным количеством эпох'''\n",
    "    num_batches = ceil(len(X_train)/batch_size)\n",
    "    for epoch in range(num_epochs):\n",
    "        order = np.random.permutation(len(X_train))\n",
    "        for batch_idx in range(num_batches):\n",
    "            start_index = batch_idx * batch_size \n",
    "            optim.zero_grad() \n",
    "        \n",
    "            batch_indexes = order[start_index:start_index+batch_size] #индексы объектов текущего обатча\n",
    "            X_batch = X_train[batch_indexes]\n",
    "            y_batch = y_train[batch_indexes]\n",
    "        \n",
    "            preds = model.forward(X_batch).flatten() \n",
    "            loss_value = loss(preds, y_batch.flatten())\n",
    "            loss_value.backward()\n",
    "            optim.step()\n",
    "    return  model"
   ]
  },
  {
   "cell_type": "code",
   "execution_count": 33,
   "id": "b7622775",
   "metadata": {},
   "outputs": [],
   "source": [
    "net = neiron(net, X_train, y_train, optimizer3) #обучаем модель с заданными параметрами "
   ]
  },
  {
   "cell_type": "code",
   "execution_count": 34,
   "id": "3a274910",
   "metadata": {},
   "outputs": [
    {
     "name": "stdout",
     "output_type": "stream",
     "text": [
      "RMSE нейронной сети на тестовой выборке =  3528\n"
     ]
    }
   ],
   "source": [
    "net.eval()\n",
    "test_preds = net.forward(X_test)\n",
    "print('RMSE нейронной сети на тестовой выборке = ', int(torch.sqrt(loss(y_test, test_preds))))"
   ]
  },
  {
   "cell_type": "markdown",
   "id": "97d1a5ed",
   "metadata": {},
   "source": [
    "*Мы получили очень хорошие показатели. Попробуем их визуализировать и в будущем улучшить*"
   ]
  },
  {
   "cell_type": "code",
   "execution_count": 35,
   "id": "a39669e2",
   "metadata": {},
   "outputs": [],
   "source": [
    "def vizualization(target, preds, width = 0.3):\n",
    "    '''Визуализирует предсказания нейронной сети на тестовой выборке'''\n",
    "    y1 = target.numpy().reshape([-1])\n",
    "    y2 = preds.reshape([-1]).detach().numpy()\n",
    "    x = np.arange(len(y1))\n",
    "    \n",
    "    fig,ax = plt.subplots()\n",
    "    rects1 = ax.bar(x - width/2, y1, width, label = 'Факт')\n",
    "    rects2 = ax.bar(x + width/2, y2, width, label = 'Прогноз')\n",
    "    ax.set_title('Факт-Прогноз')\n",
    "    ax.set_xticks(x)\n",
    "    ax.set_xlabel('Номер звезды в таблице данных')\n",
    "    ax.set_ylabel('Температура звезды')\n",
    "    fig.set_figwidth(17)\n",
    "    fig.set_figheight(10)\n",
    "    ax.legend();"
   ]
  },
  {
   "cell_type": "code",
   "execution_count": 36,
   "id": "3ea28992",
   "metadata": {},
   "outputs": [
    {
     "data": {
      "image/png": "[encoded data removed]",
      "text/plain": [
       "<Figure size 1700x1000 with 1 Axes>"
      ]
     },
     "metadata": {},
     "output_type": "display_data"
    }
   ],
   "source": [
    "vizualization(y_test, test_preds)"
   ]
  },
  {
   "cell_type": "markdown",
   "id": "25c893cd",
   "metadata": {},
   "source": [
    "**Вывод**   \n",
    "Нейронная сеть очень хорошо предсказывает температуру звёзд у которых температура до 5000 градусов Очень плохо показал себя 36 экземпляр."
   ]
  },
  {
   "cell_type": "markdown",
   "id": "0d3e0c90",
   "metadata": {},
   "source": [
    "## Улучшение нейронной сети"
   ]
  },
  {
   "cell_type": "markdown",
   "id": "d06ce18f",
   "metadata": {},
   "source": [
    "Для улучшения нейронной сети попробуем применить Dropuot и BatchNorm1d. Далее проверим, позволят ли данные методы улучшить нашу нейронную сеть"
   ]
  },
  {
   "cell_type": "code",
   "execution_count": 37,
   "id": "f6d3307c",
   "metadata": {},
   "outputs": [],
   "source": [
    "class Model(nn.Module):\n",
    "    def __init__(self, n_in_neurons, n_hidden_neurons_1, n_hidden_neurons_2, n_out_neurons):\n",
    "        super(Model, self).__init__()\n",
    "        \n",
    "        self.fc1 = nn.Linear(n_in_neurons, n_hidden_neurons_1)\n",
    "        self.bn1 = nn.BatchNorm1d(n_hidden_neurons_1)\n",
    "        self.act1 = nn.ReLU()\n",
    "        self.dp2 = nn.Dropout(p=0.2)\n",
    "        self.fc2 = nn.Linear(n_hidden_neurons_1, n_hidden_neurons_2)\n",
    "        self.bn2 = nn.BatchNorm1d(n_hidden_neurons_2)\n",
    "        self.act2 = nn.ReLU()\n",
    "        self.fc3 = nn.Linear(n_hidden_neurons_2, n_out_neurons)\n",
    "\n",
    "    def forward(self, x):\n",
    "        x = self.fc1(x)\n",
    "        x = self.bn1(x)\n",
    "        x = self.act1(x)\n",
    "        x = self.dp2(x)\n",
    "        x = self.fc2(x)\n",
    "        x = self.bn2(x)\n",
    "        x = self.act2(x)\n",
    "        x = self.fc3(x)\n",
    "        \n",
    "        return x  "
   ]
  },
  {
   "cell_type": "code",
   "execution_count": 38,
   "id": "4c72f18e",
   "metadata": {},
   "outputs": [],
   "source": [
    "net = Model(n_in_neurons, n_hidden_neurons_1, n_hidden_neurons_2, n_out_neurons)\n",
    "loss = nn.MSELoss()\n",
    "\n",
    "\n",
    "optimizer = torch.optim.RMSprop(net.parameters(), lr=1e-3)\n",
    "optimizer1 = torch.optim.Adam(net.parameters(), lr=1e-3)\n",
    "optimizer2 = torch.optim.Adam(net.parameters(), lr=1e-2)\n",
    "optimizer3 = torch.optim.Adamax(net.parameters(), lr=1e-2)"
   ]
  },
  {
   "cell_type": "code",
   "execution_count": 39,
   "id": "261a3cf8",
   "metadata": {},
   "outputs": [
    {
     "name": "stdout",
     "output_type": "stream",
     "text": [
      "RMSprop (\n",
      "Parameter Group 0\n",
      "    alpha: 0.99\n",
      "    centered: False\n",
      "    differentiable: False\n",
      "    eps: 1e-08\n",
      "    foreach: None\n",
      "    lr: 0.001\n",
      "    maximize: False\n",
      "    momentum: 0\n",
      "    weight_decay: 0\n",
      ")\n",
      "processing fold # 1  RMSE метрика = 14379.7431640625\n",
      "processing fold # 2  RMSE метрика = 5110.20751953125\n",
      "processing fold # 3  RMSE метрика = 5173.8740234375\n",
      "processing fold # 4  RMSE метрика = 4627.24365234375\n",
      "Средняя RMSE метрика = 7322 \n",
      "\n",
      "Adam (\n",
      "Parameter Group 0\n",
      "    amsgrad: False\n",
      "    betas: (0.9, 0.999)\n",
      "    capturable: False\n",
      "    differentiable: False\n",
      "    eps: 1e-08\n",
      "    foreach: None\n",
      "    fused: False\n",
      "    lr: 0.001\n",
      "    maximize: False\n",
      "    weight_decay: 0\n",
      ")\n",
      "processing fold # 1  RMSE метрика = 4903.90380859375\n",
      "processing fold # 2  RMSE метрика = 3036.3857421875\n",
      "processing fold # 3  RMSE метрика = 3340.237548828125\n",
      "processing fold # 4  RMSE метрика = 3899.6953125\n",
      "Средняя RMSE метрика = 3795 \n",
      "\n",
      "Adam (\n",
      "Parameter Group 0\n",
      "    amsgrad: False\n",
      "    betas: (0.9, 0.999)\n",
      "    capturable: False\n",
      "    differentiable: False\n",
      "    eps: 1e-08\n",
      "    foreach: None\n",
      "    fused: False\n",
      "    lr: 0.01\n",
      "    maximize: False\n",
      "    weight_decay: 0\n",
      ")\n",
      "processing fold # 1  RMSE метрика = 3883.5087890625\n",
      "processing fold # 2  RMSE метрика = 4218.78759765625\n",
      "processing fold # 3  RMSE метрика = 3245.450927734375\n",
      "processing fold # 4  RMSE метрика = 3755.905029296875\n",
      "Средняя RMSE метрика = 3775 \n",
      "\n",
      "Adamax (\n",
      "Parameter Group 0\n",
      "    betas: (0.9, 0.999)\n",
      "    eps: 1e-08\n",
      "    foreach: None\n",
      "    lr: 0.01\n",
      "    maximize: False\n",
      "    weight_decay: 0\n",
      ")\n",
      "processing fold # 1  RMSE метрика = 3525.26318359375\n",
      "processing fold # 2  RMSE метрика = 3468.341064453125\n",
      "processing fold # 3  RMSE метрика = 3198.376708984375\n",
      "processing fold # 4  RMSE метрика = 4001.579833984375\n",
      "Средняя RMSE метрика = 3548 \n",
      "\n"
     ]
    }
   ],
   "source": [
    "x = [optimizer, optimizer1, optimizer2, optimizer3]\n",
    "\n",
    "for i in x:\n",
    "    print(i)\n",
    "    cross_vall_score(net, X_train, y_train, i)"
   ]
  },
  {
   "cell_type": "code",
   "execution_count": 40,
   "id": "36285aca",
   "metadata": {},
   "outputs": [],
   "source": [
    "net = neiron(net, X_train, y_train, optimizer3)"
   ]
  },
  {
   "cell_type": "code",
   "execution_count": 41,
   "id": "4ff88e54",
   "metadata": {},
   "outputs": [
    {
     "name": "stdout",
     "output_type": "stream",
     "text": [
      "RMSE нейронной сети на тестовой выборке =  3906\n"
     ]
    }
   ],
   "source": [
    "net.eval()\n",
    "test_preds = net.forward(X_test)\n",
    "print('RMSE нейронной сети на тестовой выборке = ', int(torch.sqrt(loss(y_test, test_preds))))"
   ]
  },
  {
   "cell_type": "code",
   "execution_count": 42,
   "id": "b840fe73",
   "metadata": {},
   "outputs": [
    {
     "data": {
      "image/png": "[encoded data removed]",
      "text/plain": [
       "<Figure size 1700x1000 with 1 Axes>"
      ]
     },
     "metadata": {},
     "output_type": "display_data"
    }
   ],
   "source": [
    "vizualization(y_test, test_preds)"
   ]
  },
  {
   "cell_type": "markdown",
   "id": "8df85834",
   "metadata": {},
   "source": [
    "## Вывод"
   ]
  },
  {
   "cell_type": "markdown",
   "id": "6549a5d0",
   "metadata": {},
   "source": [
    "Можно заметить, что после применения Dropuot и BatchNorm1d у нас RMSE увеличилось. Вместо 3528 мы с вами получили 3906 на тестовой выборке. Лучше всего использовать первую модель"
   ]
  }
 ],
 "metadata": {
  "ExecuteTimeLog": [
   {
    "duration": 1389,
    "start_time": "2022-09-30T14:54:45.388Z"
   },
   {
    "duration": 65,
    "start_time": "2022-09-30T14:55:42.657Z"
   },
   {
    "duration": 14,
    "start_time": "2022-09-30T14:55:51.165Z"
   },
   {
    "duration": 28,
    "start_time": "2022-09-30T14:56:31.608Z"
   },
   {
    "duration": 10,
    "start_time": "2022-09-30T14:56:33.306Z"
   },
   {
    "duration": 29,
    "start_time": "2022-09-30T14:56:44.313Z"
   },
   {
    "duration": 10,
    "start_time": "2022-09-30T14:56:46.097Z"
   },
   {
    "duration": 5,
    "start_time": "2022-09-30T14:56:55.057Z"
   },
   {
    "duration": 5,
    "start_time": "2022-09-30T14:57:12.663Z"
   },
   {
    "duration": 4,
    "start_time": "2022-09-30T14:57:16.920Z"
   },
   {
    "duration": 29,
    "start_time": "2022-09-30T14:57:29.790Z"
   },
   {
    "duration": 13,
    "start_time": "2022-09-30T14:57:31.958Z"
   },
   {
    "duration": 4,
    "start_time": "2022-09-30T14:58:27.905Z"
   },
   {
    "duration": 11,
    "start_time": "2022-09-30T14:58:31.281Z"
   },
   {
    "duration": 28,
    "start_time": "2022-09-30T14:58:35.902Z"
   },
   {
    "duration": 9,
    "start_time": "2022-09-30T14:58:37.618Z"
   },
   {
    "duration": 5,
    "start_time": "2022-09-30T14:58:39.882Z"
   },
   {
    "duration": 23,
    "start_time": "2022-09-30T14:58:51.061Z"
   },
   {
    "duration": 34,
    "start_time": "2022-09-30T14:59:27.187Z"
   },
   {
    "duration": 8,
    "start_time": "2022-09-30T15:00:02.061Z"
   },
   {
    "duration": 5,
    "start_time": "2022-09-30T15:00:07.285Z"
   },
   {
    "duration": 3,
    "start_time": "2022-09-30T15:51:17.993Z"
   },
   {
    "duration": 1229,
    "start_time": "2022-09-30T15:51:28.973Z"
   },
   {
    "duration": 30,
    "start_time": "2022-09-30T15:51:34.169Z"
   },
   {
    "duration": 13,
    "start_time": "2022-09-30T15:51:36.267Z"
   },
   {
    "duration": 25,
    "start_time": "2022-09-30T15:51:38.831Z"
   },
   {
    "duration": 6,
    "start_time": "2022-09-30T15:52:05.959Z"
   },
   {
    "duration": 4,
    "start_time": "2022-09-30T15:52:18.172Z"
   },
   {
    "duration": 4,
    "start_time": "2022-09-30T15:53:10.260Z"
   },
   {
    "duration": 3,
    "start_time": "2022-09-30T15:54:12.733Z"
   },
   {
    "duration": 8,
    "start_time": "2022-09-30T15:54:58.127Z"
   },
   {
    "duration": 7,
    "start_time": "2022-09-30T15:55:09.820Z"
   },
   {
    "duration": 113,
    "start_time": "2022-09-30T16:00:12.919Z"
   },
   {
    "duration": 532,
    "start_time": "2022-09-30T16:00:51.128Z"
   },
   {
    "duration": 557,
    "start_time": "2022-09-30T16:01:35.103Z"
   },
   {
    "duration": 588,
    "start_time": "2022-09-30T16:01:42.915Z"
   },
   {
    "duration": 548,
    "start_time": "2022-09-30T16:01:49.436Z"
   },
   {
    "duration": 675,
    "start_time": "2022-09-30T16:01:58.196Z"
   },
   {
    "duration": 645,
    "start_time": "2022-09-30T16:03:46.607Z"
   },
   {
    "duration": 6936,
    "start_time": "2022-09-30T16:05:27.437Z"
   },
   {
    "duration": 3539,
    "start_time": "2022-09-30T16:05:42.775Z"
   },
   {
    "duration": 3175,
    "start_time": "2022-09-30T16:06:34.492Z"
   },
   {
    "duration": 3802,
    "start_time": "2022-09-30T16:06:46.140Z"
   },
   {
    "duration": 4244,
    "start_time": "2022-09-30T16:06:51.795Z"
   },
   {
    "duration": 8,
    "start_time": "2022-09-30T16:28:02.761Z"
   },
   {
    "duration": 113,
    "start_time": "2022-09-30T16:28:08.816Z"
   },
   {
    "duration": 17,
    "start_time": "2022-09-30T16:28:12.915Z"
   },
   {
    "duration": 23,
    "start_time": "2022-09-30T16:29:04.346Z"
   },
   {
    "duration": 7,
    "start_time": "2022-09-30T16:56:36.967Z"
   },
   {
    "duration": 7,
    "start_time": "2022-09-30T16:56:49.004Z"
   },
   {
    "duration": 8,
    "start_time": "2022-09-30T16:56:56.953Z"
   },
   {
    "duration": 4,
    "start_time": "2022-09-30T16:57:25.933Z"
   },
   {
    "duration": 5,
    "start_time": "2022-09-30T17:00:04.479Z"
   },
   {
    "duration": 4,
    "start_time": "2022-09-30T17:00:47.515Z"
   },
   {
    "duration": 5,
    "start_time": "2022-09-30T17:03:24.667Z"
   },
   {
    "duration": 6,
    "start_time": "2022-09-30T17:03:26.957Z"
   },
   {
    "duration": 7,
    "start_time": "2022-09-30T17:03:40.815Z"
   },
   {
    "duration": 25,
    "start_time": "2022-09-30T17:04:54.678Z"
   },
   {
    "duration": 15,
    "start_time": "2022-09-30T17:05:04.564Z"
   },
   {
    "duration": 25,
    "start_time": "2022-09-30T17:05:22.265Z"
   },
   {
    "duration": 1113,
    "start_time": "2022-09-30T17:42:03.601Z"
   },
   {
    "duration": 29,
    "start_time": "2022-09-30T17:42:04.718Z"
   },
   {
    "duration": 14,
    "start_time": "2022-09-30T17:42:04.749Z"
   },
   {
    "duration": 5,
    "start_time": "2022-09-30T17:42:05.466Z"
   },
   {
    "duration": 11,
    "start_time": "2022-09-30T17:42:06.973Z"
   },
   {
    "duration": 5,
    "start_time": "2022-09-30T17:42:08.595Z"
   },
   {
    "duration": 5,
    "start_time": "2022-09-30T17:42:09.597Z"
   },
   {
    "duration": 27,
    "start_time": "2022-09-30T17:42:11.305Z"
   },
   {
    "duration": 6,
    "start_time": "2022-09-30T17:45:06.699Z"
   },
   {
    "duration": 104,
    "start_time": "2022-09-30T17:45:16.484Z"
   },
   {
    "duration": 146,
    "start_time": "2022-09-30T17:45:19.825Z"
   },
   {
    "duration": 3738,
    "start_time": "2022-09-30T19:34:45.407Z"
   },
   {
    "duration": 799,
    "start_time": "2022-09-30T19:39:09.604Z"
   },
   {
    "duration": 864,
    "start_time": "2022-09-30T19:39:19.741Z"
   },
   {
    "duration": 481,
    "start_time": "2022-09-30T19:39:25.861Z"
   },
   {
    "duration": 686,
    "start_time": "2022-09-30T19:39:31.940Z"
   },
   {
    "duration": 407,
    "start_time": "2022-09-30T19:39:36.405Z"
   },
   {
    "duration": 470,
    "start_time": "2022-09-30T19:39:38.639Z"
   },
   {
    "duration": 667,
    "start_time": "2022-09-30T19:39:49.343Z"
   },
   {
    "duration": 4,
    "start_time": "2022-09-30T19:42:43.262Z"
   },
   {
    "duration": 33,
    "start_time": "2022-09-30T19:42:54.607Z"
   },
   {
    "duration": 3,
    "start_time": "2022-09-30T19:43:01.604Z"
   },
   {
    "duration": 14,
    "start_time": "2022-09-30T19:43:03.303Z"
   },
   {
    "duration": 4,
    "start_time": "2022-09-30T19:43:07.451Z"
   },
   {
    "duration": 158,
    "start_time": "2022-09-30T19:43:08.605Z"
   },
   {
    "duration": 4,
    "start_time": "2022-09-30T19:43:17.679Z"
   },
   {
    "duration": 572,
    "start_time": "2022-09-30T19:43:19.757Z"
   },
   {
    "duration": 4,
    "start_time": "2022-09-30T19:45:03.117Z"
   },
   {
    "duration": 531,
    "start_time": "2022-09-30T19:45:04.213Z"
   },
   {
    "duration": 457,
    "start_time": "2022-09-30T19:45:55.214Z"
   },
   {
    "duration": 21,
    "start_time": "2022-09-30T19:47:36.855Z"
   },
   {
    "duration": 543,
    "start_time": "2022-09-30T19:47:46.102Z"
   },
   {
    "duration": 5,
    "start_time": "2022-09-30T19:49:19.806Z"
   },
   {
    "duration": 1067,
    "start_time": "2022-09-30T19:49:26.638Z"
   },
   {
    "duration": 31,
    "start_time": "2022-09-30T19:49:27.707Z"
   },
   {
    "duration": 13,
    "start_time": "2022-09-30T19:49:27.739Z"
   },
   {
    "duration": 3,
    "start_time": "2022-09-30T19:49:27.754Z"
   },
   {
    "duration": 3,
    "start_time": "2022-09-30T19:49:27.883Z"
   },
   {
    "duration": 5,
    "start_time": "2022-09-30T19:49:30.109Z"
   },
   {
    "duration": 5,
    "start_time": "2022-09-30T19:49:30.267Z"
   },
   {
    "duration": 29,
    "start_time": "2022-09-30T19:49:30.790Z"
   },
   {
    "duration": 8,
    "start_time": "2022-09-30T19:49:32.874Z"
   },
   {
    "duration": 5,
    "start_time": "2022-09-30T19:49:34.538Z"
   },
   {
    "duration": 3476,
    "start_time": "2022-09-30T19:49:34.697Z"
   },
   {
    "duration": 546,
    "start_time": "2022-09-30T19:49:38.175Z"
   },
   {
    "duration": 5,
    "start_time": "2022-09-30T19:49:43.019Z"
   },
   {
    "duration": 4,
    "start_time": "2022-09-30T19:50:04.454Z"
   },
   {
    "duration": 6,
    "start_time": "2022-09-30T19:50:58.685Z"
   },
   {
    "duration": 4,
    "start_time": "2022-09-30T19:55:19.073Z"
   },
   {
    "duration": 4,
    "start_time": "2022-09-30T20:00:54.285Z"
   },
   {
    "duration": 113,
    "start_time": "2022-09-30T20:00:56.474Z"
   },
   {
    "duration": 14,
    "start_time": "2022-09-30T20:00:58.854Z"
   },
   {
    "duration": 4,
    "start_time": "2022-09-30T20:01:09.115Z"
   },
   {
    "duration": 9,
    "start_time": "2022-09-30T20:01:14.031Z"
   },
   {
    "duration": 6,
    "start_time": "2022-09-30T20:02:47.162Z"
   },
   {
    "duration": 4,
    "start_time": "2022-09-30T20:03:38.252Z"
   },
   {
    "duration": 5,
    "start_time": "2022-09-30T20:03:51.790Z"
   },
   {
    "duration": 4,
    "start_time": "2022-09-30T20:03:52.535Z"
   },
   {
    "duration": 14,
    "start_time": "2022-09-30T20:05:41.039Z"
   },
   {
    "duration": 6,
    "start_time": "2022-09-30T20:06:51.448Z"
   },
   {
    "duration": 14,
    "start_time": "2022-09-30T20:06:53.173Z"
   },
   {
    "duration": 13,
    "start_time": "2022-09-30T20:07:17.758Z"
   },
   {
    "duration": 1409,
    "start_time": "2022-09-30T20:07:26.521Z"
   },
   {
    "duration": 28,
    "start_time": "2022-09-30T20:07:27.932Z"
   },
   {
    "duration": 23,
    "start_time": "2022-09-30T20:07:27.962Z"
   },
   {
    "duration": 5,
    "start_time": "2022-09-30T20:07:27.987Z"
   },
   {
    "duration": 4,
    "start_time": "2022-09-30T20:07:27.995Z"
   },
   {
    "duration": 9,
    "start_time": "2022-09-30T20:07:28.001Z"
   },
   {
    "duration": 6,
    "start_time": "2022-09-30T20:07:28.011Z"
   },
   {
    "duration": 28,
    "start_time": "2022-09-30T20:07:28.018Z"
   },
   {
    "duration": 7,
    "start_time": "2022-09-30T20:07:28.048Z"
   },
   {
    "duration": 35,
    "start_time": "2022-09-30T20:07:28.057Z"
   },
   {
    "duration": 3538,
    "start_time": "2022-09-30T20:07:28.094Z"
   },
   {
    "duration": 604,
    "start_time": "2022-09-30T20:07:31.634Z"
   },
   {
    "duration": 5,
    "start_time": "2022-09-30T20:07:32.240Z"
   },
   {
    "duration": 8,
    "start_time": "2022-09-30T20:07:32.247Z"
   },
   {
    "duration": 7,
    "start_time": "2022-09-30T20:07:32.256Z"
   },
   {
    "duration": 6,
    "start_time": "2022-09-30T20:07:32.265Z"
   },
   {
    "duration": 16,
    "start_time": "2022-09-30T20:07:32.275Z"
   },
   {
    "duration": 15,
    "start_time": "2022-09-30T20:07:32.293Z"
   },
   {
    "duration": 14,
    "start_time": "2022-09-30T20:07:42.232Z"
   },
   {
    "duration": 15,
    "start_time": "2022-09-30T20:07:47.314Z"
   },
   {
    "duration": 3,
    "start_time": "2022-09-30T20:08:50.453Z"
   },
   {
    "duration": 13,
    "start_time": "2022-09-30T20:08:52.653Z"
   },
   {
    "duration": 14,
    "start_time": "2022-09-30T20:09:26.676Z"
   },
   {
    "duration": 14,
    "start_time": "2022-09-30T20:09:42.455Z"
   },
   {
    "duration": 11,
    "start_time": "2022-09-30T20:09:47.434Z"
   },
   {
    "duration": 15,
    "start_time": "2022-09-30T20:09:52.329Z"
   },
   {
    "duration": 15,
    "start_time": "2022-09-30T20:11:25.004Z"
   },
   {
    "duration": 15,
    "start_time": "2022-09-30T20:11:29.544Z"
   },
   {
    "duration": 1320,
    "start_time": "2022-09-30T20:12:17.322Z"
   },
   {
    "duration": 29,
    "start_time": "2022-09-30T20:12:18.644Z"
   },
   {
    "duration": 13,
    "start_time": "2022-09-30T20:12:18.674Z"
   },
   {
    "duration": 4,
    "start_time": "2022-09-30T20:12:18.689Z"
   },
   {
    "duration": 6,
    "start_time": "2022-09-30T20:12:18.694Z"
   },
   {
    "duration": 6,
    "start_time": "2022-09-30T20:12:18.702Z"
   },
   {
    "duration": 5,
    "start_time": "2022-09-30T20:12:18.709Z"
   },
   {
    "duration": 26,
    "start_time": "2022-09-30T20:12:18.716Z"
   },
   {
    "duration": 9,
    "start_time": "2022-09-30T20:12:18.743Z"
   },
   {
    "duration": 9,
    "start_time": "2022-09-30T20:12:18.754Z"
   },
   {
    "duration": 3778,
    "start_time": "2022-09-30T20:12:18.790Z"
   },
   {
    "duration": 521,
    "start_time": "2022-09-30T20:12:22.570Z"
   },
   {
    "duration": 6,
    "start_time": "2022-09-30T20:12:23.093Z"
   },
   {
    "duration": 12,
    "start_time": "2022-09-30T20:12:23.100Z"
   },
   {
    "duration": 8,
    "start_time": "2022-09-30T20:12:23.114Z"
   },
   {
    "duration": 7,
    "start_time": "2022-09-30T20:12:23.123Z"
   },
   {
    "duration": 10,
    "start_time": "2022-09-30T20:12:23.132Z"
   },
   {
    "duration": 20,
    "start_time": "2022-09-30T20:12:29.414Z"
   },
   {
    "duration": 4,
    "start_time": "2022-09-30T20:14:03.382Z"
   },
   {
    "duration": 3,
    "start_time": "2022-09-30T20:15:30.596Z"
   },
   {
    "duration": 1436,
    "start_time": "2022-09-30T20:18:05.013Z"
   },
   {
    "duration": 29,
    "start_time": "2022-09-30T20:18:06.452Z"
   },
   {
    "duration": 13,
    "start_time": "2022-09-30T20:18:06.483Z"
   },
   {
    "duration": 17,
    "start_time": "2022-09-30T20:18:06.498Z"
   },
   {
    "duration": 16,
    "start_time": "2022-09-30T20:18:06.518Z"
   },
   {
    "duration": 10,
    "start_time": "2022-09-30T20:18:06.535Z"
   },
   {
    "duration": 8,
    "start_time": "2022-09-30T20:18:06.546Z"
   },
   {
    "duration": 27,
    "start_time": "2022-09-30T20:18:06.556Z"
   },
   {
    "duration": 7,
    "start_time": "2022-09-30T20:18:06.584Z"
   },
   {
    "duration": 8,
    "start_time": "2022-09-30T20:18:06.593Z"
   },
   {
    "duration": 3783,
    "start_time": "2022-09-30T20:18:06.602Z"
   },
   {
    "duration": 581,
    "start_time": "2022-09-30T20:18:10.386Z"
   },
   {
    "duration": 5,
    "start_time": "2022-09-30T20:18:10.968Z"
   },
   {
    "duration": 13,
    "start_time": "2022-09-30T20:18:10.976Z"
   },
   {
    "duration": 16,
    "start_time": "2022-09-30T20:18:10.990Z"
   },
   {
    "duration": 16,
    "start_time": "2022-09-30T20:18:11.008Z"
   },
   {
    "duration": 18,
    "start_time": "2022-09-30T20:18:11.026Z"
   },
   {
    "duration": 6,
    "start_time": "2022-09-30T20:18:11.045Z"
   },
   {
    "duration": 1565,
    "start_time": "2022-10-03T13:17:02.825Z"
   },
   {
    "duration": 77,
    "start_time": "2022-10-03T13:17:04.391Z"
   },
   {
    "duration": 15,
    "start_time": "2022-10-03T13:17:04.469Z"
   },
   {
    "duration": 6,
    "start_time": "2022-10-03T13:17:05.320Z"
   },
   {
    "duration": 3,
    "start_time": "2022-10-03T13:17:06.905Z"
   },
   {
    "duration": 5,
    "start_time": "2022-10-03T13:17:08.061Z"
   },
   {
    "duration": 4,
    "start_time": "2022-10-03T13:17:09.846Z"
   },
   {
    "duration": 24,
    "start_time": "2022-10-03T13:17:10.495Z"
   },
   {
    "duration": 7,
    "start_time": "2022-10-03T13:17:13.842Z"
   },
   {
    "duration": 6,
    "start_time": "2022-10-03T13:17:15.430Z"
   },
   {
    "duration": 3271,
    "start_time": "2022-10-03T13:17:15.662Z"
   },
   {
    "duration": 487,
    "start_time": "2022-10-03T13:17:25.195Z"
   },
   {
    "duration": 5,
    "start_time": "2022-10-03T13:17:28.442Z"
   },
   {
    "duration": 5,
    "start_time": "2022-10-03T13:17:28.975Z"
   },
   {
    "duration": 119,
    "start_time": "2022-10-03T13:23:55.686Z"
   },
   {
    "duration": 9,
    "start_time": "2022-10-03T13:24:04.763Z"
   },
   {
    "duration": 5,
    "start_time": "2022-10-03T13:32:41.590Z"
   },
   {
    "duration": 14,
    "start_time": "2022-10-03T13:32:53.755Z"
   },
   {
    "duration": 13,
    "start_time": "2022-10-03T13:38:00.025Z"
   },
   {
    "duration": 3,
    "start_time": "2022-10-03T13:39:08.796Z"
   },
   {
    "duration": 13,
    "start_time": "2022-10-03T13:39:10.151Z"
   },
   {
    "duration": 662,
    "start_time": "2022-10-03T13:41:43.765Z"
   },
   {
    "duration": 543,
    "start_time": "2022-10-03T13:42:10.115Z"
   },
   {
    "duration": 6,
    "start_time": "2022-10-03T13:42:23.905Z"
   },
   {
    "duration": 3,
    "start_time": "2022-10-03T13:43:31.632Z"
   },
   {
    "duration": 5,
    "start_time": "2022-10-03T13:43:33.809Z"
   },
   {
    "duration": 3,
    "start_time": "2022-10-03T13:43:34.559Z"
   },
   {
    "duration": 10,
    "start_time": "2022-10-03T13:44:04.001Z"
   },
   {
    "duration": 9,
    "start_time": "2022-10-03T13:44:18.782Z"
   },
   {
    "duration": 9,
    "start_time": "2022-10-03T13:44:32.045Z"
   },
   {
    "duration": 4,
    "start_time": "2022-10-03T13:45:18.371Z"
   },
   {
    "duration": 3,
    "start_time": "2022-10-03T13:46:54.090Z"
   },
   {
    "duration": 3,
    "start_time": "2022-10-03T13:46:58.470Z"
   },
   {
    "duration": 1640,
    "start_time": "2022-10-05T22:54:46.710Z"
   },
   {
    "duration": 58,
    "start_time": "2022-10-05T22:54:48.943Z"
   },
   {
    "duration": 14,
    "start_time": "2022-10-05T22:54:50.400Z"
   },
   {
    "duration": 4,
    "start_time": "2022-10-05T22:54:52.365Z"
   },
   {
    "duration": 2,
    "start_time": "2022-10-05T22:54:53.690Z"
   },
   {
    "duration": 4,
    "start_time": "2022-10-05T22:54:56.536Z"
   },
   {
    "duration": 4,
    "start_time": "2022-10-05T22:54:59.805Z"
   },
   {
    "duration": 30,
    "start_time": "2022-10-05T22:55:02.215Z"
   },
   {
    "duration": 7,
    "start_time": "2022-10-05T22:55:47.055Z"
   },
   {
    "duration": 7,
    "start_time": "2022-10-05T22:56:02.690Z"
   },
   {
    "duration": 139,
    "start_time": "2022-10-05T22:56:08.330Z"
   },
   {
    "duration": 6,
    "start_time": "2022-10-05T22:56:21.600Z"
   },
   {
    "duration": 6,
    "start_time": "2022-10-05T22:56:30.795Z"
   },
   {
    "duration": 12,
    "start_time": "2022-10-05T22:56:43.315Z"
   },
   {
    "duration": 7,
    "start_time": "2022-10-05T22:57:29.461Z"
   },
   {
    "duration": 135,
    "start_time": "2022-10-05T22:57:33.325Z"
   },
   {
    "duration": 142,
    "start_time": "2022-10-05T22:57:40.071Z"
   },
   {
    "duration": 161,
    "start_time": "2022-10-05T22:58:03.811Z"
   },
   {
    "duration": 164,
    "start_time": "2022-10-05T22:58:10.755Z"
   },
   {
    "duration": 6,
    "start_time": "2022-10-05T22:58:32.810Z"
   },
   {
    "duration": 5,
    "start_time": "2022-10-05T22:58:44.210Z"
   },
   {
    "duration": 8,
    "start_time": "2022-10-05T22:58:58.050Z"
   },
   {
    "duration": 6,
    "start_time": "2022-10-05T22:58:59.170Z"
   },
   {
    "duration": 4187,
    "start_time": "2022-10-05T22:59:00.510Z"
   },
   {
    "duration": 545,
    "start_time": "2022-10-05T22:59:09.720Z"
   },
   {
    "duration": 5,
    "start_time": "2022-10-05T22:59:12.381Z"
   },
   {
    "duration": 5,
    "start_time": "2022-10-05T22:59:13.721Z"
   },
   {
    "duration": 1649,
    "start_time": "2022-10-05T23:00:02.013Z"
   },
   {
    "duration": 27,
    "start_time": "2022-10-05T23:00:03.666Z"
   },
   {
    "duration": 15,
    "start_time": "2022-10-05T23:00:03.694Z"
   },
   {
    "duration": 10,
    "start_time": "2022-10-05T23:00:03.711Z"
   },
   {
    "duration": 3,
    "start_time": "2022-10-05T23:00:04.734Z"
   },
   {
    "duration": 5,
    "start_time": "2022-10-05T23:00:06.324Z"
   },
   {
    "duration": 5,
    "start_time": "2022-10-05T23:00:07.113Z"
   },
   {
    "duration": 28,
    "start_time": "2022-10-05T23:00:07.994Z"
   },
   {
    "duration": 8,
    "start_time": "2022-10-05T23:00:10.554Z"
   },
   {
    "duration": 6,
    "start_time": "2022-10-05T23:00:12.488Z"
   },
   {
    "duration": 3770,
    "start_time": "2022-10-05T23:00:13.083Z"
   },
   {
    "duration": 563,
    "start_time": "2022-10-05T23:00:16.855Z"
   },
   {
    "duration": 6,
    "start_time": "2022-10-05T23:00:18.618Z"
   },
   {
    "duration": 2,
    "start_time": "2022-10-05T23:01:22.059Z"
   },
   {
    "duration": 6,
    "start_time": "2022-10-05T23:01:23.918Z"
   },
   {
    "duration": 4,
    "start_time": "2022-10-05T23:05:26.040Z"
   },
   {
    "duration": 11,
    "start_time": "2022-10-05T23:05:42.043Z"
   },
   {
    "duration": 4,
    "start_time": "2022-10-05T23:06:24.683Z"
   },
   {
    "duration": 7,
    "start_time": "2022-10-05T23:06:36.915Z"
   },
   {
    "duration": 126,
    "start_time": "2022-10-05T23:06:54.368Z"
   },
   {
    "duration": 5,
    "start_time": "2022-10-05T23:06:57.628Z"
   },
   {
    "duration": 7,
    "start_time": "2022-10-05T23:08:41.253Z"
   },
   {
    "duration": 6,
    "start_time": "2022-10-05T23:08:52.212Z"
   },
   {
    "duration": 4,
    "start_time": "2022-10-05T23:09:04.372Z"
   },
   {
    "duration": 6,
    "start_time": "2022-10-05T23:09:06.035Z"
   },
   {
    "duration": 5,
    "start_time": "2022-10-05T23:12:45.779Z"
   },
   {
    "duration": 13,
    "start_time": "2022-10-05T23:12:48.560Z"
   },
   {
    "duration": 10,
    "start_time": "2022-10-05T23:12:56.000Z"
   },
   {
    "duration": 5,
    "start_time": "2022-10-05T23:13:02.210Z"
   },
   {
    "duration": 9,
    "start_time": "2022-10-05T23:13:02.959Z"
   },
   {
    "duration": 5,
    "start_time": "2022-10-05T23:13:36.677Z"
   },
   {
    "duration": 4,
    "start_time": "2022-10-05T23:13:49.974Z"
   },
   {
    "duration": 13,
    "start_time": "2022-10-05T23:19:38.860Z"
   },
   {
    "duration": 18,
    "start_time": "2022-10-05T23:20:10.334Z"
   },
   {
    "duration": 19,
    "start_time": "2022-10-05T23:20:28.293Z"
   },
   {
    "duration": 16,
    "start_time": "2022-10-05T23:20:33.899Z"
   },
   {
    "duration": 27,
    "start_time": "2022-10-05T23:20:48.392Z"
   },
   {
    "duration": 13,
    "start_time": "2022-10-05T23:21:10.469Z"
   },
   {
    "duration": 23,
    "start_time": "2022-10-05T23:21:15.764Z"
   },
   {
    "duration": 25,
    "start_time": "2022-10-05T23:21:26.123Z"
   },
   {
    "duration": 3,
    "start_time": "2022-10-05T23:23:58.368Z"
   },
   {
    "duration": 1566,
    "start_time": "2022-10-05T23:24:10.766Z"
   },
   {
    "duration": 28,
    "start_time": "2022-10-05T23:24:12.334Z"
   },
   {
    "duration": 18,
    "start_time": "2022-10-05T23:24:13.061Z"
   },
   {
    "duration": 6,
    "start_time": "2022-10-05T23:24:14.181Z"
   },
   {
    "duration": 3,
    "start_time": "2022-10-05T23:24:15.285Z"
   },
   {
    "duration": 5,
    "start_time": "2022-10-05T23:24:16.340Z"
   },
   {
    "duration": 5,
    "start_time": "2022-10-05T23:24:17.515Z"
   },
   {
    "duration": 29,
    "start_time": "2022-10-05T23:24:18.855Z"
   },
   {
    "duration": 8,
    "start_time": "2022-10-05T23:24:21.310Z"
   },
   {
    "duration": 6,
    "start_time": "2022-10-05T23:24:22.740Z"
   },
   {
    "duration": 3790,
    "start_time": "2022-10-05T23:24:23.870Z"
   },
   {
    "duration": 592,
    "start_time": "2022-10-05T23:24:27.663Z"
   },
   {
    "duration": 7,
    "start_time": "2022-10-05T23:24:30.300Z"
   },
   {
    "duration": 5,
    "start_time": "2022-10-05T23:24:31.863Z"
   },
   {
    "duration": 10,
    "start_time": "2022-10-05T23:24:33.251Z"
   },
   {
    "duration": 4,
    "start_time": "2022-10-05T23:24:34.711Z"
   },
   {
    "duration": 10,
    "start_time": "2022-10-05T23:24:35.431Z"
   },
   {
    "duration": 7,
    "start_time": "2022-10-05T23:24:38.970Z"
   },
   {
    "duration": 6,
    "start_time": "2022-10-05T23:24:40.621Z"
   },
   {
    "duration": 4,
    "start_time": "2022-10-05T23:24:42.920Z"
   },
   {
    "duration": 3,
    "start_time": "2022-10-05T23:24:44.520Z"
   },
   {
    "duration": 141,
    "start_time": "2022-10-05T23:24:46.621Z"
   },
   {
    "duration": 25,
    "start_time": "2022-10-05T23:24:52.860Z"
   },
   {
    "duration": 1583,
    "start_time": "2022-10-05T23:26:31.170Z"
   },
   {
    "duration": 27,
    "start_time": "2022-10-05T23:26:32.754Z"
   },
   {
    "duration": 14,
    "start_time": "2022-10-05T23:26:32.783Z"
   },
   {
    "duration": 5,
    "start_time": "2022-10-05T23:26:34.621Z"
   },
   {
    "duration": 3,
    "start_time": "2022-10-05T23:26:35.571Z"
   },
   {
    "duration": 5,
    "start_time": "2022-10-05T23:26:36.801Z"
   },
   {
    "duration": 4,
    "start_time": "2022-10-05T23:26:37.716Z"
   },
   {
    "duration": 33,
    "start_time": "2022-10-05T23:26:38.932Z"
   },
   {
    "duration": 10,
    "start_time": "2022-10-05T23:26:41.922Z"
   },
   {
    "duration": 7,
    "start_time": "2022-10-05T23:26:43.506Z"
   },
   {
    "duration": 3814,
    "start_time": "2022-10-05T23:26:44.631Z"
   },
   {
    "duration": 552,
    "start_time": "2022-10-05T23:26:48.447Z"
   },
   {
    "duration": 7,
    "start_time": "2022-10-05T23:26:50.755Z"
   },
   {
    "duration": 4,
    "start_time": "2022-10-05T23:26:52.276Z"
   },
   {
    "duration": 11,
    "start_time": "2022-10-05T23:26:53.671Z"
   },
   {
    "duration": 4,
    "start_time": "2022-10-05T23:26:54.691Z"
   },
   {
    "duration": 6,
    "start_time": "2022-10-05T23:26:56.300Z"
   },
   {
    "duration": 4,
    "start_time": "2022-10-05T23:26:57.226Z"
   },
   {
    "duration": 9,
    "start_time": "2022-10-05T23:27:01.866Z"
   },
   {
    "duration": 6,
    "start_time": "2022-10-05T23:27:03.261Z"
   },
   {
    "duration": 4,
    "start_time": "2022-10-05T23:27:03.820Z"
   },
   {
    "duration": 3,
    "start_time": "2022-10-05T23:27:07.110Z"
   },
   {
    "duration": 237,
    "start_time": "2022-10-05T23:27:07.876Z"
   },
   {
    "duration": 14,
    "start_time": "2022-10-05T23:27:33.291Z"
   },
   {
    "duration": 3,
    "start_time": "2022-10-05T23:29:14.961Z"
   },
   {
    "duration": 1427,
    "start_time": "2022-10-05T23:29:21.104Z"
   },
   {
    "duration": 28,
    "start_time": "2022-10-05T23:29:22.533Z"
   },
   {
    "duration": 17,
    "start_time": "2022-10-05T23:29:22.749Z"
   },
   {
    "duration": 5,
    "start_time": "2022-10-05T23:29:23.858Z"
   },
   {
    "duration": 3,
    "start_time": "2022-10-05T23:29:24.829Z"
   },
   {
    "duration": 5,
    "start_time": "2022-10-05T23:29:26.379Z"
   },
   {
    "duration": 5,
    "start_time": "2022-10-05T23:29:27.258Z"
   },
   {
    "duration": 26,
    "start_time": "2022-10-05T23:29:28.149Z"
   },
   {
    "duration": 9,
    "start_time": "2022-10-05T23:29:30.369Z"
   },
   {
    "duration": 6,
    "start_time": "2022-10-05T23:29:31.659Z"
   },
   {
    "duration": 3595,
    "start_time": "2022-10-05T23:29:32.618Z"
   },
   {
    "duration": 537,
    "start_time": "2022-10-05T23:29:36.215Z"
   },
   {
    "duration": 7,
    "start_time": "2022-10-05T23:29:36.754Z"
   },
   {
    "duration": 4,
    "start_time": "2022-10-05T23:29:38.539Z"
   },
   {
    "duration": 9,
    "start_time": "2022-10-05T23:29:39.329Z"
   },
   {
    "duration": 4,
    "start_time": "2022-10-05T23:29:42.718Z"
   },
   {
    "duration": 6,
    "start_time": "2022-10-05T23:29:43.459Z"
   },
   {
    "duration": 4,
    "start_time": "2022-10-05T23:29:44.729Z"
   },
   {
    "duration": 4,
    "start_time": "2022-10-05T23:29:45.749Z"
   },
   {
    "duration": 5,
    "start_time": "2022-10-05T23:29:46.629Z"
   },
   {
    "duration": 4,
    "start_time": "2022-10-05T23:29:47.369Z"
   },
   {
    "duration": 141,
    "start_time": "2022-10-05T23:30:13.053Z"
   },
   {
    "duration": 24,
    "start_time": "2022-10-05T23:30:20.014Z"
   },
   {
    "duration": 23,
    "start_time": "2022-10-05T23:30:24.554Z"
   },
   {
    "duration": 33,
    "start_time": "2022-10-05T23:31:27.839Z"
   },
   {
    "duration": 1438,
    "start_time": "2022-10-05T23:31:41.904Z"
   },
   {
    "duration": 27,
    "start_time": "2022-10-05T23:31:43.949Z"
   },
   {
    "duration": 14,
    "start_time": "2022-10-05T23:31:44.654Z"
   },
   {
    "duration": 4,
    "start_time": "2022-10-05T23:31:46.149Z"
   },
   {
    "duration": 3,
    "start_time": "2022-10-05T23:31:47.118Z"
   },
   {
    "duration": 7,
    "start_time": "2022-10-05T23:31:48.549Z"
   },
   {
    "duration": 4,
    "start_time": "2022-10-05T23:31:49.500Z"
   },
   {
    "duration": 27,
    "start_time": "2022-10-05T23:31:50.549Z"
   },
   {
    "duration": 8,
    "start_time": "2022-10-05T23:31:53.259Z"
   },
   {
    "duration": 8,
    "start_time": "2022-10-05T23:31:54.608Z"
   },
   {
    "duration": 3813,
    "start_time": "2022-10-05T23:31:55.548Z"
   },
   {
    "duration": 558,
    "start_time": "2022-10-05T23:31:59.363Z"
   },
   {
    "duration": 7,
    "start_time": "2022-10-05T23:32:02.148Z"
   },
   {
    "duration": 4,
    "start_time": "2022-10-05T23:32:03.469Z"
   },
   {
    "duration": 4,
    "start_time": "2022-10-05T23:32:04.849Z"
   },
   {
    "duration": 6,
    "start_time": "2022-10-05T23:32:05.469Z"
   },
   {
    "duration": 4,
    "start_time": "2022-10-05T23:32:06.238Z"
   },
   {
    "duration": 7,
    "start_time": "2022-10-05T23:32:07.279Z"
   },
   {
    "duration": 6,
    "start_time": "2022-10-05T23:32:07.969Z"
   },
   {
    "duration": 5,
    "start_time": "2022-10-05T23:32:08.589Z"
   },
   {
    "duration": 4,
    "start_time": "2022-10-05T23:32:13.209Z"
   },
   {
    "duration": 164,
    "start_time": "2022-10-05T23:32:14.380Z"
   },
   {
    "duration": 26,
    "start_time": "2022-10-05T23:32:15.648Z"
   },
   {
    "duration": 50,
    "start_time": "2022-10-05T23:32:19.179Z"
   },
   {
    "duration": 17,
    "start_time": "2022-10-05T23:35:31.948Z"
   },
   {
    "duration": 23,
    "start_time": "2022-10-05T23:35:36.143Z"
   },
   {
    "duration": 45,
    "start_time": "2022-10-05T23:35:42.363Z"
   },
   {
    "duration": 21,
    "start_time": "2022-10-05T23:36:23.353Z"
   },
   {
    "duration": 105,
    "start_time": "2022-10-05T23:36:27.218Z"
   },
   {
    "duration": 20,
    "start_time": "2022-10-05T23:36:30.802Z"
   },
   {
    "duration": 827,
    "start_time": "2022-10-05T23:37:55.019Z"
   },
   {
    "duration": 132,
    "start_time": "2022-10-05T23:39:45.378Z"
   },
   {
    "duration": 2141,
    "start_time": "2022-10-05T23:40:14.089Z"
   },
   {
    "duration": 27,
    "start_time": "2022-10-05T23:40:16.232Z"
   },
   {
    "duration": 16,
    "start_time": "2022-10-05T23:40:16.261Z"
   },
   {
    "duration": 4,
    "start_time": "2022-10-05T23:40:17.259Z"
   },
   {
    "duration": 2,
    "start_time": "2022-10-05T23:40:18.429Z"
   },
   {
    "duration": 5,
    "start_time": "2022-10-05T23:40:19.493Z"
   },
   {
    "duration": 6,
    "start_time": "2022-10-05T23:40:20.704Z"
   },
   {
    "duration": 41,
    "start_time": "2022-10-05T23:40:21.928Z"
   },
   {
    "duration": 8,
    "start_time": "2022-10-05T23:40:24.623Z"
   },
   {
    "duration": 6,
    "start_time": "2022-10-05T23:40:26.560Z"
   },
   {
    "duration": 3898,
    "start_time": "2022-10-05T23:40:27.343Z"
   },
   {
    "duration": 595,
    "start_time": "2022-10-05T23:40:31.243Z"
   },
   {
    "duration": 7,
    "start_time": "2022-10-05T23:40:34.078Z"
   },
   {
    "duration": 4,
    "start_time": "2022-10-05T23:40:35.858Z"
   },
   {
    "duration": 4,
    "start_time": "2022-10-05T23:40:38.293Z"
   },
   {
    "duration": 6,
    "start_time": "2022-10-05T23:40:38.998Z"
   },
   {
    "duration": 4,
    "start_time": "2022-10-05T23:40:39.948Z"
   },
   {
    "duration": 6,
    "start_time": "2022-10-05T23:40:41.078Z"
   },
   {
    "duration": 6,
    "start_time": "2022-10-05T23:40:41.743Z"
   },
   {
    "duration": 4,
    "start_time": "2022-10-05T23:40:42.409Z"
   },
   {
    "duration": 4,
    "start_time": "2022-10-05T23:40:44.133Z"
   },
   {
    "duration": 15,
    "start_time": "2022-10-05T23:40:44.819Z"
   },
   {
    "duration": 15,
    "start_time": "2022-10-05T23:40:46.039Z"
   },
   {
    "duration": 25,
    "start_time": "2022-10-05T23:40:46.934Z"
   },
   {
    "duration": 18,
    "start_time": "2022-10-05T23:40:47.903Z"
   },
   {
    "duration": 4,
    "start_time": "2022-10-05T23:40:49.174Z"
   },
   {
    "duration": 3,
    "start_time": "2022-10-05T23:41:34.463Z"
   },
   {
    "duration": 5,
    "start_time": "2022-10-05T23:46:53.736Z"
   },
   {
    "duration": 133,
    "start_time": "2022-10-05T23:54:02.696Z"
   },
   {
    "duration": 4,
    "start_time": "2022-10-05T23:54:17.986Z"
   },
   {
    "duration": 6,
    "start_time": "2022-10-05T23:54:19.865Z"
   },
   {
    "duration": 13,
    "start_time": "2022-10-05T23:56:02.666Z"
   },
   {
    "duration": 4,
    "start_time": "2022-10-05T23:56:17.785Z"
   },
   {
    "duration": 9,
    "start_time": "2022-10-05T23:56:24.212Z"
   },
   {
    "duration": 3,
    "start_time": "2022-10-05T23:56:27.636Z"
   },
   {
    "duration": 5,
    "start_time": "2022-10-05T23:56:57.520Z"
   },
   {
    "duration": 4,
    "start_time": "2022-10-05T23:56:58.922Z"
   },
   {
    "duration": 15,
    "start_time": "2022-10-05T23:57:00.800Z"
   },
   {
    "duration": 14,
    "start_time": "2022-10-05T23:57:07.726Z"
   },
   {
    "duration": 18,
    "start_time": "2022-10-05T23:57:17.490Z"
   },
   {
    "duration": 32,
    "start_time": "2022-10-05T23:57:22.505Z"
   },
   {
    "duration": 11,
    "start_time": "2022-10-05T23:58:13.191Z"
   },
   {
    "duration": 1895,
    "start_time": "2022-10-05T23:58:27.385Z"
   },
   {
    "duration": 27,
    "start_time": "2022-10-05T23:58:29.282Z"
   },
   {
    "duration": 15,
    "start_time": "2022-10-05T23:58:29.750Z"
   },
   {
    "duration": 4,
    "start_time": "2022-10-05T23:58:30.684Z"
   },
   {
    "duration": 3,
    "start_time": "2022-10-05T23:58:31.473Z"
   },
   {
    "duration": 4,
    "start_time": "2022-10-05T23:58:32.416Z"
   },
   {
    "duration": 4,
    "start_time": "2022-10-05T23:58:33.515Z"
   },
   {
    "duration": 26,
    "start_time": "2022-10-05T23:58:34.347Z"
   },
   {
    "duration": 7,
    "start_time": "2022-10-05T23:58:36.385Z"
   },
   {
    "duration": 6,
    "start_time": "2022-10-05T23:58:37.593Z"
   },
   {
    "duration": 3686,
    "start_time": "2022-10-05T23:58:38.143Z"
   },
   {
    "duration": 569,
    "start_time": "2022-10-05T23:58:41.832Z"
   },
   {
    "duration": 6,
    "start_time": "2022-10-05T23:58:45.695Z"
   },
   {
    "duration": 4,
    "start_time": "2022-10-05T23:58:47.423Z"
   },
   {
    "duration": 4,
    "start_time": "2022-10-05T23:58:48.431Z"
   },
   {
    "duration": 6,
    "start_time": "2022-10-05T23:58:49.095Z"
   },
   {
    "duration": 3,
    "start_time": "2022-10-05T23:58:50.583Z"
   },
   {
    "duration": 5,
    "start_time": "2022-10-05T23:58:51.555Z"
   },
   {
    "duration": 5,
    "start_time": "2022-10-05T23:58:52.631Z"
   },
   {
    "duration": 4,
    "start_time": "2022-10-05T23:58:53.277Z"
   },
   {
    "duration": 3,
    "start_time": "2022-10-05T23:58:54.196Z"
   },
   {
    "duration": 12,
    "start_time": "2022-10-05T23:58:55.016Z"
   },
   {
    "duration": 12,
    "start_time": "2022-10-05T23:58:55.896Z"
   },
   {
    "duration": 18,
    "start_time": "2022-10-05T23:58:57.095Z"
   },
   {
    "duration": 17,
    "start_time": "2022-10-05T23:58:57.905Z"
   },
   {
    "duration": 4,
    "start_time": "2022-10-05T23:59:00.095Z"
   },
   {
    "duration": 3,
    "start_time": "2022-10-05T23:59:02.440Z"
   },
   {
    "duration": 5,
    "start_time": "2022-10-05T23:59:21.670Z"
   },
   {
    "duration": 5,
    "start_time": "2022-10-05T23:59:39.715Z"
   },
   {
    "duration": 142,
    "start_time": "2022-10-05T23:59:56.186Z"
   },
   {
    "duration": 19,
    "start_time": "2022-10-06T00:00:35.995Z"
   },
   {
    "duration": 21,
    "start_time": "2022-10-06T00:00:56.320Z"
   },
   {
    "duration": 4,
    "start_time": "2022-10-06T00:01:53.810Z"
   },
   {
    "duration": 20,
    "start_time": "2022-10-06T00:02:09.654Z"
   },
   {
    "duration": 19,
    "start_time": "2022-10-06T00:02:24.404Z"
   },
   {
    "duration": 4,
    "start_time": "2022-10-06T00:02:45.446Z"
   },
   {
    "duration": 21,
    "start_time": "2022-10-06T00:02:57.376Z"
   },
   {
    "duration": 1965,
    "start_time": "2022-10-06T11:59:00.542Z"
   },
   {
    "duration": 74,
    "start_time": "2022-10-06T11:59:02.509Z"
   },
   {
    "duration": 15,
    "start_time": "2022-10-06T11:59:02.595Z"
   },
   {
    "duration": 4,
    "start_time": "2022-10-06T11:59:09.636Z"
   },
   {
    "duration": 3,
    "start_time": "2022-10-06T11:59:10.406Z"
   },
   {
    "duration": 5,
    "start_time": "2022-10-06T11:59:12.533Z"
   },
   {
    "duration": 5,
    "start_time": "2022-10-06T11:59:13.583Z"
   },
   {
    "duration": 31,
    "start_time": "2022-10-06T11:59:14.436Z"
   },
   {
    "duration": 7,
    "start_time": "2022-10-06T11:59:16.695Z"
   },
   {
    "duration": 7,
    "start_time": "2022-10-06T11:59:18.335Z"
   },
   {
    "duration": 3494,
    "start_time": "2022-10-06T11:59:19.185Z"
   },
   {
    "duration": 527,
    "start_time": "2022-10-06T11:59:22.681Z"
   },
   {
    "duration": 8,
    "start_time": "2022-10-06T11:59:23.209Z"
   },
   {
    "duration": 1962,
    "start_time": "2022-10-06T11:59:36.805Z"
   },
   {
    "duration": 29,
    "start_time": "2022-10-06T11:59:38.769Z"
   },
   {
    "duration": 21,
    "start_time": "2022-10-06T11:59:38.917Z"
   },
   {
    "duration": 6,
    "start_time": "2022-10-06T11:59:39.837Z"
   },
   {
    "duration": 2,
    "start_time": "2022-10-06T11:59:40.806Z"
   },
   {
    "duration": 5,
    "start_time": "2022-10-06T11:59:46.374Z"
   },
   {
    "duration": 5,
    "start_time": "2022-10-06T11:59:47.077Z"
   },
   {
    "duration": 31,
    "start_time": "2022-10-06T11:59:48.117Z"
   },
   {
    "duration": 9,
    "start_time": "2022-10-06T11:59:49.743Z"
   },
   {
    "duration": 8,
    "start_time": "2022-10-06T11:59:51.975Z"
   },
   {
    "duration": 3812,
    "start_time": "2022-10-06T11:59:52.659Z"
   },
   {
    "duration": 501,
    "start_time": "2022-10-06T11:59:59.055Z"
   },
   {
    "duration": 6,
    "start_time": "2022-10-06T12:00:01.355Z"
   },
   {
    "duration": 4,
    "start_time": "2022-10-06T12:00:02.943Z"
   },
   {
    "duration": 5,
    "start_time": "2022-10-06T12:00:05.186Z"
   },
   {
    "duration": 7,
    "start_time": "2022-10-06T12:00:05.795Z"
   },
   {
    "duration": 4,
    "start_time": "2022-10-06T12:00:06.383Z"
   },
   {
    "duration": 5,
    "start_time": "2022-10-06T12:00:07.776Z"
   },
   {
    "duration": 6,
    "start_time": "2022-10-06T12:00:08.542Z"
   },
   {
    "duration": 5,
    "start_time": "2022-10-06T12:00:09.856Z"
   },
   {
    "duration": 4,
    "start_time": "2022-10-06T12:00:12.054Z"
   },
   {
    "duration": 11,
    "start_time": "2022-10-06T12:00:13.175Z"
   },
   {
    "duration": 14,
    "start_time": "2022-10-06T12:00:14.736Z"
   },
   {
    "duration": 18,
    "start_time": "2022-10-06T12:00:15.662Z"
   },
   {
    "duration": 16,
    "start_time": "2022-10-06T12:00:16.993Z"
   },
   {
    "duration": 3,
    "start_time": "2022-10-06T12:00:19.823Z"
   },
   {
    "duration": 22,
    "start_time": "2022-10-06T12:00:24.386Z"
   },
   {
    "duration": 136,
    "start_time": "2022-10-06T12:00:28.874Z"
   },
   {
    "duration": 6,
    "start_time": "2022-10-06T12:00:30.515Z"
   },
   {
    "duration": 4,
    "start_time": "2022-10-06T12:01:06.586Z"
   },
   {
    "duration": 3,
    "start_time": "2022-10-06T12:01:07.334Z"
   },
   {
    "duration": 103,
    "start_time": "2022-10-06T12:01:08.455Z"
   },
   {
    "duration": 5,
    "start_time": "2022-10-06T12:01:10.094Z"
   },
   {
    "duration": 5,
    "start_time": "2022-10-06T12:01:18.723Z"
   },
   {
    "duration": 92,
    "start_time": "2022-10-06T12:01:19.686Z"
   },
   {
    "duration": 5,
    "start_time": "2022-10-06T12:02:26.036Z"
   },
   {
    "duration": 19,
    "start_time": "2022-10-06T12:02:26.877Z"
   },
   {
    "duration": 1655,
    "start_time": "2022-10-06T12:02:54.986Z"
   },
   {
    "duration": 23,
    "start_time": "2022-10-06T12:05:14.655Z"
   },
   {
    "duration": 6,
    "start_time": "2022-10-06T12:06:00.724Z"
   },
   {
    "duration": 4,
    "start_time": "2022-10-06T12:06:07.634Z"
   },
   {
    "duration": 4,
    "start_time": "2022-10-06T12:06:12.301Z"
   },
   {
    "duration": 21,
    "start_time": "2022-10-06T12:07:21.121Z"
   },
   {
    "duration": 24,
    "start_time": "2022-10-06T12:07:34.060Z"
   },
   {
    "duration": 4,
    "start_time": "2022-10-06T12:07:55.012Z"
   },
   {
    "duration": 5,
    "start_time": "2022-10-06T12:08:00.407Z"
   },
   {
    "duration": 2451,
    "start_time": "2022-10-06T12:09:04.701Z"
   },
   {
    "duration": 2446,
    "start_time": "2022-10-06T12:09:24.468Z"
   },
   {
    "duration": 1657,
    "start_time": "2022-10-06T12:09:47.073Z"
   },
   {
    "duration": 2529,
    "start_time": "2022-10-06T12:10:04.405Z"
   },
   {
    "duration": 13,
    "start_time": "2022-10-06T12:10:42.644Z"
   },
   {
    "duration": 1809,
    "start_time": "2022-10-06T12:11:55.832Z"
   },
   {
    "duration": 30,
    "start_time": "2022-10-06T12:11:57.643Z"
   },
   {
    "duration": 12,
    "start_time": "2022-10-06T12:11:57.675Z"
   },
   {
    "duration": 5,
    "start_time": "2022-10-06T12:12:05.638Z"
   },
   {
    "duration": 3,
    "start_time": "2022-10-06T12:12:06.582Z"
   },
   {
    "duration": 5,
    "start_time": "2022-10-06T12:12:07.651Z"
   },
   {
    "duration": 5,
    "start_time": "2022-10-06T12:12:08.312Z"
   },
   {
    "duration": 32,
    "start_time": "2022-10-06T12:12:09.680Z"
   },
   {
    "duration": 9,
    "start_time": "2022-10-06T12:12:12.067Z"
   },
   {
    "duration": 7,
    "start_time": "2022-10-06T12:12:13.171Z"
   },
   {
    "duration": 3569,
    "start_time": "2022-10-06T12:12:13.818Z"
   },
   {
    "duration": 496,
    "start_time": "2022-10-06T12:12:17.389Z"
   },
   {
    "duration": 5,
    "start_time": "2022-10-06T12:12:19.640Z"
   },
   {
    "duration": 4,
    "start_time": "2022-10-06T12:12:20.801Z"
   },
   {
    "duration": 4,
    "start_time": "2022-10-06T12:12:21.986Z"
   },
   {
    "duration": 6,
    "start_time": "2022-10-06T12:12:22.561Z"
   },
   {
    "duration": 4,
    "start_time": "2022-10-06T12:12:23.851Z"
   },
   {
    "duration": 6,
    "start_time": "2022-10-06T12:12:24.671Z"
   },
   {
    "duration": 4,
    "start_time": "2022-10-06T12:12:25.251Z"
   },
   {
    "duration": 4,
    "start_time": "2022-10-06T12:12:25.781Z"
   },
   {
    "duration": 5,
    "start_time": "2022-10-06T12:12:29.102Z"
   },
   {
    "duration": 12,
    "start_time": "2022-10-06T12:12:30.050Z"
   },
   {
    "duration": 11,
    "start_time": "2022-10-06T12:12:31.591Z"
   },
   {
    "duration": 17,
    "start_time": "2022-10-06T12:12:33.301Z"
   },
   {
    "duration": 17,
    "start_time": "2022-10-06T12:12:33.853Z"
   },
   {
    "duration": 3,
    "start_time": "2022-10-06T12:12:35.263Z"
   },
   {
    "duration": 4,
    "start_time": "2022-10-06T12:12:36.538Z"
   },
   {
    "duration": 5,
    "start_time": "2022-10-06T12:12:38.243Z"
   },
   {
    "duration": 4,
    "start_time": "2022-10-06T12:13:31.860Z"
   },
   {
    "duration": 140,
    "start_time": "2022-10-06T12:14:07.071Z"
   },
   {
    "duration": 13,
    "start_time": "2022-10-06T12:14:26.698Z"
   },
   {
    "duration": 18,
    "start_time": "2022-10-06T12:17:41.009Z"
   },
   {
    "duration": 17,
    "start_time": "2022-10-06T12:18:21.711Z"
   },
   {
    "duration": 55,
    "start_time": "2022-10-06T12:19:03.681Z"
   },
   {
    "duration": 5,
    "start_time": "2022-10-06T12:19:37.008Z"
   },
   {
    "duration": 500,
    "start_time": "2022-10-06T12:21:23.008Z"
   },
   {
    "duration": 498,
    "start_time": "2022-10-06T12:23:09.106Z"
   },
   {
    "duration": 473,
    "start_time": "2022-10-06T12:23:21.946Z"
   },
   {
    "duration": 1655,
    "start_time": "2022-10-06T12:23:37.336Z"
   },
   {
    "duration": 15,
    "start_time": "2022-10-06T12:25:58.157Z"
   },
   {
    "duration": 2555,
    "start_time": "2022-10-06T12:26:04.505Z"
   },
   {
    "duration": 1808,
    "start_time": "2022-10-06T12:26:11.099Z"
   },
   {
    "duration": 2552,
    "start_time": "2022-10-06T12:26:22.885Z"
   },
   {
    "duration": 2398,
    "start_time": "2022-10-06T12:26:27.460Z"
   },
   {
    "duration": 1922,
    "start_time": "2022-10-06T12:26:42.970Z"
   },
   {
    "duration": 28,
    "start_time": "2022-10-06T12:26:44.894Z"
   },
   {
    "duration": 13,
    "start_time": "2022-10-06T12:26:44.924Z"
   },
   {
    "duration": 4,
    "start_time": "2022-10-06T12:26:44.939Z"
   },
   {
    "duration": 3,
    "start_time": "2022-10-06T12:26:45.196Z"
   },
   {
    "duration": 5,
    "start_time": "2022-10-06T12:26:46.471Z"
   },
   {
    "duration": 4,
    "start_time": "2022-10-06T12:26:47.030Z"
   },
   {
    "duration": 23,
    "start_time": "2022-10-06T12:26:47.931Z"
   },
   {
    "duration": 8,
    "start_time": "2022-10-06T12:26:52.167Z"
   },
   {
    "duration": 6,
    "start_time": "2022-10-06T12:26:53.269Z"
   },
   {
    "duration": 3560,
    "start_time": "2022-10-06T12:26:54.231Z"
   },
   {
    "duration": 518,
    "start_time": "2022-10-06T12:26:57.793Z"
   },
   {
    "duration": 8,
    "start_time": "2022-10-06T12:26:59.801Z"
   },
   {
    "duration": 4,
    "start_time": "2022-10-06T12:27:01.561Z"
   },
   {
    "duration": 4,
    "start_time": "2022-10-06T12:27:03.308Z"
   },
   {
    "duration": 7,
    "start_time": "2022-10-06T12:27:03.914Z"
   },
   {
    "duration": 4,
    "start_time": "2022-10-06T12:27:04.530Z"
   },
   {
    "duration": 6,
    "start_time": "2022-10-06T12:27:05.416Z"
   },
   {
    "duration": 4,
    "start_time": "2022-10-06T12:27:06.161Z"
   },
   {
    "duration": 4,
    "start_time": "2022-10-06T12:27:06.922Z"
   },
   {
    "duration": 3,
    "start_time": "2022-10-06T12:27:08.322Z"
   },
   {
    "duration": 12,
    "start_time": "2022-10-06T12:27:11.370Z"
   },
   {
    "duration": 12,
    "start_time": "2022-10-06T12:27:12.275Z"
   },
   {
    "duration": 18,
    "start_time": "2022-10-06T12:27:12.922Z"
   },
   {
    "duration": 15,
    "start_time": "2022-10-06T12:27:13.830Z"
   },
   {
    "duration": 4,
    "start_time": "2022-10-06T12:27:14.831Z"
   },
   {
    "duration": 3,
    "start_time": "2022-10-06T12:27:16.423Z"
   },
   {
    "duration": 5,
    "start_time": "2022-10-06T12:27:41.430Z"
   },
   {
    "duration": 5,
    "start_time": "2022-10-06T12:28:28.822Z"
   },
   {
    "duration": 129,
    "start_time": "2022-10-06T12:28:46.422Z"
   },
   {
    "duration": 1729,
    "start_time": "2022-10-06T12:28:51.302Z"
   },
   {
    "duration": 4,
    "start_time": "2022-10-06T12:29:27.523Z"
   },
   {
    "duration": 1855,
    "start_time": "2022-10-06T12:29:41.322Z"
   },
   {
    "duration": 3,
    "start_time": "2022-10-06T12:30:33.589Z"
   },
   {
    "duration": 9,
    "start_time": "2022-10-06T12:30:34.369Z"
   },
   {
    "duration": 5,
    "start_time": "2022-10-06T12:30:35.221Z"
   },
   {
    "duration": 1685,
    "start_time": "2022-10-06T12:30:36.179Z"
   },
   {
    "duration": 6,
    "start_time": "2022-10-06T12:30:44.477Z"
   },
   {
    "duration": 1686,
    "start_time": "2022-10-06T12:30:45.797Z"
   },
   {
    "duration": 6,
    "start_time": "2022-10-06T12:30:53.929Z"
   },
   {
    "duration": 1724,
    "start_time": "2022-10-06T12:30:54.898Z"
   },
   {
    "duration": 5,
    "start_time": "2022-10-06T12:31:03.230Z"
   },
   {
    "duration": 1864,
    "start_time": "2022-10-06T12:31:04.070Z"
   },
   {
    "duration": 5,
    "start_time": "2022-10-06T12:31:15.776Z"
   },
   {
    "duration": 17240,
    "start_time": "2022-10-06T12:31:16.465Z"
   },
   {
    "duration": 3,
    "start_time": "2022-10-06T12:31:34.728Z"
   },
   {
    "duration": 4,
    "start_time": "2022-10-06T12:31:35.568Z"
   },
   {
    "duration": 5,
    "start_time": "2022-10-06T12:31:36.421Z"
   },
   {
    "duration": 18297,
    "start_time": "2022-10-06T12:31:38.217Z"
   },
   {
    "duration": 17263,
    "start_time": "2022-10-06T12:31:59.001Z"
   },
   {
    "duration": 4,
    "start_time": "2022-10-06T12:32:17.800Z"
   },
   {
    "duration": 8583,
    "start_time": "2022-10-06T12:32:19.770Z"
   },
   {
    "duration": 4,
    "start_time": "2022-10-06T12:32:28.928Z"
   },
   {
    "duration": 17276,
    "start_time": "2022-10-06T12:32:29.750Z"
   },
   {
    "duration": 16478,
    "start_time": "2022-10-06T12:34:25.309Z"
   },
   {
    "duration": 3,
    "start_time": "2022-10-06T12:35:18.413Z"
   },
   {
    "duration": 4,
    "start_time": "2022-10-06T12:35:18.987Z"
   },
   {
    "duration": 4,
    "start_time": "2022-10-06T12:35:19.888Z"
   },
   {
    "duration": 18115,
    "start_time": "2022-10-06T12:35:20.620Z"
   },
   {
    "duration": 3,
    "start_time": "2022-10-06T12:38:20.478Z"
   },
   {
    "duration": 2,
    "start_time": "2022-10-06T12:38:22.028Z"
   },
   {
    "duration": 5,
    "start_time": "2022-10-06T12:38:22.856Z"
   },
   {
    "duration": 4,
    "start_time": "2022-10-06T12:38:23.888Z"
   },
   {
    "duration": 17154,
    "start_time": "2022-10-06T12:38:24.948Z"
   },
   {
    "duration": 5,
    "start_time": "2022-10-06T12:38:45.426Z"
   },
   {
    "duration": 5,
    "start_time": "2022-10-06T12:38:46.179Z"
   },
   {
    "duration": 4,
    "start_time": "2022-10-06T12:38:46.868Z"
   },
   {
    "duration": 16653,
    "start_time": "2022-10-06T12:38:47.467Z"
   },
   {
    "duration": 3,
    "start_time": "2022-10-06T12:40:16.046Z"
   },
   {
    "duration": 5,
    "start_time": "2022-10-06T12:40:16.626Z"
   },
   {
    "duration": 16649,
    "start_time": "2022-10-06T12:40:18.657Z"
   },
   {
    "duration": 5,
    "start_time": "2022-10-06T12:41:17.984Z"
   },
   {
    "duration": 42,
    "start_time": "2022-10-06T12:41:18.001Z"
   },
   {
    "duration": 9,
    "start_time": "2022-10-06T12:41:18.044Z"
   },
   {
    "duration": 31,
    "start_time": "2022-10-06T12:41:18.055Z"
   },
   {
    "duration": 51,
    "start_time": "2022-10-06T12:41:18.088Z"
   },
   {
    "duration": 10,
    "start_time": "2022-10-06T12:41:18.141Z"
   },
   {
    "duration": 8,
    "start_time": "2022-10-06T12:41:18.153Z"
   },
   {
    "duration": 25,
    "start_time": "2022-10-06T12:41:18.163Z"
   },
   {
    "duration": 6,
    "start_time": "2022-10-06T12:41:18.193Z"
   },
   {
    "duration": 13,
    "start_time": "2022-10-06T12:41:18.201Z"
   },
   {
    "duration": 3400,
    "start_time": "2022-10-06T12:41:18.216Z"
   },
   {
    "duration": 485,
    "start_time": "2022-10-06T12:41:21.617Z"
   },
   {
    "duration": 2,
    "start_time": "2022-10-06T12:41:22.103Z"
   },
   {
    "duration": 14,
    "start_time": "2022-10-06T12:41:22.107Z"
   },
   {
    "duration": 13,
    "start_time": "2022-10-06T12:41:22.122Z"
   },
   {
    "duration": 10,
    "start_time": "2022-10-06T12:41:22.136Z"
   },
   {
    "duration": 16,
    "start_time": "2022-10-06T12:41:22.147Z"
   },
   {
    "duration": 31,
    "start_time": "2022-10-06T12:41:22.164Z"
   },
   {
    "duration": 9,
    "start_time": "2022-10-06T12:41:22.196Z"
   },
   {
    "duration": 10,
    "start_time": "2022-10-06T12:41:22.208Z"
   },
   {
    "duration": 5,
    "start_time": "2022-10-06T12:41:22.219Z"
   },
   {
    "duration": 7,
    "start_time": "2022-10-06T12:41:22.226Z"
   },
   {
    "duration": 156,
    "start_time": "2022-10-06T12:41:22.235Z"
   },
   {
    "duration": 11,
    "start_time": "2022-10-06T12:41:22.400Z"
   },
   {
    "duration": 42,
    "start_time": "2022-10-06T12:41:22.412Z"
   },
   {
    "duration": 19,
    "start_time": "2022-10-06T12:41:22.456Z"
   },
   {
    "duration": 5,
    "start_time": "2022-10-06T12:41:22.477Z"
   },
   {
    "duration": 12,
    "start_time": "2022-10-06T12:41:22.484Z"
   },
   {
    "duration": 10,
    "start_time": "2022-10-06T12:41:22.498Z"
   },
   {
    "duration": 17,
    "start_time": "2022-10-06T12:41:22.510Z"
   },
   {
    "duration": 1959,
    "start_time": "2022-10-06T12:41:40.904Z"
   },
   {
    "duration": 29,
    "start_time": "2022-10-06T12:41:42.865Z"
   },
   {
    "duration": 15,
    "start_time": "2022-10-06T12:41:42.895Z"
   },
   {
    "duration": 4,
    "start_time": "2022-10-06T12:41:42.912Z"
   },
   {
    "duration": 9,
    "start_time": "2022-10-06T12:41:42.918Z"
   },
   {
    "duration": 7,
    "start_time": "2022-10-06T12:41:42.929Z"
   },
   {
    "duration": 7,
    "start_time": "2022-10-06T12:41:42.937Z"
   },
   {
    "duration": 30,
    "start_time": "2022-10-06T12:41:42.945Z"
   },
   {
    "duration": 25,
    "start_time": "2022-10-06T12:41:42.976Z"
   },
   {
    "duration": 5,
    "start_time": "2022-10-06T12:41:43.004Z"
   },
   {
    "duration": 3828,
    "start_time": "2022-10-06T12:41:43.011Z"
   },
   {
    "duration": 530,
    "start_time": "2022-10-06T12:41:46.841Z"
   },
   {
    "duration": 2,
    "start_time": "2022-10-06T12:41:47.373Z"
   },
   {
    "duration": 26,
    "start_time": "2022-10-06T12:41:47.376Z"
   },
   {
    "duration": 8,
    "start_time": "2022-10-06T12:41:47.404Z"
   },
   {
    "duration": 18,
    "start_time": "2022-10-06T12:41:47.414Z"
   },
   {
    "duration": 22,
    "start_time": "2022-10-06T12:41:47.436Z"
   },
   {
    "duration": 42,
    "start_time": "2022-10-06T12:41:47.460Z"
   },
   {
    "duration": 15,
    "start_time": "2022-10-06T12:41:47.504Z"
   },
   {
    "duration": 19,
    "start_time": "2022-10-06T12:41:47.521Z"
   },
   {
    "duration": 8,
    "start_time": "2022-10-06T12:41:47.542Z"
   },
   {
    "duration": 10,
    "start_time": "2022-10-06T12:41:47.551Z"
   },
   {
    "duration": 15,
    "start_time": "2022-10-06T12:41:47.563Z"
   },
   {
    "duration": 22,
    "start_time": "2022-10-06T12:41:47.580Z"
   },
   {
    "duration": 22,
    "start_time": "2022-10-06T12:41:47.604Z"
   },
   {
    "duration": 25,
    "start_time": "2022-10-06T12:41:47.628Z"
   },
   {
    "duration": 15,
    "start_time": "2022-10-06T12:41:47.655Z"
   },
   {
    "duration": 10,
    "start_time": "2022-10-06T12:41:47.673Z"
   },
   {
    "duration": 9,
    "start_time": "2022-10-06T12:41:47.685Z"
   },
   {
    "duration": 17,
    "start_time": "2022-10-06T12:41:47.696Z"
   },
   {
    "duration": 16525,
    "start_time": "2022-10-06T12:41:47.715Z"
   },
   {
    "duration": 5,
    "start_time": "2022-10-06T12:42:18.761Z"
   },
   {
    "duration": 17450,
    "start_time": "2022-10-06T12:42:19.525Z"
   },
   {
    "duration": 7,
    "start_time": "2022-10-06T12:42:59.496Z"
   },
   {
    "duration": 1760,
    "start_time": "2022-10-06T12:43:04.435Z"
   },
   {
    "duration": 32,
    "start_time": "2022-10-06T12:43:06.196Z"
   },
   {
    "duration": 13,
    "start_time": "2022-10-06T12:43:06.230Z"
   },
   {
    "duration": 10,
    "start_time": "2022-10-06T12:43:06.245Z"
   },
   {
    "duration": 7,
    "start_time": "2022-10-06T12:43:06.256Z"
   },
   {
    "duration": 9,
    "start_time": "2022-10-06T12:43:06.264Z"
   },
   {
    "duration": 7,
    "start_time": "2022-10-06T12:43:06.274Z"
   },
   {
    "duration": 27,
    "start_time": "2022-10-06T12:43:06.282Z"
   },
   {
    "duration": 7,
    "start_time": "2022-10-06T12:43:06.311Z"
   },
   {
    "duration": 7,
    "start_time": "2022-10-06T12:43:06.320Z"
   },
   {
    "duration": 3391,
    "start_time": "2022-10-06T12:43:06.328Z"
   },
   {
    "duration": 517,
    "start_time": "2022-10-06T12:43:09.720Z"
   },
   {
    "duration": 3,
    "start_time": "2022-10-06T12:43:10.238Z"
   },
   {
    "duration": 23,
    "start_time": "2022-10-06T12:43:10.242Z"
   },
   {
    "duration": 9,
    "start_time": "2022-10-06T12:43:10.266Z"
   },
   {
    "duration": 24,
    "start_time": "2022-10-06T12:43:10.276Z"
   },
   {
    "duration": 15,
    "start_time": "2022-10-06T12:43:10.302Z"
   },
   {
    "duration": 14,
    "start_time": "2022-10-06T12:43:10.318Z"
   },
   {
    "duration": 13,
    "start_time": "2022-10-06T12:43:10.334Z"
   },
   {
    "duration": 9,
    "start_time": "2022-10-06T12:43:10.348Z"
   },
   {
    "duration": 8,
    "start_time": "2022-10-06T12:43:10.359Z"
   },
   {
    "duration": 14,
    "start_time": "2022-10-06T12:43:10.369Z"
   },
   {
    "duration": 20,
    "start_time": "2022-10-06T12:43:10.385Z"
   },
   {
    "duration": 18,
    "start_time": "2022-10-06T12:43:10.407Z"
   },
   {
    "duration": 21,
    "start_time": "2022-10-06T12:43:10.427Z"
   },
   {
    "duration": 22,
    "start_time": "2022-10-06T12:43:10.450Z"
   },
   {
    "duration": 13,
    "start_time": "2022-10-06T12:43:10.473Z"
   },
   {
    "duration": 4,
    "start_time": "2022-10-06T12:43:10.489Z"
   },
   {
    "duration": 20,
    "start_time": "2022-10-06T12:43:10.495Z"
   },
   {
    "duration": 10,
    "start_time": "2022-10-06T12:43:10.516Z"
   },
   {
    "duration": 16126,
    "start_time": "2022-10-06T12:43:10.528Z"
   },
   {
    "duration": 1777,
    "start_time": "2022-10-06T12:43:31.782Z"
   },
   {
    "duration": 31,
    "start_time": "2022-10-06T12:43:33.561Z"
   },
   {
    "duration": 25,
    "start_time": "2022-10-06T12:43:33.595Z"
   },
   {
    "duration": 21,
    "start_time": "2022-10-06T12:43:33.623Z"
   },
   {
    "duration": 21,
    "start_time": "2022-10-06T12:43:33.646Z"
   },
   {
    "duration": 28,
    "start_time": "2022-10-06T12:43:33.669Z"
   },
   {
    "duration": 23,
    "start_time": "2022-10-06T12:43:33.699Z"
   },
   {
    "duration": 39,
    "start_time": "2022-10-06T12:43:33.723Z"
   },
   {
    "duration": 33,
    "start_time": "2022-10-06T12:43:33.764Z"
   },
   {
    "duration": 29,
    "start_time": "2022-10-06T12:43:33.800Z"
   },
   {
    "duration": 3532,
    "start_time": "2022-10-06T12:43:33.831Z"
   },
   {
    "duration": 512,
    "start_time": "2022-10-06T12:43:37.364Z"
   },
   {
    "duration": 2,
    "start_time": "2022-10-06T12:43:37.878Z"
   },
   {
    "duration": 19,
    "start_time": "2022-10-06T12:43:37.882Z"
   },
   {
    "duration": 3,
    "start_time": "2022-10-06T12:43:37.903Z"
   },
   {
    "duration": 6,
    "start_time": "2022-10-06T12:43:37.907Z"
   },
   {
    "duration": 7,
    "start_time": "2022-10-06T12:43:37.915Z"
   },
   {
    "duration": 6,
    "start_time": "2022-10-06T12:43:37.923Z"
   },
   {
    "duration": 6,
    "start_time": "2022-10-06T12:43:37.930Z"
   },
   {
    "duration": 6,
    "start_time": "2022-10-06T12:43:37.937Z"
   },
   {
    "duration": 5,
    "start_time": "2022-10-06T12:43:37.945Z"
   },
   {
    "duration": 5,
    "start_time": "2022-10-06T12:43:37.952Z"
   },
   {
    "duration": 49,
    "start_time": "2022-10-06T12:43:37.959Z"
   },
   {
    "duration": 16,
    "start_time": "2022-10-06T12:43:38.010Z"
   },
   {
    "duration": 20,
    "start_time": "2022-10-06T12:43:38.028Z"
   },
   {
    "duration": 18,
    "start_time": "2022-10-06T12:43:38.050Z"
   },
   {
    "duration": 5,
    "start_time": "2022-10-06T12:43:38.069Z"
   },
   {
    "duration": 24,
    "start_time": "2022-10-06T12:43:38.076Z"
   },
   {
    "duration": 10,
    "start_time": "2022-10-06T12:43:38.102Z"
   },
   {
    "duration": 7,
    "start_time": "2022-10-06T12:43:38.113Z"
   },
   {
    "duration": 16829,
    "start_time": "2022-10-06T12:43:38.122Z"
   },
   {
    "duration": 4,
    "start_time": "2022-10-06T12:44:43.264Z"
   },
   {
    "duration": 16822,
    "start_time": "2022-10-06T12:44:43.270Z"
   },
   {
    "duration": 17368,
    "start_time": "2022-10-06T12:45:14.654Z"
   },
   {
    "duration": 1825,
    "start_time": "2022-10-06T12:45:35.872Z"
   },
   {
    "duration": 29,
    "start_time": "2022-10-06T12:45:37.699Z"
   },
   {
    "duration": 14,
    "start_time": "2022-10-06T12:45:37.730Z"
   },
   {
    "duration": 4,
    "start_time": "2022-10-06T12:45:37.745Z"
   },
   {
    "duration": 4,
    "start_time": "2022-10-06T12:45:37.751Z"
   },
   {
    "duration": 14,
    "start_time": "2022-10-06T12:45:37.756Z"
   },
   {
    "duration": 6,
    "start_time": "2022-10-06T12:45:37.772Z"
   },
   {
    "duration": 29,
    "start_time": "2022-10-06T12:45:37.779Z"
   },
   {
    "duration": 6,
    "start_time": "2022-10-06T12:45:37.810Z"
   },
   {
    "duration": 9,
    "start_time": "2022-10-06T12:45:37.818Z"
   },
   {
    "duration": 3554,
    "start_time": "2022-10-06T12:45:37.829Z"
   },
   {
    "duration": 555,
    "start_time": "2022-10-06T12:45:41.385Z"
   },
   {
    "duration": 3,
    "start_time": "2022-10-06T12:45:41.942Z"
   },
   {
    "duration": 6,
    "start_time": "2022-10-06T12:45:41.949Z"
   },
   {
    "duration": 5,
    "start_time": "2022-10-06T12:45:41.957Z"
   },
   {
    "duration": 7,
    "start_time": "2022-10-06T12:45:41.963Z"
   },
   {
    "duration": 30,
    "start_time": "2022-10-06T12:45:41.972Z"
   },
   {
    "duration": 5,
    "start_time": "2022-10-06T12:45:42.004Z"
   },
   {
    "duration": 8,
    "start_time": "2022-10-06T12:45:42.011Z"
   },
   {
    "duration": 7,
    "start_time": "2022-10-06T12:45:42.020Z"
   },
   {
    "duration": 7,
    "start_time": "2022-10-06T12:45:42.029Z"
   },
   {
    "duration": 5,
    "start_time": "2022-10-06T12:45:42.037Z"
   },
   {
    "duration": 14,
    "start_time": "2022-10-06T12:45:42.044Z"
   },
   {
    "duration": 16,
    "start_time": "2022-10-06T12:45:42.059Z"
   },
   {
    "duration": 37,
    "start_time": "2022-10-06T12:45:42.077Z"
   },
   {
    "duration": 15,
    "start_time": "2022-10-06T12:45:42.115Z"
   },
   {
    "duration": 6,
    "start_time": "2022-10-06T12:45:42.132Z"
   },
   {
    "duration": 4,
    "start_time": "2022-10-06T12:45:42.139Z"
   },
   {
    "duration": 6,
    "start_time": "2022-10-06T12:45:42.144Z"
   },
   {
    "duration": 6,
    "start_time": "2022-10-06T12:45:42.151Z"
   },
   {
    "duration": 16902,
    "start_time": "2022-10-06T12:45:58.946Z"
   },
   {
    "duration": 3,
    "start_time": "2022-10-06T12:46:17.006Z"
   },
   {
    "duration": 6,
    "start_time": "2022-10-06T12:46:17.536Z"
   },
   {
    "duration": 3,
    "start_time": "2022-10-06T12:46:18.126Z"
   },
   {
    "duration": 17010,
    "start_time": "2022-10-06T12:46:18.686Z"
   },
   {
    "duration": 4,
    "start_time": "2022-10-06T12:49:03.969Z"
   },
   {
    "duration": 1950,
    "start_time": "2022-10-06T12:49:32.903Z"
   },
   {
    "duration": 30,
    "start_time": "2022-10-06T12:49:34.854Z"
   },
   {
    "duration": 15,
    "start_time": "2022-10-06T12:49:34.885Z"
   },
   {
    "duration": 5,
    "start_time": "2022-10-06T12:49:34.902Z"
   },
   {
    "duration": 6,
    "start_time": "2022-10-06T12:49:34.909Z"
   },
   {
    "duration": 11,
    "start_time": "2022-10-06T12:49:34.917Z"
   },
   {
    "duration": 9,
    "start_time": "2022-10-06T12:49:34.930Z"
   },
   {
    "duration": 32,
    "start_time": "2022-10-06T12:49:34.940Z"
   },
   {
    "duration": 26,
    "start_time": "2022-10-06T12:49:34.974Z"
   },
   {
    "duration": 5,
    "start_time": "2022-10-06T12:49:35.002Z"
   },
   {
    "duration": 3455,
    "start_time": "2022-10-06T12:49:35.008Z"
   },
   {
    "duration": 496,
    "start_time": "2022-10-06T12:49:38.464Z"
   },
   {
    "duration": 2,
    "start_time": "2022-10-06T12:49:38.962Z"
   },
   {
    "duration": 15,
    "start_time": "2022-10-06T12:49:38.967Z"
   },
   {
    "duration": 18,
    "start_time": "2022-10-06T12:49:38.983Z"
   },
   {
    "duration": 25,
    "start_time": "2022-10-06T12:49:39.003Z"
   },
   {
    "duration": 13,
    "start_time": "2022-10-06T12:49:39.030Z"
   },
   {
    "duration": 19,
    "start_time": "2022-10-06T12:49:39.044Z"
   },
   {
    "duration": 29,
    "start_time": "2022-10-06T12:49:39.065Z"
   },
   {
    "duration": 16,
    "start_time": "2022-10-06T12:49:39.095Z"
   },
   {
    "duration": 42,
    "start_time": "2022-10-06T12:49:39.112Z"
   },
   {
    "duration": 23,
    "start_time": "2022-10-06T12:49:39.156Z"
   },
   {
    "duration": 29,
    "start_time": "2022-10-06T12:49:39.181Z"
   },
   {
    "duration": 45,
    "start_time": "2022-10-06T12:49:39.212Z"
   },
   {
    "duration": 28,
    "start_time": "2022-10-06T12:49:39.259Z"
   },
   {
    "duration": 19,
    "start_time": "2022-10-06T12:49:39.288Z"
   },
   {
    "duration": 18,
    "start_time": "2022-10-06T12:49:39.308Z"
   },
   {
    "duration": 6,
    "start_time": "2022-10-06T12:49:39.327Z"
   },
   {
    "duration": 9,
    "start_time": "2022-10-06T12:49:39.334Z"
   },
   {
    "duration": 8,
    "start_time": "2022-10-06T12:49:39.345Z"
   },
   {
    "duration": 17117,
    "start_time": "2022-10-06T12:49:39.355Z"
   },
   {
    "duration": 17179,
    "start_time": "2022-10-06T12:49:59.176Z"
   },
   {
    "duration": 2,
    "start_time": "2022-10-06T12:50:16.358Z"
   },
   {
    "duration": 8,
    "start_time": "2022-10-06T12:50:16.362Z"
   },
   {
    "duration": 8,
    "start_time": "2022-10-06T12:50:16.371Z"
   },
   {
    "duration": 1820,
    "start_time": "2022-10-06T12:51:01.844Z"
   },
   {
    "duration": 28,
    "start_time": "2022-10-06T12:51:03.668Z"
   },
   {
    "duration": 14,
    "start_time": "2022-10-06T12:51:03.699Z"
   },
   {
    "duration": 6,
    "start_time": "2022-10-06T12:51:03.716Z"
   },
   {
    "duration": 11,
    "start_time": "2022-10-06T12:51:03.724Z"
   },
   {
    "duration": 8,
    "start_time": "2022-10-06T12:51:03.738Z"
   },
   {
    "duration": 9,
    "start_time": "2022-10-06T12:51:03.748Z"
   },
   {
    "duration": 47,
    "start_time": "2022-10-06T12:51:03.759Z"
   },
   {
    "duration": 7,
    "start_time": "2022-10-06T12:51:03.808Z"
   },
   {
    "duration": 11,
    "start_time": "2022-10-06T12:51:03.819Z"
   },
   {
    "duration": 3640,
    "start_time": "2022-10-06T12:51:03.832Z"
   },
   {
    "duration": 501,
    "start_time": "2022-10-06T12:51:07.474Z"
   },
   {
    "duration": 3,
    "start_time": "2022-10-06T12:51:07.977Z"
   },
   {
    "duration": 20,
    "start_time": "2022-10-06T12:51:07.982Z"
   },
   {
    "duration": 5,
    "start_time": "2022-10-06T12:51:08.004Z"
   },
   {
    "duration": 6,
    "start_time": "2022-10-06T12:51:08.011Z"
   },
   {
    "duration": 9,
    "start_time": "2022-10-06T12:51:08.018Z"
   },
   {
    "duration": 7,
    "start_time": "2022-10-06T12:51:08.028Z"
   },
   {
    "duration": 9,
    "start_time": "2022-10-06T12:51:08.036Z"
   },
   {
    "duration": 11,
    "start_time": "2022-10-06T12:51:08.047Z"
   },
   {
    "duration": 6,
    "start_time": "2022-10-06T12:51:08.059Z"
   },
   {
    "duration": 9,
    "start_time": "2022-10-06T12:51:08.066Z"
   },
   {
    "duration": 29,
    "start_time": "2022-10-06T12:51:08.076Z"
   },
   {
    "duration": 14,
    "start_time": "2022-10-06T12:51:08.107Z"
   },
   {
    "duration": 20,
    "start_time": "2022-10-06T12:51:08.122Z"
   },
   {
    "duration": 18,
    "start_time": "2022-10-06T12:51:08.143Z"
   },
   {
    "duration": 6,
    "start_time": "2022-10-06T12:51:08.162Z"
   },
   {
    "duration": 11,
    "start_time": "2022-10-06T12:51:08.170Z"
   },
   {
    "duration": 27,
    "start_time": "2022-10-06T12:51:08.183Z"
   },
   {
    "duration": 6,
    "start_time": "2022-10-06T12:51:08.212Z"
   },
   {
    "duration": 16649,
    "start_time": "2022-10-06T12:51:08.220Z"
   },
   {
    "duration": 5,
    "start_time": "2022-10-06T12:51:51.704Z"
   },
   {
    "duration": 5,
    "start_time": "2022-10-06T12:51:52.184Z"
   },
   {
    "duration": 17171,
    "start_time": "2022-10-06T12:51:52.642Z"
   },
   {
    "duration": 17279,
    "start_time": "2022-10-06T12:52:12.932Z"
   },
   {
    "duration": 3,
    "start_time": "2022-10-06T12:52:59.577Z"
   },
   {
    "duration": 6,
    "start_time": "2022-10-06T12:53:00.935Z"
   },
   {
    "duration": 4,
    "start_time": "2022-10-06T12:53:01.756Z"
   },
   {
    "duration": 17854,
    "start_time": "2022-10-06T12:53:02.616Z"
   },
   {
    "duration": 3,
    "start_time": "2022-10-06T12:53:20.473Z"
   },
   {
    "duration": 3,
    "start_time": "2022-10-06T12:53:26.536Z"
   },
   {
    "duration": 5,
    "start_time": "2022-10-06T12:53:28.677Z"
   },
   {
    "duration": 4,
    "start_time": "2022-10-06T12:53:29.507Z"
   },
   {
    "duration": 20039,
    "start_time": "2022-10-06T12:53:30.938Z"
   },
   {
    "duration": 2166,
    "start_time": "2022-10-06T23:20:55.337Z"
   },
   {
    "duration": 74,
    "start_time": "2022-10-06T23:20:57.505Z"
   },
   {
    "duration": 16,
    "start_time": "2022-10-06T23:20:57.580Z"
   },
   {
    "duration": 4,
    "start_time": "2022-10-06T23:20:57.598Z"
   },
   {
    "duration": 4,
    "start_time": "2022-10-06T23:20:57.604Z"
   },
   {
    "duration": 8,
    "start_time": "2022-10-06T23:20:57.610Z"
   },
   {
    "duration": 6,
    "start_time": "2022-10-06T23:20:57.620Z"
   },
   {
    "duration": 42,
    "start_time": "2022-10-06T23:20:57.627Z"
   },
   {
    "duration": 7,
    "start_time": "2022-10-06T23:20:57.672Z"
   },
   {
    "duration": 8,
    "start_time": "2022-10-06T23:20:57.680Z"
   },
   {
    "duration": 3847,
    "start_time": "2022-10-06T23:20:57.689Z"
   },
   {
    "duration": 578,
    "start_time": "2022-10-06T23:21:01.553Z"
   },
   {
    "duration": 3,
    "start_time": "2022-10-06T23:21:02.134Z"
   },
   {
    "duration": 7,
    "start_time": "2022-10-06T23:21:02.153Z"
   },
   {
    "duration": 7,
    "start_time": "2022-10-06T23:21:02.162Z"
   },
   {
    "duration": 22,
    "start_time": "2022-10-06T23:21:02.170Z"
   },
   {
    "duration": 25,
    "start_time": "2022-10-06T23:21:02.194Z"
   },
   {
    "duration": 27,
    "start_time": "2022-10-06T23:21:02.221Z"
   },
   {
    "duration": 14,
    "start_time": "2022-10-06T23:21:02.250Z"
   },
   {
    "duration": 10,
    "start_time": "2022-10-06T23:21:02.265Z"
   },
   {
    "duration": 9,
    "start_time": "2022-10-06T23:21:02.277Z"
   },
   {
    "duration": 8,
    "start_time": "2022-10-06T23:21:02.288Z"
   },
   {
    "duration": 14,
    "start_time": "2022-10-06T23:21:02.298Z"
   },
   {
    "duration": 16,
    "start_time": "2022-10-06T23:21:02.313Z"
   },
   {
    "duration": 20,
    "start_time": "2022-10-06T23:21:02.330Z"
   },
   {
    "duration": 23,
    "start_time": "2022-10-06T23:21:02.354Z"
   },
   {
    "duration": 11,
    "start_time": "2022-10-06T23:21:02.379Z"
   },
   {
    "duration": 4,
    "start_time": "2022-10-06T23:21:02.391Z"
   },
   {
    "duration": 7,
    "start_time": "2022-10-06T23:21:02.397Z"
   },
   {
    "duration": 20,
    "start_time": "2022-10-06T23:21:02.405Z"
   },
   {
    "duration": 1943,
    "start_time": "2022-10-06T23:21:23.287Z"
   },
   {
    "duration": 31,
    "start_time": "2022-10-06T23:21:25.232Z"
   },
   {
    "duration": 17,
    "start_time": "2022-10-06T23:21:25.265Z"
   },
   {
    "duration": 9,
    "start_time": "2022-10-06T23:21:25.284Z"
   },
   {
    "duration": 9,
    "start_time": "2022-10-06T23:21:25.296Z"
   },
   {
    "duration": 9,
    "start_time": "2022-10-06T23:21:25.306Z"
   },
   {
    "duration": 7,
    "start_time": "2022-10-06T23:21:25.317Z"
   },
   {
    "duration": 47,
    "start_time": "2022-10-06T23:21:25.325Z"
   },
   {
    "duration": 8,
    "start_time": "2022-10-06T23:21:25.374Z"
   },
   {
    "duration": 11,
    "start_time": "2022-10-06T23:21:25.384Z"
   },
   {
    "duration": 3727,
    "start_time": "2022-10-06T23:21:25.397Z"
   },
   {
    "duration": 566,
    "start_time": "2022-10-06T23:21:29.126Z"
   },
   {
    "duration": 3,
    "start_time": "2022-10-06T23:21:29.694Z"
   },
   {
    "duration": 8,
    "start_time": "2022-10-06T23:21:29.700Z"
   },
   {
    "duration": 11,
    "start_time": "2022-10-06T23:21:29.710Z"
   },
   {
    "duration": 11,
    "start_time": "2022-10-06T23:21:29.722Z"
   },
   {
    "duration": 21,
    "start_time": "2022-10-06T23:21:29.735Z"
   },
   {
    "duration": 7,
    "start_time": "2022-10-06T23:21:29.758Z"
   },
   {
    "duration": 8,
    "start_time": "2022-10-06T23:21:29.767Z"
   },
   {
    "duration": 9,
    "start_time": "2022-10-06T23:21:29.777Z"
   },
   {
    "duration": 6,
    "start_time": "2022-10-06T23:21:29.788Z"
   },
   {
    "duration": 7,
    "start_time": "2022-10-06T23:21:29.796Z"
   },
   {
    "duration": 19,
    "start_time": "2022-10-06T23:21:29.805Z"
   },
   {
    "duration": 33,
    "start_time": "2022-10-06T23:21:29.825Z"
   },
   {
    "duration": 18,
    "start_time": "2022-10-06T23:21:29.860Z"
   },
   {
    "duration": 18,
    "start_time": "2022-10-06T23:21:29.880Z"
   },
   {
    "duration": 5,
    "start_time": "2022-10-06T23:21:29.900Z"
   },
   {
    "duration": 4,
    "start_time": "2022-10-06T23:21:29.907Z"
   },
   {
    "duration": 8,
    "start_time": "2022-10-06T23:21:29.913Z"
   },
   {
    "duration": 37,
    "start_time": "2022-10-06T23:21:29.922Z"
   },
   {
    "duration": 1971,
    "start_time": "2022-10-06T23:21:48.961Z"
   },
   {
    "duration": 29,
    "start_time": "2022-10-06T23:21:50.935Z"
   },
   {
    "duration": 15,
    "start_time": "2022-10-06T23:21:50.966Z"
   },
   {
    "duration": 4,
    "start_time": "2022-10-06T23:21:50.983Z"
   },
   {
    "duration": 9,
    "start_time": "2022-10-06T23:21:50.989Z"
   },
   {
    "duration": 8,
    "start_time": "2022-10-06T23:21:50.999Z"
   },
   {
    "duration": 12,
    "start_time": "2022-10-06T23:21:51.009Z"
   },
   {
    "duration": 35,
    "start_time": "2022-10-06T23:21:51.022Z"
   },
   {
    "duration": 7,
    "start_time": "2022-10-06T23:21:51.059Z"
   },
   {
    "duration": 21,
    "start_time": "2022-10-06T23:21:51.067Z"
   },
   {
    "duration": 3855,
    "start_time": "2022-10-06T23:21:51.089Z"
   },
   {
    "duration": 557,
    "start_time": "2022-10-06T23:21:54.947Z"
   },
   {
    "duration": 3,
    "start_time": "2022-10-06T23:21:55.506Z"
   },
   {
    "duration": 15,
    "start_time": "2022-10-06T23:21:55.513Z"
   },
   {
    "duration": 7,
    "start_time": "2022-10-06T23:21:55.530Z"
   },
   {
    "duration": 18,
    "start_time": "2022-10-06T23:21:55.538Z"
   },
   {
    "duration": 12,
    "start_time": "2022-10-06T23:21:55.558Z"
   },
   {
    "duration": 7,
    "start_time": "2022-10-06T23:21:55.573Z"
   },
   {
    "duration": 13,
    "start_time": "2022-10-06T23:21:55.582Z"
   },
   {
    "duration": 8,
    "start_time": "2022-10-06T23:21:55.596Z"
   },
   {
    "duration": 13,
    "start_time": "2022-10-06T23:21:55.606Z"
   },
   {
    "duration": 8,
    "start_time": "2022-10-06T23:21:55.621Z"
   },
   {
    "duration": 15,
    "start_time": "2022-10-06T23:21:55.631Z"
   },
   {
    "duration": 11,
    "start_time": "2022-10-06T23:21:55.653Z"
   },
   {
    "duration": 18,
    "start_time": "2022-10-06T23:21:55.666Z"
   },
   {
    "duration": 24,
    "start_time": "2022-10-06T23:21:55.686Z"
   },
   {
    "duration": 8,
    "start_time": "2022-10-06T23:21:55.712Z"
   },
   {
    "duration": 10,
    "start_time": "2022-10-06T23:21:55.721Z"
   },
   {
    "duration": 22,
    "start_time": "2022-10-06T23:21:55.732Z"
   },
   {
    "duration": 12,
    "start_time": "2022-10-06T23:21:55.756Z"
   },
   {
    "duration": 2009,
    "start_time": "2022-10-06T23:22:09.402Z"
   },
   {
    "duration": 41,
    "start_time": "2022-10-06T23:22:11.413Z"
   },
   {
    "duration": 24,
    "start_time": "2022-10-06T23:22:11.456Z"
   },
   {
    "duration": 6,
    "start_time": "2022-10-06T23:22:11.483Z"
   },
   {
    "duration": 5,
    "start_time": "2022-10-06T23:22:11.492Z"
   },
   {
    "duration": 15,
    "start_time": "2022-10-06T23:22:11.500Z"
   },
   {
    "duration": 16,
    "start_time": "2022-10-06T23:22:11.517Z"
   },
   {
    "duration": 55,
    "start_time": "2022-10-06T23:22:11.554Z"
   },
   {
    "duration": 16,
    "start_time": "2022-10-06T23:22:11.611Z"
   },
   {
    "duration": 19,
    "start_time": "2022-10-06T23:22:11.629Z"
   },
   {
    "duration": 4126,
    "start_time": "2022-10-06T23:22:11.650Z"
   },
   {
    "duration": 577,
    "start_time": "2022-10-06T23:22:15.779Z"
   },
   {
    "duration": 2,
    "start_time": "2022-10-06T23:22:16.358Z"
   },
   {
    "duration": 11,
    "start_time": "2022-10-06T23:22:16.363Z"
   },
   {
    "duration": 6,
    "start_time": "2022-10-06T23:22:16.376Z"
   },
   {
    "duration": 6,
    "start_time": "2022-10-06T23:22:16.383Z"
   },
   {
    "duration": 15,
    "start_time": "2022-10-06T23:22:16.391Z"
   },
   {
    "duration": 6,
    "start_time": "2022-10-06T23:22:16.408Z"
   },
   {
    "duration": 6,
    "start_time": "2022-10-06T23:22:16.416Z"
   },
   {
    "duration": 8,
    "start_time": "2022-10-06T23:22:16.424Z"
   },
   {
    "duration": 22,
    "start_time": "2022-10-06T23:22:16.433Z"
   },
   {
    "duration": 3,
    "start_time": "2022-10-06T23:22:16.457Z"
   },
   {
    "duration": 15,
    "start_time": "2022-10-06T23:22:16.461Z"
   },
   {
    "duration": 14,
    "start_time": "2022-10-06T23:22:16.478Z"
   },
   {
    "duration": 21,
    "start_time": "2022-10-06T23:22:16.494Z"
   },
   {
    "duration": 42,
    "start_time": "2022-10-06T23:22:16.517Z"
   },
   {
    "duration": 6,
    "start_time": "2022-10-06T23:22:16.561Z"
   },
   {
    "duration": 4,
    "start_time": "2022-10-06T23:22:16.569Z"
   },
   {
    "duration": 6,
    "start_time": "2022-10-06T23:22:16.574Z"
   },
   {
    "duration": 9,
    "start_time": "2022-10-06T23:22:16.581Z"
   },
   {
    "duration": 19590,
    "start_time": "2022-10-06T23:23:26.627Z"
   },
   {
    "duration": 6,
    "start_time": "2022-10-06T23:27:13.677Z"
   },
   {
    "duration": 139,
    "start_time": "2022-10-06T23:27:21.937Z"
   },
   {
    "duration": 11,
    "start_time": "2022-10-06T23:28:34.912Z"
   },
   {
    "duration": 6,
    "start_time": "2022-10-06T23:33:09.112Z"
   },
   {
    "duration": 7,
    "start_time": "2022-10-06T23:33:20.553Z"
   },
   {
    "duration": 3,
    "start_time": "2022-10-06T23:34:58.636Z"
   },
   {
    "duration": 2081,
    "start_time": "2022-10-06T23:35:10.866Z"
   },
   {
    "duration": 32,
    "start_time": "2022-10-06T23:35:12.949Z"
   },
   {
    "duration": 16,
    "start_time": "2022-10-06T23:35:12.982Z"
   },
   {
    "duration": 4,
    "start_time": "2022-10-06T23:35:13.000Z"
   },
   {
    "duration": 6,
    "start_time": "2022-10-06T23:35:13.005Z"
   },
   {
    "duration": 7,
    "start_time": "2022-10-06T23:35:13.013Z"
   },
   {
    "duration": 7,
    "start_time": "2022-10-06T23:35:13.022Z"
   },
   {
    "duration": 45,
    "start_time": "2022-10-06T23:35:13.031Z"
   },
   {
    "duration": 8,
    "start_time": "2022-10-06T23:35:13.078Z"
   },
   {
    "duration": 8,
    "start_time": "2022-10-06T23:35:13.345Z"
   },
   {
    "duration": 3865,
    "start_time": "2022-10-06T23:35:13.516Z"
   },
   {
    "duration": 564,
    "start_time": "2022-10-06T23:35:17.383Z"
   },
   {
    "duration": 5,
    "start_time": "2022-10-06T23:35:17.949Z"
   },
   {
    "duration": 9,
    "start_time": "2022-10-06T23:35:17.956Z"
   },
   {
    "duration": 8,
    "start_time": "2022-10-06T23:35:17.967Z"
   },
   {
    "duration": 4,
    "start_time": "2022-10-06T23:35:18.000Z"
   },
   {
    "duration": 7,
    "start_time": "2022-10-06T23:35:18.205Z"
   },
   {
    "duration": 4,
    "start_time": "2022-10-06T23:35:18.385Z"
   },
   {
    "duration": 10,
    "start_time": "2022-10-06T23:35:19.240Z"
   },
   {
    "duration": 6,
    "start_time": "2022-10-06T23:35:19.595Z"
   },
   {
    "duration": 5,
    "start_time": "2022-10-06T23:35:19.845Z"
   },
   {
    "duration": 3,
    "start_time": "2022-10-06T23:35:20.130Z"
   },
   {
    "duration": 12,
    "start_time": "2022-10-06T23:35:20.385Z"
   },
   {
    "duration": 14,
    "start_time": "2022-10-06T23:35:20.855Z"
   },
   {
    "duration": 19,
    "start_time": "2022-10-06T23:35:21.855Z"
   },
   {
    "duration": 18,
    "start_time": "2022-10-06T23:35:22.095Z"
   },
   {
    "duration": 5,
    "start_time": "2022-10-06T23:35:23.330Z"
   },
   {
    "duration": 5,
    "start_time": "2022-10-06T23:35:23.735Z"
   },
   {
    "duration": 4,
    "start_time": "2022-10-06T23:36:01.345Z"
   },
   {
    "duration": 7,
    "start_time": "2022-10-06T23:37:10.889Z"
   },
   {
    "duration": 4,
    "start_time": "2022-10-06T23:37:30.926Z"
   },
   {
    "duration": 6,
    "start_time": "2022-10-06T23:37:37.790Z"
   },
   {
    "duration": 4,
    "start_time": "2022-10-06T23:37:55.620Z"
   },
   {
    "duration": 4,
    "start_time": "2022-10-06T23:38:19.620Z"
   },
   {
    "duration": 3,
    "start_time": "2022-10-06T23:38:38.055Z"
   },
   {
    "duration": 148,
    "start_time": "2022-10-06T23:39:02.308Z"
   },
   {
    "duration": 31,
    "start_time": "2022-10-06T23:42:12.066Z"
   },
   {
    "duration": 4,
    "start_time": "2022-10-06T23:43:11.190Z"
   },
   {
    "duration": 29,
    "start_time": "2022-10-06T23:43:12.686Z"
   },
   {
    "duration": 23,
    "start_time": "2022-10-06T23:43:41.336Z"
   },
   {
    "duration": 1991,
    "start_time": "2022-10-06T23:43:51.192Z"
   },
   {
    "duration": 31,
    "start_time": "2022-10-06T23:43:53.186Z"
   },
   {
    "duration": 17,
    "start_time": "2022-10-06T23:43:53.219Z"
   },
   {
    "duration": 5,
    "start_time": "2022-10-06T23:43:53.239Z"
   },
   {
    "duration": 12,
    "start_time": "2022-10-06T23:43:53.245Z"
   },
   {
    "duration": 8,
    "start_time": "2022-10-06T23:43:53.259Z"
   },
   {
    "duration": 14,
    "start_time": "2022-10-06T23:43:53.269Z"
   },
   {
    "duration": 38,
    "start_time": "2022-10-06T23:43:53.285Z"
   },
   {
    "duration": 9,
    "start_time": "2022-10-06T23:43:53.325Z"
   },
   {
    "duration": 7,
    "start_time": "2022-10-06T23:43:53.572Z"
   },
   {
    "duration": 3916,
    "start_time": "2022-10-06T23:43:53.741Z"
   },
   {
    "duration": 569,
    "start_time": "2022-10-06T23:43:57.659Z"
   },
   {
    "duration": 2,
    "start_time": "2022-10-06T23:43:58.230Z"
   },
   {
    "duration": 20,
    "start_time": "2022-10-06T23:43:58.235Z"
   },
   {
    "duration": 4,
    "start_time": "2022-10-06T23:43:58.257Z"
   },
   {
    "duration": 7,
    "start_time": "2022-10-06T23:43:58.262Z"
   },
   {
    "duration": 9,
    "start_time": "2022-10-06T23:43:58.270Z"
   },
   {
    "duration": 6,
    "start_time": "2022-10-06T23:43:58.281Z"
   },
   {
    "duration": 9,
    "start_time": "2022-10-06T23:43:58.288Z"
   },
   {
    "duration": 27,
    "start_time": "2022-10-06T23:43:58.300Z"
   },
   {
    "duration": 16,
    "start_time": "2022-10-06T23:43:58.329Z"
   },
   {
    "duration": 12,
    "start_time": "2022-10-06T23:43:58.347Z"
   },
   {
    "duration": 17,
    "start_time": "2022-10-06T23:43:58.361Z"
   },
   {
    "duration": 24,
    "start_time": "2022-10-06T23:43:58.379Z"
   },
   {
    "duration": 19,
    "start_time": "2022-10-06T23:43:59.581Z"
   },
   {
    "duration": 19,
    "start_time": "2022-10-06T23:43:59.752Z"
   },
   {
    "duration": 4,
    "start_time": "2022-10-06T23:44:02.292Z"
   },
   {
    "duration": 4,
    "start_time": "2022-10-06T23:44:03.761Z"
   },
   {
    "duration": 4,
    "start_time": "2022-10-06T23:44:05.571Z"
   },
   {
    "duration": 6,
    "start_time": "2022-10-06T23:44:08.382Z"
   },
   {
    "duration": 5,
    "start_time": "2022-10-06T23:44:11.842Z"
   },
   {
    "duration": 6,
    "start_time": "2022-10-06T23:44:13.061Z"
   },
   {
    "duration": 4,
    "start_time": "2022-10-06T23:44:13.986Z"
   },
   {
    "duration": 3,
    "start_time": "2022-10-06T23:44:16.796Z"
   },
   {
    "duration": 3,
    "start_time": "2022-10-06T23:44:18.676Z"
   },
   {
    "duration": 137,
    "start_time": "2022-10-06T23:44:37.797Z"
   },
   {
    "duration": 2338,
    "start_time": "2022-10-06T23:45:01.081Z"
   },
   {
    "duration": 30,
    "start_time": "2022-10-06T23:45:03.421Z"
   },
   {
    "duration": 16,
    "start_time": "2022-10-06T23:45:03.453Z"
   },
   {
    "duration": 4,
    "start_time": "2022-10-06T23:45:03.471Z"
   },
   {
    "duration": 8,
    "start_time": "2022-10-06T23:45:03.477Z"
   },
   {
    "duration": 9,
    "start_time": "2022-10-06T23:45:03.487Z"
   },
   {
    "duration": 8,
    "start_time": "2022-10-06T23:45:03.498Z"
   },
   {
    "duration": 55,
    "start_time": "2022-10-06T23:45:03.508Z"
   },
   {
    "duration": 8,
    "start_time": "2022-10-06T23:45:03.565Z"
   },
   {
    "duration": 7,
    "start_time": "2022-10-06T23:45:03.611Z"
   },
   {
    "duration": 3875,
    "start_time": "2022-10-06T23:45:03.793Z"
   },
   {
    "duration": 530,
    "start_time": "2022-10-06T23:45:07.671Z"
   },
   {
    "duration": 3,
    "start_time": "2022-10-06T23:45:08.202Z"
   },
   {
    "duration": 9,
    "start_time": "2022-10-06T23:45:08.207Z"
   },
   {
    "duration": 5,
    "start_time": "2022-10-06T23:45:08.218Z"
   },
   {
    "duration": 7,
    "start_time": "2022-10-06T23:45:08.225Z"
   },
   {
    "duration": 8,
    "start_time": "2022-10-06T23:45:08.254Z"
   },
   {
    "duration": 7,
    "start_time": "2022-10-06T23:45:08.264Z"
   },
   {
    "duration": 9,
    "start_time": "2022-10-06T23:45:08.273Z"
   },
   {
    "duration": 8,
    "start_time": "2022-10-06T23:45:08.284Z"
   },
   {
    "duration": 7,
    "start_time": "2022-10-06T23:45:08.293Z"
   },
   {
    "duration": 6,
    "start_time": "2022-10-06T23:45:08.301Z"
   },
   {
    "duration": 13,
    "start_time": "2022-10-06T23:45:08.308Z"
   },
   {
    "duration": 40,
    "start_time": "2022-10-06T23:45:08.323Z"
   },
   {
    "duration": 18,
    "start_time": "2022-10-06T23:45:09.119Z"
   },
   {
    "duration": 18,
    "start_time": "2022-10-06T23:45:11.041Z"
   },
   {
    "duration": 5,
    "start_time": "2022-10-06T23:45:11.689Z"
   },
   {
    "duration": 4,
    "start_time": "2022-10-06T23:45:13.370Z"
   },
   {
    "duration": 3,
    "start_time": "2022-10-06T23:45:13.949Z"
   },
   {
    "duration": 4,
    "start_time": "2022-10-06T23:45:14.517Z"
   },
   {
    "duration": 5,
    "start_time": "2022-10-06T23:45:16.731Z"
   },
   {
    "duration": 5,
    "start_time": "2022-10-06T23:45:17.291Z"
   },
   {
    "duration": 4,
    "start_time": "2022-10-06T23:45:17.920Z"
   },
   {
    "duration": 3,
    "start_time": "2022-10-06T23:45:20.301Z"
   },
   {
    "duration": 4,
    "start_time": "2022-10-06T23:45:20.540Z"
   },
   {
    "duration": 161,
    "start_time": "2022-10-06T23:45:20.909Z"
   },
   {
    "duration": 6,
    "start_time": "2022-10-06T23:46:05.558Z"
   },
   {
    "duration": 32387,
    "start_time": "2022-10-06T23:46:11.077Z"
   },
   {
    "duration": 4,
    "start_time": "2022-10-06T23:47:23.453Z"
   },
   {
    "duration": 3,
    "start_time": "2022-10-06T23:47:24.073Z"
   },
   {
    "duration": 5,
    "start_time": "2022-10-06T23:47:24.680Z"
   },
   {
    "duration": 6,
    "start_time": "2022-10-06T23:47:25.312Z"
   },
   {
    "duration": 19042,
    "start_time": "2022-10-06T23:47:25.903Z"
   },
   {
    "duration": 6,
    "start_time": "2022-10-06T23:48:10.254Z"
   },
   {
    "duration": 6,
    "start_time": "2022-10-06T23:48:14.768Z"
   },
   {
    "duration": 2039,
    "start_time": "2022-10-06T23:48:32.943Z"
   },
   {
    "duration": 30,
    "start_time": "2022-10-06T23:48:34.984Z"
   },
   {
    "duration": 17,
    "start_time": "2022-10-06T23:48:35.016Z"
   },
   {
    "duration": 4,
    "start_time": "2022-10-06T23:48:35.035Z"
   },
   {
    "duration": 12,
    "start_time": "2022-10-06T23:48:35.042Z"
   },
   {
    "duration": 10,
    "start_time": "2022-10-06T23:48:35.055Z"
   },
   {
    "duration": 14,
    "start_time": "2022-10-06T23:48:35.066Z"
   },
   {
    "duration": 38,
    "start_time": "2022-10-06T23:48:35.083Z"
   },
   {
    "duration": 10,
    "start_time": "2022-10-06T23:48:35.123Z"
   },
   {
    "duration": 22,
    "start_time": "2022-10-06T23:48:35.135Z"
   },
   {
    "duration": 4001,
    "start_time": "2022-10-06T23:48:35.159Z"
   },
   {
    "duration": 566,
    "start_time": "2022-10-06T23:48:39.162Z"
   },
   {
    "duration": 3,
    "start_time": "2022-10-06T23:48:39.730Z"
   },
   {
    "duration": 22,
    "start_time": "2022-10-06T23:48:39.737Z"
   },
   {
    "duration": 12,
    "start_time": "2022-10-06T23:48:39.761Z"
   },
   {
    "duration": 9,
    "start_time": "2022-10-06T23:48:39.775Z"
   },
   {
    "duration": 11,
    "start_time": "2022-10-06T23:48:39.786Z"
   },
   {
    "duration": 7,
    "start_time": "2022-10-06T23:48:39.799Z"
   },
   {
    "duration": 10,
    "start_time": "2022-10-06T23:48:39.808Z"
   },
   {
    "duration": 9,
    "start_time": "2022-10-06T23:48:39.820Z"
   },
   {
    "duration": 9,
    "start_time": "2022-10-06T23:48:39.831Z"
   },
   {
    "duration": 14,
    "start_time": "2022-10-06T23:48:39.841Z"
   },
   {
    "duration": 16,
    "start_time": "2022-10-06T23:48:39.857Z"
   },
   {
    "duration": 18,
    "start_time": "2022-10-06T23:48:39.875Z"
   },
   {
    "duration": 27,
    "start_time": "2022-10-06T23:48:39.895Z"
   },
   {
    "duration": 45,
    "start_time": "2022-10-06T23:48:39.924Z"
   },
   {
    "duration": 5,
    "start_time": "2022-10-06T23:48:39.971Z"
   },
   {
    "duration": 9,
    "start_time": "2022-10-06T23:48:39.977Z"
   },
   {
    "duration": 8,
    "start_time": "2022-10-06T23:48:39.988Z"
   },
   {
    "duration": 10,
    "start_time": "2022-10-06T23:48:39.998Z"
   },
   {
    "duration": 19809,
    "start_time": "2022-10-06T23:48:40.009Z"
   },
   {
    "duration": 6,
    "start_time": "2022-10-06T23:48:59.821Z"
   },
   {
    "duration": 29,
    "start_time": "2022-10-06T23:48:59.828Z"
   },
   {
    "duration": 6,
    "start_time": "2022-10-06T23:48:59.859Z"
   },
   {
    "duration": 137,
    "start_time": "2022-10-06T23:49:12.448Z"
   },
   {
    "duration": 7,
    "start_time": "2022-10-06T23:49:20.848Z"
   },
   {
    "duration": 14,
    "start_time": "2022-10-06T23:50:06.663Z"
   },
   {
    "duration": 10,
    "start_time": "2022-10-06T23:50:22.563Z"
   },
   {
    "duration": 2037,
    "start_time": "2022-10-06T23:50:26.671Z"
   },
   {
    "duration": 30,
    "start_time": "2022-10-06T23:50:28.710Z"
   },
   {
    "duration": 19,
    "start_time": "2022-10-06T23:50:28.742Z"
   },
   {
    "duration": 7,
    "start_time": "2022-10-06T23:50:28.763Z"
   },
   {
    "duration": 11,
    "start_time": "2022-10-06T23:50:28.772Z"
   },
   {
    "duration": 15,
    "start_time": "2022-10-06T23:50:28.785Z"
   },
   {
    "duration": 11,
    "start_time": "2022-10-06T23:50:28.802Z"
   },
   {
    "duration": 27,
    "start_time": "2022-10-06T23:50:28.815Z"
   },
   {
    "duration": 11,
    "start_time": "2022-10-06T23:50:28.844Z"
   },
   {
    "duration": 7,
    "start_time": "2022-10-06T23:50:29.067Z"
   },
   {
    "duration": 4048,
    "start_time": "2022-10-06T23:50:29.217Z"
   },
   {
    "duration": 600,
    "start_time": "2022-10-06T23:50:33.267Z"
   },
   {
    "duration": 3,
    "start_time": "2022-10-06T23:50:33.869Z"
   },
   {
    "duration": 17,
    "start_time": "2022-10-06T23:50:33.874Z"
   },
   {
    "duration": 7,
    "start_time": "2022-10-06T23:50:33.893Z"
   },
   {
    "duration": 7,
    "start_time": "2022-10-06T23:50:33.902Z"
   },
   {
    "duration": 14,
    "start_time": "2022-10-06T23:50:33.911Z"
   },
   {
    "duration": 27,
    "start_time": "2022-10-06T23:50:33.927Z"
   },
   {
    "duration": 8,
    "start_time": "2022-10-06T23:50:33.956Z"
   },
   {
    "duration": 10,
    "start_time": "2022-10-06T23:50:33.967Z"
   },
   {
    "duration": 8,
    "start_time": "2022-10-06T23:50:33.979Z"
   },
   {
    "duration": 4,
    "start_time": "2022-10-06T23:50:34.108Z"
   },
   {
    "duration": 12,
    "start_time": "2022-10-06T23:50:36.097Z"
   },
   {
    "duration": 13,
    "start_time": "2022-10-06T23:50:37.677Z"
   },
   {
    "duration": 20,
    "start_time": "2022-10-06T23:50:38.186Z"
   },
   {
    "duration": 26,
    "start_time": "2022-10-06T23:50:45.662Z"
   },
   {
    "duration": 5,
    "start_time": "2022-10-06T23:50:48.001Z"
   },
   {
    "duration": 4,
    "start_time": "2022-10-06T23:50:48.542Z"
   },
   {
    "duration": 5,
    "start_time": "2022-10-06T23:50:49.187Z"
   },
   {
    "duration": 6,
    "start_time": "2022-10-06T23:50:51.287Z"
   },
   {
    "duration": 19756,
    "start_time": "2022-10-06T23:50:52.569Z"
   },
   {
    "duration": 7,
    "start_time": "2022-10-06T23:51:16.987Z"
   },
   {
    "duration": 7,
    "start_time": "2022-10-06T23:51:17.252Z"
   },
   {
    "duration": 6,
    "start_time": "2022-10-06T23:51:22.722Z"
   },
   {
    "duration": 3,
    "start_time": "2022-10-06T23:51:41.961Z"
   },
   {
    "duration": 5,
    "start_time": "2022-10-06T23:51:42.137Z"
   },
   {
    "duration": 6,
    "start_time": "2022-10-06T23:51:42.322Z"
   },
   {
    "duration": 18194,
    "start_time": "2022-10-06T23:51:42.707Z"
   },
   {
    "duration": 5,
    "start_time": "2022-10-06T23:52:00.903Z"
   },
   {
    "duration": 9,
    "start_time": "2022-10-06T23:52:05.097Z"
   },
   {
    "duration": 7,
    "start_time": "2022-10-06T23:53:03.176Z"
   },
   {
    "duration": 174,
    "start_time": "2022-10-06T23:53:03.897Z"
   },
   {
    "duration": 19129,
    "start_time": "2022-10-06T23:53:04.446Z"
   },
   {
    "duration": 6,
    "start_time": "2022-10-06T23:53:23.577Z"
   },
   {
    "duration": 4,
    "start_time": "2022-10-06T23:57:32.968Z"
   },
   {
    "duration": 5,
    "start_time": "2022-10-06T23:57:34.567Z"
   },
   {
    "duration": 17295,
    "start_time": "2022-10-06T23:57:36.457Z"
   },
   {
    "duration": 5,
    "start_time": "2022-10-06T23:57:53.754Z"
   },
   {
    "duration": 19,
    "start_time": "2022-10-06T23:57:53.760Z"
   },
   {
    "duration": 6,
    "start_time": "2022-10-06T23:58:02.707Z"
   },
   {
    "duration": 6,
    "start_time": "2022-10-06T23:58:10.597Z"
   },
   {
    "duration": 8,
    "start_time": "2022-10-07T00:06:45.705Z"
   },
   {
    "duration": 2197,
    "start_time": "2022-10-07T00:07:01.923Z"
   },
   {
    "duration": 31,
    "start_time": "2022-10-07T00:07:04.122Z"
   },
   {
    "duration": 15,
    "start_time": "2022-10-07T00:07:04.155Z"
   },
   {
    "duration": 5,
    "start_time": "2022-10-07T00:07:04.171Z"
   },
   {
    "duration": 7,
    "start_time": "2022-10-07T00:07:04.179Z"
   },
   {
    "duration": 10,
    "start_time": "2022-10-07T00:07:04.187Z"
   },
   {
    "duration": 7,
    "start_time": "2022-10-07T00:07:04.199Z"
   },
   {
    "duration": 47,
    "start_time": "2022-10-07T00:07:04.208Z"
   },
   {
    "duration": 8,
    "start_time": "2022-10-07T00:07:04.256Z"
   },
   {
    "duration": 11,
    "start_time": "2022-10-07T00:07:04.266Z"
   },
   {
    "duration": 3722,
    "start_time": "2022-10-07T00:07:04.278Z"
   },
   {
    "duration": 550,
    "start_time": "2022-10-07T00:07:08.002Z"
   },
   {
    "duration": 2,
    "start_time": "2022-10-07T00:07:08.554Z"
   },
   {
    "duration": 9,
    "start_time": "2022-10-07T00:07:08.559Z"
   },
   {
    "duration": 6,
    "start_time": "2022-10-07T00:07:08.569Z"
   },
   {
    "duration": 11,
    "start_time": "2022-10-07T00:07:08.576Z"
   },
   {
    "duration": 11,
    "start_time": "2022-10-07T00:07:08.588Z"
   },
   {
    "duration": 9,
    "start_time": "2022-10-07T00:07:08.600Z"
   },
   {
    "duration": 10,
    "start_time": "2022-10-07T00:07:08.610Z"
   },
   {
    "duration": 9,
    "start_time": "2022-10-07T00:07:08.622Z"
   },
   {
    "duration": 23,
    "start_time": "2022-10-07T00:07:08.632Z"
   },
   {
    "duration": 12,
    "start_time": "2022-10-07T00:07:08.657Z"
   },
   {
    "duration": 17,
    "start_time": "2022-10-07T00:07:08.671Z"
   },
   {
    "duration": 14,
    "start_time": "2022-10-07T00:07:08.690Z"
   },
   {
    "duration": 23,
    "start_time": "2022-10-07T00:07:08.706Z"
   },
   {
    "duration": 40,
    "start_time": "2022-10-07T00:07:08.730Z"
   },
   {
    "duration": 144,
    "start_time": "2022-10-07T00:07:08.772Z"
   },
   {
    "duration": 9,
    "start_time": "2022-10-07T00:07:20.925Z"
   },
   {
    "duration": 8,
    "start_time": "2022-10-07T00:07:30.115Z"
   },
   {
    "duration": 5,
    "start_time": "2022-10-07T00:10:19.404Z"
   },
   {
    "duration": 13,
    "start_time": "2022-10-07T00:10:20.209Z"
   },
   {
    "duration": 5,
    "start_time": "2022-10-07T00:10:37.638Z"
   },
   {
    "duration": 12,
    "start_time": "2022-10-07T00:10:38.359Z"
   },
   {
    "duration": 6,
    "start_time": "2022-10-07T00:13:19.814Z"
   },
   {
    "duration": 12,
    "start_time": "2022-10-07T00:13:21.598Z"
   },
   {
    "duration": 3,
    "start_time": "2022-10-07T00:13:40.903Z"
   },
   {
    "duration": 7,
    "start_time": "2022-10-07T00:13:41.533Z"
   },
   {
    "duration": 5,
    "start_time": "2022-10-07T00:13:42.024Z"
   },
   {
    "duration": 19,
    "start_time": "2022-10-07T00:13:43.743Z"
   },
   {
    "duration": 4,
    "start_time": "2022-10-07T00:13:57.303Z"
   },
   {
    "duration": 4,
    "start_time": "2022-10-07T00:13:57.823Z"
   },
   {
    "duration": 5,
    "start_time": "2022-10-07T00:13:58.233Z"
   },
   {
    "duration": 5,
    "start_time": "2022-10-07T00:13:58.528Z"
   },
   {
    "duration": 11,
    "start_time": "2022-10-07T00:14:16.673Z"
   },
   {
    "duration": 0,
    "start_time": "2022-10-07T00:14:16.686Z"
   },
   {
    "duration": 0,
    "start_time": "2022-10-07T00:14:16.687Z"
   },
   {
    "duration": 0,
    "start_time": "2022-10-07T00:14:16.688Z"
   },
   {
    "duration": 0,
    "start_time": "2022-10-07T00:14:16.689Z"
   },
   {
    "duration": 1936,
    "start_time": "2022-10-07T00:14:25.571Z"
   },
   {
    "duration": 30,
    "start_time": "2022-10-07T00:14:27.509Z"
   },
   {
    "duration": 15,
    "start_time": "2022-10-07T00:14:27.541Z"
   },
   {
    "duration": 4,
    "start_time": "2022-10-07T00:14:27.559Z"
   },
   {
    "duration": 13,
    "start_time": "2022-10-07T00:14:27.564Z"
   },
   {
    "duration": 8,
    "start_time": "2022-10-07T00:14:27.579Z"
   },
   {
    "duration": 10,
    "start_time": "2022-10-07T00:14:27.589Z"
   },
   {
    "duration": 36,
    "start_time": "2022-10-07T00:14:27.600Z"
   },
   {
    "duration": 9,
    "start_time": "2022-10-07T00:14:27.887Z"
   },
   {
    "duration": 6,
    "start_time": "2022-10-07T00:14:28.257Z"
   },
   {
    "duration": 3943,
    "start_time": "2022-10-07T00:14:28.437Z"
   },
   {
    "duration": 546,
    "start_time": "2022-10-07T00:14:32.382Z"
   },
   {
    "duration": 3,
    "start_time": "2022-10-07T00:14:32.929Z"
   },
   {
    "duration": 12,
    "start_time": "2022-10-07T00:14:32.934Z"
   },
   {
    "duration": 4,
    "start_time": "2022-10-07T00:14:32.953Z"
   },
   {
    "duration": 6,
    "start_time": "2022-10-07T00:14:32.959Z"
   },
   {
    "duration": 12,
    "start_time": "2022-10-07T00:14:32.966Z"
   },
   {
    "duration": 6,
    "start_time": "2022-10-07T00:14:32.979Z"
   },
   {
    "duration": 9,
    "start_time": "2022-10-07T00:14:32.986Z"
   },
   {
    "duration": 7,
    "start_time": "2022-10-07T00:14:32.997Z"
   },
   {
    "duration": 9,
    "start_time": "2022-10-07T00:14:33.006Z"
   },
   {
    "duration": 7,
    "start_time": "2022-10-07T00:14:33.017Z"
   },
   {
    "duration": 13,
    "start_time": "2022-10-07T00:14:33.148Z"
   },
   {
    "duration": 13,
    "start_time": "2022-10-07T00:14:33.717Z"
   },
   {
    "duration": 18,
    "start_time": "2022-10-07T00:14:34.147Z"
   },
   {
    "duration": 18,
    "start_time": "2022-10-07T00:14:34.417Z"
   },
   {
    "duration": 4,
    "start_time": "2022-10-07T00:14:35.118Z"
   },
   {
    "duration": 2,
    "start_time": "2022-10-07T00:14:36.288Z"
   },
   {
    "duration": 6,
    "start_time": "2022-10-07T00:14:37.057Z"
   },
   {
    "duration": 5,
    "start_time": "2022-10-07T00:14:38.202Z"
   },
   {
    "duration": 1909,
    "start_time": "2022-10-07T09:03:01.791Z"
   },
   {
    "duration": 1775,
    "start_time": "2022-10-07T09:03:17.416Z"
   },
   {
    "duration": 11,
    "start_time": "2022-10-07T09:03:19.193Z"
   },
   {
    "duration": 60,
    "start_time": "2022-10-07T09:03:24.760Z"
   },
   {
    "duration": 13,
    "start_time": "2022-10-07T09:03:25.436Z"
   },
   {
    "duration": 5,
    "start_time": "2022-10-07T09:03:26.090Z"
   },
   {
    "duration": 2,
    "start_time": "2022-10-07T09:03:26.717Z"
   },
   {
    "duration": 4,
    "start_time": "2022-10-07T09:03:28.876Z"
   },
   {
    "duration": 5,
    "start_time": "2022-10-07T09:03:29.427Z"
   },
   {
    "duration": 24,
    "start_time": "2022-10-07T09:03:32.476Z"
   },
   {
    "duration": 7,
    "start_time": "2022-10-07T09:03:34.948Z"
   },
   {
    "duration": 5,
    "start_time": "2022-10-07T09:03:38.566Z"
   },
   {
    "duration": 3428,
    "start_time": "2022-10-07T09:03:40.496Z"
   },
   {
    "duration": 526,
    "start_time": "2022-10-07T09:03:54.587Z"
   },
   {
    "duration": 7,
    "start_time": "2022-10-07T09:04:00.360Z"
   },
   {
    "duration": 4,
    "start_time": "2022-10-07T09:04:03.649Z"
   },
   {
    "duration": 4,
    "start_time": "2022-10-07T09:04:09.414Z"
   },
   {
    "duration": 5,
    "start_time": "2022-10-07T09:04:10.164Z"
   },
   {
    "duration": 3,
    "start_time": "2022-10-07T09:04:20.931Z"
   },
   {
    "duration": 4,
    "start_time": "2022-10-07T09:04:23.611Z"
   },
   {
    "duration": 4,
    "start_time": "2022-10-07T09:04:24.252Z"
   },
   {
    "duration": 4,
    "start_time": "2022-10-07T09:04:56.717Z"
   },
   {
    "duration": 4,
    "start_time": "2022-10-07T09:04:58.670Z"
   },
   {
    "duration": 5,
    "start_time": "2022-10-07T09:04:59.710Z"
   },
   {
    "duration": 4,
    "start_time": "2022-10-07T09:05:09.160Z"
   },
   {
    "duration": 11,
    "start_time": "2022-10-07T09:05:25.516Z"
   },
   {
    "duration": 10,
    "start_time": "2022-10-07T09:05:34.031Z"
   },
   {
    "duration": 16,
    "start_time": "2022-10-07T09:05:35.870Z"
   },
   {
    "duration": 19,
    "start_time": "2022-10-07T09:05:36.180Z"
   },
   {
    "duration": 15,
    "start_time": "2022-10-07T09:05:42.117Z"
   },
   {
    "duration": 15,
    "start_time": "2022-10-07T09:05:42.715Z"
   },
   {
    "duration": 4,
    "start_time": "2022-10-07T09:05:50.767Z"
   },
   {
    "duration": 2,
    "start_time": "2022-10-07T09:06:19.707Z"
   },
   {
    "duration": 4,
    "start_time": "2022-10-07T09:06:35.277Z"
   },
   {
    "duration": 5,
    "start_time": "2022-10-07T09:06:59.770Z"
   },
   {
    "duration": 4,
    "start_time": "2022-10-07T09:07:10.201Z"
   },
   {
    "duration": 4,
    "start_time": "2022-10-07T09:07:30.890Z"
   },
   {
    "duration": 2847,
    "start_time": "2022-10-07T09:09:44.759Z"
   },
   {
    "duration": 2550,
    "start_time": "2022-10-07T09:09:50.050Z"
   },
   {
    "duration": 4,
    "start_time": "2022-10-07T09:09:58.567Z"
   },
   {
    "duration": 2638,
    "start_time": "2022-10-07T09:09:58.889Z"
   },
   {
    "duration": 5,
    "start_time": "2022-10-07T09:10:04.740Z"
   },
   {
    "duration": 6,
    "start_time": "2022-10-07T09:10:19.534Z"
   },
   {
    "duration": 129,
    "start_time": "2022-10-07T09:11:54.045Z"
   },
   {
    "duration": 1729,
    "start_time": "2022-10-07T09:12:02.317Z"
   },
   {
    "duration": 5,
    "start_time": "2022-10-07T09:12:04.048Z"
   },
   {
    "duration": 46,
    "start_time": "2022-10-07T09:12:04.054Z"
   },
   {
    "duration": 12,
    "start_time": "2022-10-07T09:12:04.102Z"
   },
   {
    "duration": 14,
    "start_time": "2022-10-07T09:12:04.115Z"
   },
   {
    "duration": 8,
    "start_time": "2022-10-07T09:12:04.131Z"
   },
   {
    "duration": 9,
    "start_time": "2022-10-07T09:12:04.141Z"
   },
   {
    "duration": 4,
    "start_time": "2022-10-07T09:12:04.206Z"
   },
   {
    "duration": 25,
    "start_time": "2022-10-07T09:12:04.896Z"
   },
   {
    "duration": 8,
    "start_time": "2022-10-07T09:12:05.666Z"
   },
   {
    "duration": 7,
    "start_time": "2022-10-07T09:12:06.048Z"
   },
   {
    "duration": 3597,
    "start_time": "2022-10-07T09:12:06.255Z"
   },
   {
    "duration": 552,
    "start_time": "2022-10-07T09:12:09.855Z"
   },
   {
    "duration": 14,
    "start_time": "2022-10-07T09:12:10.409Z"
   },
   {
    "duration": 9,
    "start_time": "2022-10-07T09:12:10.425Z"
   },
   {
    "duration": 12,
    "start_time": "2022-10-07T09:12:10.436Z"
   },
   {
    "duration": 10,
    "start_time": "2022-10-07T09:12:10.450Z"
   },
   {
    "duration": 3,
    "start_time": "2022-10-07T09:12:10.487Z"
   },
   {
    "duration": 5,
    "start_time": "2022-10-07T09:12:11.184Z"
   },
   {
    "duration": 5,
    "start_time": "2022-10-07T09:12:13.044Z"
   },
   {
    "duration": 4,
    "start_time": "2022-10-07T09:12:13.245Z"
   },
   {
    "duration": 3,
    "start_time": "2022-10-07T09:12:13.684Z"
   },
   {
    "duration": 12,
    "start_time": "2022-10-07T09:12:14.153Z"
   },
   {
    "duration": 10,
    "start_time": "2022-10-07T09:12:15.788Z"
   },
   {
    "duration": 14,
    "start_time": "2022-10-07T09:12:15.950Z"
   },
   {
    "duration": 17,
    "start_time": "2022-10-07T09:12:16.948Z"
   },
   {
    "duration": 137,
    "start_time": "2022-10-07T09:12:19.447Z"
   },
   {
    "duration": 11,
    "start_time": "2022-10-07T09:12:28.366Z"
   },
   {
    "duration": 1783,
    "start_time": "2022-10-07T09:12:36.587Z"
   },
   {
    "duration": 6,
    "start_time": "2022-10-07T09:12:38.372Z"
   },
   {
    "duration": 36,
    "start_time": "2022-10-07T09:12:38.379Z"
   },
   {
    "duration": 16,
    "start_time": "2022-10-07T09:12:38.417Z"
   },
   {
    "duration": 11,
    "start_time": "2022-10-07T09:12:38.434Z"
   },
   {
    "duration": 9,
    "start_time": "2022-10-07T09:12:38.447Z"
   },
   {
    "duration": 18,
    "start_time": "2022-10-07T09:12:38.458Z"
   },
   {
    "duration": 24,
    "start_time": "2022-10-07T09:12:38.478Z"
   },
   {
    "duration": 32,
    "start_time": "2022-10-07T09:12:38.503Z"
   },
   {
    "duration": 8,
    "start_time": "2022-10-07T09:12:39.032Z"
   },
   {
    "duration": 5,
    "start_time": "2022-10-07T09:12:39.367Z"
   },
   {
    "duration": 3393,
    "start_time": "2022-10-07T09:12:39.527Z"
   },
   {
    "duration": 481,
    "start_time": "2022-10-07T09:12:42.922Z"
   },
   {
    "duration": 5,
    "start_time": "2022-10-07T09:12:43.405Z"
   },
   {
    "duration": 3,
    "start_time": "2022-10-07T09:12:43.504Z"
   },
   {
    "duration": 4,
    "start_time": "2022-10-07T09:12:44.960Z"
   },
   {
    "duration": 5,
    "start_time": "2022-10-07T09:12:45.033Z"
   },
   {
    "duration": 3,
    "start_time": "2022-10-07T09:12:45.327Z"
   },
   {
    "duration": 5,
    "start_time": "2022-10-07T09:12:47.146Z"
   },
   {
    "duration": 5,
    "start_time": "2022-10-07T09:12:47.760Z"
   },
   {
    "duration": 4,
    "start_time": "2022-10-07T09:12:48.233Z"
   },
   {
    "duration": 3,
    "start_time": "2022-10-07T09:12:48.897Z"
   },
   {
    "duration": 12,
    "start_time": "2022-10-07T09:12:49.307Z"
   },
   {
    "duration": 11,
    "start_time": "2022-10-07T09:12:51.277Z"
   },
   {
    "duration": 15,
    "start_time": "2022-10-07T09:12:52.233Z"
   },
   {
    "duration": 20,
    "start_time": "2022-10-07T09:12:52.566Z"
   },
   {
    "duration": 4,
    "start_time": "2022-10-07T09:12:54.386Z"
   },
   {
    "duration": 2,
    "start_time": "2022-10-07T09:12:56.729Z"
   },
   {
    "duration": 4,
    "start_time": "2022-10-07T09:12:58.849Z"
   },
   {
    "duration": 5,
    "start_time": "2022-10-07T09:13:00.538Z"
   },
   {
    "duration": 2552,
    "start_time": "2022-10-07T09:13:01.487Z"
   },
   {
    "duration": 2501,
    "start_time": "2022-10-07T09:15:02.976Z"
   },
   {
    "duration": 4,
    "start_time": "2022-10-07T09:15:15.624Z"
   },
   {
    "duration": 3,
    "start_time": "2022-10-07T09:17:52.329Z"
   },
   {
    "duration": 4,
    "start_time": "2022-10-07T09:17:52.893Z"
   },
   {
    "duration": 4,
    "start_time": "2022-10-07T09:17:53.521Z"
   },
   {
    "duration": 2841,
    "start_time": "2022-10-07T09:17:54.082Z"
   },
   {
    "duration": 2720,
    "start_time": "2022-10-07T09:17:59.301Z"
   },
   {
    "duration": 1823,
    "start_time": "2022-10-07T09:18:15.407Z"
   },
   {
    "duration": 6,
    "start_time": "2022-10-07T09:18:17.232Z"
   },
   {
    "duration": 53,
    "start_time": "2022-10-07T09:18:17.240Z"
   },
   {
    "duration": 12,
    "start_time": "2022-10-07T09:18:17.294Z"
   },
   {
    "duration": 9,
    "start_time": "2022-10-07T09:18:17.308Z"
   },
   {
    "duration": 28,
    "start_time": "2022-10-07T09:18:17.318Z"
   },
   {
    "duration": 23,
    "start_time": "2022-10-07T09:18:17.347Z"
   },
   {
    "duration": 21,
    "start_time": "2022-10-07T09:18:17.372Z"
   },
   {
    "duration": 44,
    "start_time": "2022-10-07T09:18:17.395Z"
   },
   {
    "duration": 10,
    "start_time": "2022-10-07T09:18:17.441Z"
   },
   {
    "duration": 34,
    "start_time": "2022-10-07T09:18:17.452Z"
   },
   {
    "duration": 3348,
    "start_time": "2022-10-07T09:18:17.488Z"
   },
   {
    "duration": 535,
    "start_time": "2022-10-07T09:18:20.838Z"
   },
   {
    "duration": 6,
    "start_time": "2022-10-07T09:18:21.376Z"
   },
   {
    "duration": 25,
    "start_time": "2022-10-07T09:18:21.384Z"
   },
   {
    "duration": 72,
    "start_time": "2022-10-07T09:18:21.411Z"
   },
   {
    "duration": 35,
    "start_time": "2022-10-07T09:18:21.484Z"
   },
   {
    "duration": 36,
    "start_time": "2022-10-07T09:18:21.522Z"
   },
   {
    "duration": 29,
    "start_time": "2022-10-07T09:18:21.559Z"
   },
   {
    "duration": 22,
    "start_time": "2022-10-07T09:18:21.590Z"
   },
   {
    "duration": 32,
    "start_time": "2022-10-07T09:18:21.614Z"
   },
   {
    "duration": 24,
    "start_time": "2022-10-07T09:18:21.648Z"
   },
   {
    "duration": 41,
    "start_time": "2022-10-07T09:18:21.674Z"
   },
   {
    "duration": 38,
    "start_time": "2022-10-07T09:18:21.717Z"
   },
   {
    "duration": 59,
    "start_time": "2022-10-07T09:18:21.756Z"
   },
   {
    "duration": 44,
    "start_time": "2022-10-07T09:18:21.817Z"
   },
   {
    "duration": 33,
    "start_time": "2022-10-07T09:18:21.863Z"
   },
   {
    "duration": 37,
    "start_time": "2022-10-07T09:18:21.898Z"
   },
   {
    "duration": 309,
    "start_time": "2022-10-07T09:18:21.937Z"
   },
   {
    "duration": 395,
    "start_time": "2022-10-07T09:18:22.248Z"
   },
   {
    "duration": 2792,
    "start_time": "2022-10-07T09:18:22.645Z"
   },
   {
    "duration": 0,
    "start_time": "2022-10-07T09:20:54.981Z"
   },
   {
    "duration": 30640,
    "start_time": "2022-10-07T09:21:27.203Z"
   },
   {
    "duration": 1793,
    "start_time": "2022-10-07T09:22:58.947Z"
   },
   {
    "duration": 5,
    "start_time": "2022-10-07T09:23:00.742Z"
   },
   {
    "duration": 65,
    "start_time": "2022-10-07T09:23:00.748Z"
   },
   {
    "duration": 30,
    "start_time": "2022-10-07T09:23:00.815Z"
   },
   {
    "duration": 14,
    "start_time": "2022-10-07T09:23:00.847Z"
   },
   {
    "duration": 22,
    "start_time": "2022-10-07T09:23:00.862Z"
   },
   {
    "duration": 27,
    "start_time": "2022-10-07T09:23:00.886Z"
   },
   {
    "duration": 28,
    "start_time": "2022-10-07T09:23:00.915Z"
   },
   {
    "duration": 88,
    "start_time": "2022-10-07T09:23:00.945Z"
   },
   {
    "duration": 9,
    "start_time": "2022-10-07T09:23:01.035Z"
   },
   {
    "duration": 45,
    "start_time": "2022-10-07T09:23:01.045Z"
   },
   {
    "duration": 3344,
    "start_time": "2022-10-07T09:23:01.092Z"
   },
   {
    "duration": 513,
    "start_time": "2022-10-07T09:23:04.437Z"
   },
   {
    "duration": 5,
    "start_time": "2022-10-07T09:23:04.953Z"
   },
   {
    "duration": 27,
    "start_time": "2022-10-07T09:23:04.960Z"
   },
   {
    "duration": 26,
    "start_time": "2022-10-07T09:23:04.988Z"
   },
   {
    "duration": 25,
    "start_time": "2022-10-07T09:23:05.016Z"
   },
   {
    "duration": 22,
    "start_time": "2022-10-07T09:23:05.043Z"
   },
   {
    "duration": 21,
    "start_time": "2022-10-07T09:23:05.067Z"
   },
   {
    "duration": 43,
    "start_time": "2022-10-07T09:23:05.090Z"
   },
   {
    "duration": 32,
    "start_time": "2022-10-07T09:23:05.135Z"
   },
   {
    "duration": 51,
    "start_time": "2022-10-07T09:23:05.168Z"
   },
   {
    "duration": 42,
    "start_time": "2022-10-07T09:23:05.221Z"
   },
   {
    "duration": 52,
    "start_time": "2022-10-07T09:23:05.265Z"
   },
   {
    "duration": 44,
    "start_time": "2022-10-07T09:23:05.319Z"
   },
   {
    "duration": 53,
    "start_time": "2022-10-07T09:23:05.364Z"
   },
   {
    "duration": 49,
    "start_time": "2022-10-07T09:23:05.418Z"
   },
   {
    "duration": 16,
    "start_time": "2022-10-07T09:23:05.468Z"
   },
   {
    "duration": 21,
    "start_time": "2022-10-07T09:23:05.485Z"
   },
   {
    "duration": 51,
    "start_time": "2022-10-07T09:23:05.508Z"
   },
   {
    "duration": 0,
    "start_time": "2022-10-07T09:23:28.244Z"
   },
   {
    "duration": 5,
    "start_time": "2022-10-07T09:23:41.601Z"
   },
   {
    "duration": 3,
    "start_time": "2022-10-07T09:23:45.429Z"
   },
   {
    "duration": 4,
    "start_time": "2022-10-07T09:23:50.225Z"
   },
   {
    "duration": 3,
    "start_time": "2022-10-07T09:24:12.911Z"
   },
   {
    "duration": 3,
    "start_time": "2022-10-07T09:24:15.537Z"
   },
   {
    "duration": 5,
    "start_time": "2022-10-07T09:24:25.972Z"
   },
   {
    "duration": 9,
    "start_time": "2022-10-07T09:24:47.581Z"
   },
   {
    "duration": 4,
    "start_time": "2022-10-07T09:24:49.561Z"
   },
   {
    "duration": 3,
    "start_time": "2022-10-07T09:24:56.280Z"
   },
   {
    "duration": 1725,
    "start_time": "2022-10-07T09:25:08.581Z"
   },
   {
    "duration": 6,
    "start_time": "2022-10-07T09:25:10.307Z"
   },
   {
    "duration": 37,
    "start_time": "2022-10-07T09:25:10.314Z"
   },
   {
    "duration": 14,
    "start_time": "2022-10-07T09:25:10.353Z"
   },
   {
    "duration": 5,
    "start_time": "2022-10-07T09:25:10.369Z"
   },
   {
    "duration": 13,
    "start_time": "2022-10-07T09:25:10.376Z"
   },
   {
    "duration": 7,
    "start_time": "2022-10-07T09:25:10.390Z"
   },
   {
    "duration": 9,
    "start_time": "2022-10-07T09:25:10.399Z"
   },
   {
    "duration": 26,
    "start_time": "2022-10-07T09:25:10.410Z"
   },
   {
    "duration": 8,
    "start_time": "2022-10-07T09:25:10.439Z"
   },
   {
    "duration": 20,
    "start_time": "2022-10-07T09:25:10.448Z"
   },
   {
    "duration": 3438,
    "start_time": "2022-10-07T09:25:10.470Z"
   },
   {
    "duration": 470,
    "start_time": "2022-10-07T09:25:13.909Z"
   },
   {
    "duration": 5,
    "start_time": "2022-10-07T09:25:14.380Z"
   },
   {
    "duration": 11,
    "start_time": "2022-10-07T09:25:14.386Z"
   },
   {
    "duration": 11,
    "start_time": "2022-10-07T09:25:14.399Z"
   },
   {
    "duration": 10,
    "start_time": "2022-10-07T09:25:14.412Z"
   },
   {
    "duration": 5,
    "start_time": "2022-10-07T09:25:14.424Z"
   },
   {
    "duration": 7,
    "start_time": "2022-10-07T09:25:14.431Z"
   },
   {
    "duration": 8,
    "start_time": "2022-10-07T09:25:14.439Z"
   },
   {
    "duration": 6,
    "start_time": "2022-10-07T09:25:14.448Z"
   },
   {
    "duration": 8,
    "start_time": "2022-10-07T09:25:14.455Z"
   },
   {
    "duration": 12,
    "start_time": "2022-10-07T09:25:14.465Z"
   },
   {
    "duration": 18,
    "start_time": "2022-10-07T09:25:14.478Z"
   },
   {
    "duration": 30,
    "start_time": "2022-10-07T09:25:14.497Z"
   },
   {
    "duration": 24,
    "start_time": "2022-10-07T09:25:14.529Z"
   },
   {
    "duration": 5,
    "start_time": "2022-10-07T09:25:14.555Z"
   },
   {
    "duration": 6,
    "start_time": "2022-10-07T09:25:14.563Z"
   },
   {
    "duration": 7,
    "start_time": "2022-10-07T09:25:14.570Z"
   },
   {
    "duration": 8,
    "start_time": "2022-10-07T09:25:14.579Z"
   },
   {
    "duration": 1713,
    "start_time": "2022-10-07T09:25:29.353Z"
   },
   {
    "duration": 6,
    "start_time": "2022-10-07T09:25:31.068Z"
   },
   {
    "duration": 95,
    "start_time": "2022-10-07T09:25:31.075Z"
   },
   {
    "duration": 12,
    "start_time": "2022-10-07T09:25:31.172Z"
   },
   {
    "duration": 4,
    "start_time": "2022-10-07T09:25:31.186Z"
   },
   {
    "duration": 13,
    "start_time": "2022-10-07T09:25:31.191Z"
   },
   {
    "duration": 21,
    "start_time": "2022-10-07T09:25:31.205Z"
   },
   {
    "duration": 14,
    "start_time": "2022-10-07T09:25:31.227Z"
   },
   {
    "duration": 45,
    "start_time": "2022-10-07T09:25:31.242Z"
   },
   {
    "duration": 6,
    "start_time": "2022-10-07T09:25:31.289Z"
   },
   {
    "duration": 16,
    "start_time": "2022-10-07T09:25:31.296Z"
   },
   {
    "duration": 3203,
    "start_time": "2022-10-07T09:25:31.313Z"
   },
   {
    "duration": 469,
    "start_time": "2022-10-07T09:25:34.517Z"
   },
   {
    "duration": 5,
    "start_time": "2022-10-07T09:25:34.988Z"
   },
   {
    "duration": 22,
    "start_time": "2022-10-07T09:25:34.995Z"
   },
   {
    "duration": 23,
    "start_time": "2022-10-07T09:25:35.019Z"
   },
   {
    "duration": 16,
    "start_time": "2022-10-07T09:25:35.044Z"
   },
   {
    "duration": 14,
    "start_time": "2022-10-07T09:25:35.062Z"
   },
   {
    "duration": 30,
    "start_time": "2022-10-07T09:25:35.077Z"
   },
   {
    "duration": 29,
    "start_time": "2022-10-07T09:25:35.108Z"
   },
   {
    "duration": 15,
    "start_time": "2022-10-07T09:25:35.139Z"
   },
   {
    "duration": 20,
    "start_time": "2022-10-07T09:25:35.155Z"
   },
   {
    "duration": 20,
    "start_time": "2022-10-07T09:25:35.177Z"
   },
   {
    "duration": 28,
    "start_time": "2022-10-07T09:25:35.199Z"
   },
   {
    "duration": 33,
    "start_time": "2022-10-07T09:25:35.228Z"
   },
   {
    "duration": 26,
    "start_time": "2022-10-07T09:25:35.262Z"
   },
   {
    "duration": 28,
    "start_time": "2022-10-07T09:25:35.289Z"
   },
   {
    "duration": 27,
    "start_time": "2022-10-07T09:25:35.318Z"
   },
   {
    "duration": 32,
    "start_time": "2022-10-07T09:25:35.347Z"
   },
   {
    "duration": 20,
    "start_time": "2022-10-07T09:25:35.380Z"
   },
   {
    "duration": 2681,
    "start_time": "2022-10-07T09:25:35.402Z"
   },
   {
    "duration": 3,
    "start_time": "2022-10-07T09:25:38.084Z"
   },
   {
    "duration": 17,
    "start_time": "2022-10-07T09:25:38.088Z"
   },
   {
    "duration": 12,
    "start_time": "2022-10-07T09:25:38.107Z"
   },
   {
    "duration": 1740,
    "start_time": "2022-10-07T09:26:43.550Z"
   },
   {
    "duration": 7,
    "start_time": "2022-10-07T09:26:45.292Z"
   },
   {
    "duration": 30,
    "start_time": "2022-10-07T09:26:45.301Z"
   },
   {
    "duration": 13,
    "start_time": "2022-10-07T09:26:45.333Z"
   },
   {
    "duration": 4,
    "start_time": "2022-10-07T09:26:45.349Z"
   },
   {
    "duration": 9,
    "start_time": "2022-10-07T09:26:45.355Z"
   },
   {
    "duration": 27,
    "start_time": "2022-10-07T09:26:45.365Z"
   },
   {
    "duration": 10,
    "start_time": "2022-10-07T09:26:45.394Z"
   },
   {
    "duration": 32,
    "start_time": "2022-10-07T09:26:45.405Z"
   },
   {
    "duration": 6,
    "start_time": "2022-10-07T09:26:45.438Z"
   },
   {
    "duration": 8,
    "start_time": "2022-10-07T09:26:45.446Z"
   },
   {
    "duration": 3409,
    "start_time": "2022-10-07T09:26:45.455Z"
   },
   {
    "duration": 510,
    "start_time": "2022-10-07T09:26:48.865Z"
   },
   {
    "duration": 6,
    "start_time": "2022-10-07T09:26:49.378Z"
   },
   {
    "duration": 6,
    "start_time": "2022-10-07T09:26:49.386Z"
   },
   {
    "duration": 6,
    "start_time": "2022-10-07T09:26:49.393Z"
   },
   {
    "duration": 22,
    "start_time": "2022-10-07T09:26:49.401Z"
   },
   {
    "duration": 6,
    "start_time": "2022-10-07T09:26:49.426Z"
   },
   {
    "duration": 10,
    "start_time": "2022-10-07T09:26:49.433Z"
   },
   {
    "duration": 8,
    "start_time": "2022-10-07T09:26:49.445Z"
   },
   {
    "duration": 7,
    "start_time": "2022-10-07T09:26:49.454Z"
   },
   {
    "duration": 13,
    "start_time": "2022-10-07T09:26:49.462Z"
   },
   {
    "duration": 15,
    "start_time": "2022-10-07T09:26:49.476Z"
   },
   {
    "duration": 17,
    "start_time": "2022-10-07T09:26:49.493Z"
   },
   {
    "duration": 27,
    "start_time": "2022-10-07T09:26:49.511Z"
   },
   {
    "duration": 21,
    "start_time": "2022-10-07T09:26:49.540Z"
   },
   {
    "duration": 11,
    "start_time": "2022-10-07T09:26:49.563Z"
   },
   {
    "duration": 13,
    "start_time": "2022-10-07T09:26:49.576Z"
   },
   {
    "duration": 8,
    "start_time": "2022-10-07T09:26:49.590Z"
   },
   {
    "duration": 6,
    "start_time": "2022-10-07T09:26:49.600Z"
   },
   {
    "duration": 2493,
    "start_time": "2022-10-07T09:26:49.607Z"
   },
   {
    "duration": 6,
    "start_time": "2022-10-07T09:28:40.141Z"
   },
   {
    "duration": 1791,
    "start_time": "2022-10-07T09:32:20.685Z"
   },
   {
    "duration": 6,
    "start_time": "2022-10-07T09:32:22.478Z"
   },
   {
    "duration": 37,
    "start_time": "2022-10-07T09:32:22.485Z"
   },
   {
    "duration": 12,
    "start_time": "2022-10-07T09:32:22.524Z"
   },
   {
    "duration": 5,
    "start_time": "2022-10-07T09:32:22.537Z"
   },
   {
    "duration": 6,
    "start_time": "2022-10-07T09:32:22.544Z"
   },
   {
    "duration": 11,
    "start_time": "2022-10-07T09:32:22.552Z"
   },
   {
    "duration": 10,
    "start_time": "2022-10-07T09:32:22.564Z"
   },
   {
    "duration": 27,
    "start_time": "2022-10-07T09:32:22.576Z"
   },
   {
    "duration": 5,
    "start_time": "2022-10-07T09:32:22.605Z"
   },
   {
    "duration": 10,
    "start_time": "2022-10-07T09:32:22.612Z"
   },
   {
    "duration": 3357,
    "start_time": "2022-10-07T09:32:22.623Z"
   },
   {
    "duration": 551,
    "start_time": "2022-10-07T09:32:25.982Z"
   },
   {
    "duration": 5,
    "start_time": "2022-10-07T09:32:26.537Z"
   },
   {
    "duration": 10,
    "start_time": "2022-10-07T09:32:26.544Z"
   },
   {
    "duration": 20,
    "start_time": "2022-10-07T09:32:26.556Z"
   },
   {
    "duration": 42,
    "start_time": "2022-10-07T09:32:26.577Z"
   },
   {
    "duration": 74,
    "start_time": "2022-10-07T09:32:26.621Z"
   },
   {
    "duration": 12,
    "start_time": "2022-10-07T09:32:26.696Z"
   },
   {
    "duration": 17,
    "start_time": "2022-10-07T09:32:26.710Z"
   },
   {
    "duration": 21,
    "start_time": "2022-10-07T09:32:26.728Z"
   },
   {
    "duration": 13,
    "start_time": "2022-10-07T09:32:26.750Z"
   },
   {
    "duration": 31,
    "start_time": "2022-10-07T09:32:26.764Z"
   },
   {
    "duration": 18,
    "start_time": "2022-10-07T09:32:26.796Z"
   },
   {
    "duration": 46,
    "start_time": "2022-10-07T09:32:26.816Z"
   },
   {
    "duration": 20,
    "start_time": "2022-10-07T09:32:26.864Z"
   },
   {
    "duration": 17,
    "start_time": "2022-10-07T09:32:26.886Z"
   },
   {
    "duration": 16,
    "start_time": "2022-10-07T09:32:26.904Z"
   },
   {
    "duration": 19,
    "start_time": "2022-10-07T09:32:26.921Z"
   },
   {
    "duration": 23,
    "start_time": "2022-10-07T09:32:26.941Z"
   },
   {
    "duration": 2580,
    "start_time": "2022-10-07T09:32:26.965Z"
   },
   {
    "duration": 5,
    "start_time": "2022-10-07T09:32:29.547Z"
   },
   {
    "duration": 1787,
    "start_time": "2022-10-07T09:32:49.406Z"
   },
   {
    "duration": 6,
    "start_time": "2022-10-07T09:32:51.194Z"
   },
   {
    "duration": 56,
    "start_time": "2022-10-07T09:32:51.202Z"
   },
   {
    "duration": 13,
    "start_time": "2022-10-07T09:32:51.260Z"
   },
   {
    "duration": 8,
    "start_time": "2022-10-07T09:32:51.275Z"
   },
   {
    "duration": 17,
    "start_time": "2022-10-07T09:32:51.285Z"
   },
   {
    "duration": 16,
    "start_time": "2022-10-07T09:32:51.303Z"
   },
   {
    "duration": 11,
    "start_time": "2022-10-07T09:32:51.320Z"
   },
   {
    "duration": 56,
    "start_time": "2022-10-07T09:32:51.332Z"
   },
   {
    "duration": 48,
    "start_time": "2022-10-07T09:32:51.390Z"
   },
   {
    "duration": 26,
    "start_time": "2022-10-07T09:32:51.440Z"
   },
   {
    "duration": 3228,
    "start_time": "2022-10-07T09:32:51.468Z"
   },
   {
    "duration": 510,
    "start_time": "2022-10-07T09:32:54.698Z"
   },
   {
    "duration": 11,
    "start_time": "2022-10-07T09:32:55.211Z"
   },
   {
    "duration": 8,
    "start_time": "2022-10-07T09:32:55.224Z"
   },
   {
    "duration": 8,
    "start_time": "2022-10-07T09:32:55.233Z"
   },
   {
    "duration": 9,
    "start_time": "2022-10-07T09:32:55.242Z"
   },
   {
    "duration": 8,
    "start_time": "2022-10-07T09:32:55.252Z"
   },
   {
    "duration": 9,
    "start_time": "2022-10-07T09:32:55.261Z"
   },
   {
    "duration": 9,
    "start_time": "2022-10-07T09:32:55.271Z"
   },
   {
    "duration": 9,
    "start_time": "2022-10-07T09:32:55.282Z"
   },
   {
    "duration": 9,
    "start_time": "2022-10-07T09:32:55.293Z"
   },
   {
    "duration": 17,
    "start_time": "2022-10-07T09:32:55.303Z"
   },
   {
    "duration": 16,
    "start_time": "2022-10-07T09:32:55.322Z"
   },
   {
    "duration": 19,
    "start_time": "2022-10-07T09:32:55.340Z"
   },
   {
    "duration": 20,
    "start_time": "2022-10-07T09:32:55.361Z"
   },
   {
    "duration": 8,
    "start_time": "2022-10-07T09:32:55.383Z"
   },
   {
    "duration": 21,
    "start_time": "2022-10-07T09:32:55.392Z"
   },
   {
    "duration": 10,
    "start_time": "2022-10-07T09:32:55.414Z"
   },
   {
    "duration": 9,
    "start_time": "2022-10-07T09:32:55.425Z"
   },
   {
    "duration": 2760,
    "start_time": "2022-10-07T09:32:55.435Z"
   },
   {
    "duration": 7,
    "start_time": "2022-10-07T09:32:58.196Z"
   },
   {
    "duration": 1882,
    "start_time": "2022-10-07T09:33:08.689Z"
   },
   {
    "duration": 6,
    "start_time": "2022-10-07T09:33:10.573Z"
   },
   {
    "duration": 34,
    "start_time": "2022-10-07T09:33:10.580Z"
   },
   {
    "duration": 13,
    "start_time": "2022-10-07T09:33:10.616Z"
   },
   {
    "duration": 4,
    "start_time": "2022-10-07T09:33:10.631Z"
   },
   {
    "duration": 8,
    "start_time": "2022-10-07T09:33:10.636Z"
   },
   {
    "duration": 11,
    "start_time": "2022-10-07T09:33:10.646Z"
   },
   {
    "duration": 7,
    "start_time": "2022-10-07T09:33:10.659Z"
   },
   {
    "duration": 30,
    "start_time": "2022-10-07T09:33:10.667Z"
   },
   {
    "duration": 6,
    "start_time": "2022-10-07T09:33:10.698Z"
   },
   {
    "duration": 12,
    "start_time": "2022-10-07T09:33:10.705Z"
   },
   {
    "duration": 3210,
    "start_time": "2022-10-07T09:33:10.718Z"
   },
   {
    "duration": 464,
    "start_time": "2022-10-07T09:33:13.929Z"
   },
   {
    "duration": 5,
    "start_time": "2022-10-07T09:33:14.396Z"
   },
   {
    "duration": 10,
    "start_time": "2022-10-07T09:33:14.402Z"
   },
   {
    "duration": 8,
    "start_time": "2022-10-07T09:33:14.413Z"
   },
   {
    "duration": 12,
    "start_time": "2022-10-07T09:33:14.423Z"
   },
   {
    "duration": 18,
    "start_time": "2022-10-07T09:33:14.436Z"
   },
   {
    "duration": 9,
    "start_time": "2022-10-07T09:33:14.455Z"
   },
   {
    "duration": 9,
    "start_time": "2022-10-07T09:33:14.465Z"
   },
   {
    "duration": 6,
    "start_time": "2022-10-07T09:33:14.475Z"
   },
   {
    "duration": 8,
    "start_time": "2022-10-07T09:33:14.483Z"
   },
   {
    "duration": 20,
    "start_time": "2022-10-07T09:33:14.492Z"
   },
   {
    "duration": 17,
    "start_time": "2022-10-07T09:33:14.514Z"
   },
   {
    "duration": 16,
    "start_time": "2022-10-07T09:33:14.532Z"
   },
   {
    "duration": 18,
    "start_time": "2022-10-07T09:33:14.550Z"
   },
   {
    "duration": 8,
    "start_time": "2022-10-07T09:33:14.570Z"
   },
   {
    "duration": 15,
    "start_time": "2022-10-07T09:33:14.580Z"
   },
   {
    "duration": 9,
    "start_time": "2022-10-07T09:33:14.596Z"
   },
   {
    "duration": 10,
    "start_time": "2022-10-07T09:33:14.606Z"
   },
   {
    "duration": 2431,
    "start_time": "2022-10-07T09:33:14.618Z"
   },
   {
    "duration": 5,
    "start_time": "2022-10-07T09:33:17.051Z"
   },
   {
    "duration": 2165,
    "start_time": "2022-10-07T22:30:47.840Z"
   },
   {
    "duration": 12,
    "start_time": "2022-10-07T22:30:50.008Z"
   },
   {
    "duration": 76,
    "start_time": "2022-10-07T22:30:50.022Z"
   },
   {
    "duration": 16,
    "start_time": "2022-10-07T22:30:50.099Z"
   },
   {
    "duration": 12,
    "start_time": "2022-10-07T22:30:50.117Z"
   },
   {
    "duration": 17,
    "start_time": "2022-10-07T22:30:50.130Z"
   },
   {
    "duration": 23,
    "start_time": "2022-10-07T22:30:50.149Z"
   },
   {
    "duration": 23,
    "start_time": "2022-10-07T22:30:50.174Z"
   },
   {
    "duration": 48,
    "start_time": "2022-10-07T22:30:50.198Z"
   },
   {
    "duration": 16,
    "start_time": "2022-10-07T22:30:50.249Z"
   },
   {
    "duration": 22,
    "start_time": "2022-10-07T22:30:50.267Z"
   },
   {
    "duration": 3921,
    "start_time": "2022-10-07T22:30:50.291Z"
   },
   {
    "duration": 553,
    "start_time": "2022-10-07T22:30:54.214Z"
   },
   {
    "duration": 6,
    "start_time": "2022-10-07T22:30:54.770Z"
   },
   {
    "duration": 7,
    "start_time": "2022-10-07T22:30:54.777Z"
   },
   {
    "duration": 16,
    "start_time": "2022-10-07T22:30:54.786Z"
   },
   {
    "duration": 21,
    "start_time": "2022-10-07T22:30:54.804Z"
   },
   {
    "duration": 24,
    "start_time": "2022-10-07T22:30:54.827Z"
   },
   {
    "duration": 10,
    "start_time": "2022-10-07T22:30:54.853Z"
   },
   {
    "duration": 10,
    "start_time": "2022-10-07T22:30:54.864Z"
   },
   {
    "duration": 9,
    "start_time": "2022-10-07T22:30:54.876Z"
   },
   {
    "duration": 14,
    "start_time": "2022-10-07T22:30:54.887Z"
   },
   {
    "duration": 12,
    "start_time": "2022-10-07T22:30:54.903Z"
   },
   {
    "duration": 15,
    "start_time": "2022-10-07T22:30:54.917Z"
   },
   {
    "duration": 31,
    "start_time": "2022-10-07T22:30:54.933Z"
   },
   {
    "duration": 18,
    "start_time": "2022-10-07T22:30:54.966Z"
   },
   {
    "duration": 8,
    "start_time": "2022-10-07T22:30:54.986Z"
   },
   {
    "duration": 6,
    "start_time": "2022-10-07T22:30:54.996Z"
   },
   {
    "duration": 8,
    "start_time": "2022-10-07T22:30:55.003Z"
   },
   {
    "duration": 10,
    "start_time": "2022-10-07T22:30:55.012Z"
   },
   {
    "duration": 2733,
    "start_time": "2022-10-07T22:30:55.023Z"
   },
   {
    "duration": 7,
    "start_time": "2022-10-07T22:30:57.758Z"
   },
   {
    "duration": 7,
    "start_time": "2022-10-07T22:31:16.194Z"
   },
   {
    "duration": 6,
    "start_time": "2022-10-07T22:32:24.277Z"
   },
   {
    "duration": 140,
    "start_time": "2022-10-07T22:33:26.467Z"
   },
   {
    "duration": 5,
    "start_time": "2022-10-07T22:35:35.549Z"
   },
   {
    "duration": 5,
    "start_time": "2022-10-07T22:35:50.911Z"
   },
   {
    "duration": 6,
    "start_time": "2022-10-07T22:35:55.180Z"
   },
   {
    "duration": 124,
    "start_time": "2022-10-07T22:36:29.880Z"
   },
   {
    "duration": 6,
    "start_time": "2022-10-07T22:36:49.463Z"
   },
   {
    "duration": 12,
    "start_time": "2022-10-07T22:36:52.509Z"
   },
   {
    "duration": 6,
    "start_time": "2022-10-07T22:37:01.383Z"
   },
   {
    "duration": 122,
    "start_time": "2022-10-07T22:37:13.410Z"
   },
   {
    "duration": 113,
    "start_time": "2022-10-07T22:37:28.075Z"
   },
   {
    "duration": 107,
    "start_time": "2022-10-07T22:37:37.185Z"
   },
   {
    "duration": 5,
    "start_time": "2022-10-07T22:37:44.985Z"
   },
   {
    "duration": 4,
    "start_time": "2022-10-07T22:37:48.735Z"
   },
   {
    "duration": 12,
    "start_time": "2022-10-07T22:38:02.025Z"
   },
   {
    "duration": 5,
    "start_time": "2022-10-07T22:38:05.288Z"
   },
   {
    "duration": 13,
    "start_time": "2022-10-07T22:39:53.390Z"
   },
   {
    "duration": 121,
    "start_time": "2022-10-07T22:39:58.975Z"
   },
   {
    "duration": 117,
    "start_time": "2022-10-07T22:40:09.545Z"
   },
   {
    "duration": 146,
    "start_time": "2022-10-07T22:41:16.767Z"
   },
   {
    "duration": 5,
    "start_time": "2022-10-07T22:41:37.551Z"
   },
   {
    "duration": 12,
    "start_time": "2022-10-07T22:41:40.101Z"
   },
   {
    "duration": 6,
    "start_time": "2022-10-07T22:41:47.151Z"
   },
   {
    "duration": 4,
    "start_time": "2022-10-07T22:42:29.102Z"
   },
   {
    "duration": 14,
    "start_time": "2022-10-07T22:42:37.456Z"
   },
   {
    "duration": 14,
    "start_time": "2022-10-07T22:42:54.919Z"
   },
   {
    "duration": 6,
    "start_time": "2022-10-07T22:43:49.916Z"
   },
   {
    "duration": 5,
    "start_time": "2022-10-07T22:43:58.502Z"
   },
   {
    "duration": 5,
    "start_time": "2022-10-07T22:44:07.641Z"
   },
   {
    "duration": 341,
    "start_time": "2022-10-07T22:45:16.056Z"
   },
   {
    "duration": 15,
    "start_time": "2022-10-07T22:45:35.356Z"
   },
   {
    "duration": 171,
    "start_time": "2022-10-07T22:45:41.836Z"
   },
   {
    "duration": 4,
    "start_time": "2022-10-07T22:45:54.741Z"
   },
   {
    "duration": 5,
    "start_time": "2022-10-07T22:45:58.928Z"
   },
   {
    "duration": 4,
    "start_time": "2022-10-07T22:46:09.756Z"
   },
   {
    "duration": 5,
    "start_time": "2022-10-07T22:46:16.538Z"
   },
   {
    "duration": 5,
    "start_time": "2022-10-07T22:46:26.502Z"
   },
   {
    "duration": 5,
    "start_time": "2022-10-07T22:46:29.838Z"
   },
   {
    "duration": 170,
    "start_time": "2022-10-07T22:46:38.687Z"
   },
   {
    "duration": 4,
    "start_time": "2022-10-07T22:46:58.990Z"
   },
   {
    "duration": 539,
    "start_time": "2022-10-07T22:47:22.126Z"
   },
   {
    "duration": 117,
    "start_time": "2022-10-07T22:48:21.786Z"
   },
   {
    "duration": 16,
    "start_time": "2022-10-07T22:48:26.828Z"
   },
   {
    "duration": 505,
    "start_time": "2022-10-07T22:48:44.208Z"
   },
   {
    "duration": 535,
    "start_time": "2022-10-07T22:48:54.275Z"
   },
   {
    "duration": 836,
    "start_time": "2022-10-07T22:48:58.459Z"
   },
   {
    "duration": 557,
    "start_time": "2022-10-07T22:49:48.518Z"
   },
   {
    "duration": 114,
    "start_time": "2022-10-07T22:50:18.265Z"
   },
   {
    "duration": 16,
    "start_time": "2022-10-07T22:50:35.177Z"
   },
   {
    "duration": 584,
    "start_time": "2022-10-07T22:50:42.847Z"
   },
   {
    "duration": 244,
    "start_time": "2022-10-07T22:52:37.219Z"
   },
   {
    "duration": 364,
    "start_time": "2022-10-07T22:52:43.802Z"
   },
   {
    "duration": 384,
    "start_time": "2022-10-07T22:53:12.720Z"
   },
   {
    "duration": 627,
    "start_time": "2022-10-07T22:53:26.871Z"
   },
   {
    "duration": 576,
    "start_time": "2022-10-07T22:55:25.641Z"
   },
   {
    "duration": 582,
    "start_time": "2022-10-07T22:55:33.581Z"
   },
   {
    "duration": 620,
    "start_time": "2022-10-07T22:55:42.091Z"
   },
   {
    "duration": 603,
    "start_time": "2022-10-07T22:56:45.370Z"
   },
   {
    "duration": 593,
    "start_time": "2022-10-07T22:57:10.101Z"
   },
   {
    "duration": 910,
    "start_time": "2022-10-07T22:57:23.231Z"
   },
   {
    "duration": 587,
    "start_time": "2022-10-07T22:57:33.611Z"
   },
   {
    "duration": 978,
    "start_time": "2022-10-07T22:59:41.051Z"
   },
   {
    "duration": 11,
    "start_time": "2022-10-07T23:00:05.051Z"
   },
   {
    "duration": 3,
    "start_time": "2022-10-07T23:00:07.556Z"
   },
   {
    "duration": 3,
    "start_time": "2022-10-07T23:36:10.191Z"
   },
   {
    "duration": 1876,
    "start_time": "2022-10-07T23:38:37.827Z"
   },
   {
    "duration": 8,
    "start_time": "2022-10-07T23:38:39.705Z"
   },
   {
    "duration": 30,
    "start_time": "2022-10-07T23:38:39.715Z"
   },
   {
    "duration": 13,
    "start_time": "2022-10-07T23:38:39.747Z"
   },
   {
    "duration": 6,
    "start_time": "2022-10-07T23:38:39.762Z"
   },
   {
    "duration": 5,
    "start_time": "2022-10-07T23:38:39.770Z"
   },
   {
    "duration": 7,
    "start_time": "2022-10-07T23:38:39.776Z"
   },
   {
    "duration": 6,
    "start_time": "2022-10-07T23:38:39.785Z"
   },
   {
    "duration": 26,
    "start_time": "2022-10-07T23:38:39.793Z"
   },
   {
    "duration": 34,
    "start_time": "2022-10-07T23:38:39.821Z"
   },
   {
    "duration": 9,
    "start_time": "2022-10-07T23:38:39.857Z"
   },
   {
    "duration": 1994,
    "start_time": "2022-10-07T23:39:31.856Z"
   },
   {
    "duration": 7,
    "start_time": "2022-10-07T23:39:33.852Z"
   },
   {
    "duration": 32,
    "start_time": "2022-10-07T23:39:33.860Z"
   },
   {
    "duration": 14,
    "start_time": "2022-10-07T23:39:33.894Z"
   },
   {
    "duration": 4,
    "start_time": "2022-10-07T23:39:33.910Z"
   },
   {
    "duration": 3,
    "start_time": "2022-10-07T23:39:34.862Z"
   },
   {
    "duration": 4,
    "start_time": "2022-10-07T23:39:35.192Z"
   },
   {
    "duration": 4,
    "start_time": "2022-10-07T23:39:36.772Z"
   },
   {
    "duration": 28,
    "start_time": "2022-10-07T23:39:36.931Z"
   },
   {
    "duration": 9,
    "start_time": "2022-10-07T23:39:37.656Z"
   },
   {
    "duration": 7,
    "start_time": "2022-10-07T23:39:38.016Z"
   },
   {
    "duration": 3863,
    "start_time": "2022-10-07T23:39:38.201Z"
   },
   {
    "duration": 544,
    "start_time": "2022-10-07T23:39:42.067Z"
   },
   {
    "duration": 6,
    "start_time": "2022-10-07T23:39:45.751Z"
   },
   {
    "duration": 4,
    "start_time": "2022-10-07T23:39:46.761Z"
   },
   {
    "duration": 4,
    "start_time": "2022-10-07T23:39:46.921Z"
   },
   {
    "duration": 6,
    "start_time": "2022-10-07T23:39:47.282Z"
   },
   {
    "duration": 5,
    "start_time": "2022-10-07T23:39:47.521Z"
   },
   {
    "duration": 6,
    "start_time": "2022-10-07T23:39:48.051Z"
   },
   {
    "duration": 6,
    "start_time": "2022-10-07T23:39:48.231Z"
   },
   {
    "duration": 5,
    "start_time": "2022-10-07T23:39:48.416Z"
   },
   {
    "duration": 3,
    "start_time": "2022-10-07T23:39:48.612Z"
   },
   {
    "duration": 13,
    "start_time": "2022-10-07T23:39:48.826Z"
   },
   {
    "duration": 12,
    "start_time": "2022-10-07T23:39:49.217Z"
   },
   {
    "duration": 17,
    "start_time": "2022-10-07T23:39:49.501Z"
   },
   {
    "duration": 15,
    "start_time": "2022-10-07T23:39:49.706Z"
   },
   {
    "duration": 4,
    "start_time": "2022-10-07T23:39:52.032Z"
   },
   {
    "duration": 3,
    "start_time": "2022-10-07T23:39:52.301Z"
   },
   {
    "duration": 4,
    "start_time": "2022-10-07T23:39:52.552Z"
   },
   {
    "duration": 5,
    "start_time": "2022-10-07T23:39:52.826Z"
   },
   {
    "duration": 5,
    "start_time": "2022-10-07T23:39:53.491Z"
   },
   {
    "duration": 2725,
    "start_time": "2022-10-07T23:39:54.121Z"
   },
   {
    "duration": 7,
    "start_time": "2022-10-07T23:39:56.855Z"
   },
   {
    "duration": 228,
    "start_time": "2022-10-07T23:40:00.271Z"
   },
   {
    "duration": 147,
    "start_time": "2022-10-07T23:40:11.401Z"
   },
   {
    "duration": 616,
    "start_time": "2022-10-07T23:40:53.467Z"
   },
   {
    "duration": 3,
    "start_time": "2022-10-07T23:40:58.536Z"
   },
   {
    "duration": 7,
    "start_time": "2022-10-07T23:40:59.316Z"
   },
   {
    "duration": 4,
    "start_time": "2022-10-07T23:41:22.906Z"
   },
   {
    "duration": 10,
    "start_time": "2022-10-07T23:41:32.076Z"
   },
   {
    "duration": 4,
    "start_time": "2022-10-07T23:41:35.196Z"
   },
   {
    "duration": 5,
    "start_time": "2022-10-07T23:41:42.066Z"
   },
   {
    "duration": 4,
    "start_time": "2022-10-07T23:41:44.241Z"
   },
   {
    "duration": 6,
    "start_time": "2022-10-07T23:41:48.691Z"
   },
   {
    "duration": 4,
    "start_time": "2022-10-07T23:41:51.066Z"
   },
   {
    "duration": 1871,
    "start_time": "2022-10-07T23:42:45.732Z"
   },
   {
    "duration": 7,
    "start_time": "2022-10-07T23:42:47.605Z"
   },
   {
    "duration": 42,
    "start_time": "2022-10-07T23:42:47.613Z"
   },
   {
    "duration": 14,
    "start_time": "2022-10-07T23:42:47.657Z"
   },
   {
    "duration": 4,
    "start_time": "2022-10-07T23:42:47.674Z"
   },
   {
    "duration": 24,
    "start_time": "2022-10-07T23:42:47.679Z"
   },
   {
    "duration": 24,
    "start_time": "2022-10-07T23:42:47.705Z"
   },
   {
    "duration": 14,
    "start_time": "2022-10-07T23:42:47.731Z"
   },
   {
    "duration": 31,
    "start_time": "2022-10-07T23:42:47.747Z"
   },
   {
    "duration": 7,
    "start_time": "2022-10-07T23:42:47.780Z"
   },
   {
    "duration": 11,
    "start_time": "2022-10-07T23:42:47.789Z"
   },
   {
    "duration": 3792,
    "start_time": "2022-10-07T23:42:47.802Z"
   },
   {
    "duration": 587,
    "start_time": "2022-10-07T23:42:51.596Z"
   },
   {
    "duration": 5,
    "start_time": "2022-10-07T23:42:52.186Z"
   },
   {
    "duration": 16,
    "start_time": "2022-10-07T23:42:52.193Z"
   },
   {
    "duration": 11,
    "start_time": "2022-10-07T23:42:52.211Z"
   },
   {
    "duration": 8,
    "start_time": "2022-10-07T23:42:52.224Z"
   },
   {
    "duration": 7,
    "start_time": "2022-10-07T23:42:52.234Z"
   },
   {
    "duration": 7,
    "start_time": "2022-10-07T23:42:52.243Z"
   },
   {
    "duration": 5,
    "start_time": "2022-10-07T23:42:52.253Z"
   },
   {
    "duration": 7,
    "start_time": "2022-10-07T23:42:52.260Z"
   },
   {
    "duration": 11,
    "start_time": "2022-10-07T23:42:52.268Z"
   },
   {
    "duration": 17,
    "start_time": "2022-10-07T23:42:52.280Z"
   },
   {
    "duration": 18,
    "start_time": "2022-10-07T23:42:52.299Z"
   },
   {
    "duration": 20,
    "start_time": "2022-10-07T23:42:52.319Z"
   },
   {
    "duration": 27,
    "start_time": "2022-10-07T23:42:52.341Z"
   },
   {
    "duration": 5,
    "start_time": "2022-10-07T23:42:52.370Z"
   },
   {
    "duration": 5,
    "start_time": "2022-10-07T23:42:52.377Z"
   },
   {
    "duration": 6,
    "start_time": "2022-10-07T23:42:52.383Z"
   },
   {
    "duration": 7,
    "start_time": "2022-10-07T23:42:52.390Z"
   },
   {
    "duration": 6,
    "start_time": "2022-10-07T23:42:52.398Z"
   },
   {
    "duration": 2679,
    "start_time": "2022-10-07T23:42:52.406Z"
   },
   {
    "duration": 8,
    "start_time": "2022-10-07T23:42:55.087Z"
   },
   {
    "duration": 664,
    "start_time": "2022-10-07T23:42:55.097Z"
   },
   {
    "duration": 3,
    "start_time": "2022-10-07T23:42:55.763Z"
   },
   {
    "duration": 18,
    "start_time": "2022-10-07T23:42:55.768Z"
   },
   {
    "duration": 12,
    "start_time": "2022-10-07T23:42:55.788Z"
   },
   {
    "duration": 6,
    "start_time": "2022-10-07T23:42:55.802Z"
   },
   {
    "duration": 2723,
    "start_time": "2022-10-07T23:42:55.809Z"
   },
   {
    "duration": 14692,
    "start_time": "2022-10-07T23:43:35.375Z"
   },
   {
    "duration": 1951,
    "start_time": "2022-10-07T23:44:06.586Z"
   },
   {
    "duration": 7,
    "start_time": "2022-10-07T23:44:08.539Z"
   },
   {
    "duration": 32,
    "start_time": "2022-10-07T23:44:08.554Z"
   },
   {
    "duration": 15,
    "start_time": "2022-10-07T23:44:08.587Z"
   },
   {
    "duration": 9,
    "start_time": "2022-10-07T23:44:08.604Z"
   },
   {
    "duration": 7,
    "start_time": "2022-10-07T23:44:08.615Z"
   },
   {
    "duration": 8,
    "start_time": "2022-10-07T23:44:08.624Z"
   },
   {
    "duration": 7,
    "start_time": "2022-10-07T23:44:08.634Z"
   },
   {
    "duration": 32,
    "start_time": "2022-10-07T23:44:08.642Z"
   },
   {
    "duration": 9,
    "start_time": "2022-10-07T23:44:08.676Z"
   },
   {
    "duration": 10,
    "start_time": "2022-10-07T23:44:08.686Z"
   },
   {
    "duration": 3988,
    "start_time": "2022-10-07T23:44:08.697Z"
   },
   {
    "duration": 570,
    "start_time": "2022-10-07T23:44:12.686Z"
   },
   {
    "duration": 6,
    "start_time": "2022-10-07T23:44:13.259Z"
   },
   {
    "duration": 7,
    "start_time": "2022-10-07T23:44:13.267Z"
   },
   {
    "duration": 7,
    "start_time": "2022-10-07T23:44:13.276Z"
   },
   {
    "duration": 10,
    "start_time": "2022-10-07T23:44:13.285Z"
   },
   {
    "duration": 7,
    "start_time": "2022-10-07T23:44:13.297Z"
   },
   {
    "duration": 49,
    "start_time": "2022-10-07T23:44:13.306Z"
   },
   {
    "duration": 10,
    "start_time": "2022-10-07T23:44:13.357Z"
   },
   {
    "duration": 12,
    "start_time": "2022-10-07T23:44:13.368Z"
   },
   {
    "duration": 8,
    "start_time": "2022-10-07T23:44:13.382Z"
   },
   {
    "duration": 22,
    "start_time": "2022-10-07T23:44:13.392Z"
   },
   {
    "duration": 15,
    "start_time": "2022-10-07T23:44:13.417Z"
   },
   {
    "duration": 27,
    "start_time": "2022-10-07T23:44:13.454Z"
   },
   {
    "duration": 72,
    "start_time": "2022-10-07T23:44:13.482Z"
   },
   {
    "duration": 4,
    "start_time": "2022-10-07T23:44:13.556Z"
   },
   {
    "duration": 9,
    "start_time": "2022-10-07T23:44:13.562Z"
   },
   {
    "duration": 14,
    "start_time": "2022-10-07T23:44:13.572Z"
   },
   {
    "duration": 6,
    "start_time": "2022-10-07T23:44:13.589Z"
   },
   {
    "duration": 8,
    "start_time": "2022-10-07T23:44:13.597Z"
   },
   {
    "duration": 2710,
    "start_time": "2022-10-07T23:44:13.607Z"
   },
   {
    "duration": 7,
    "start_time": "2022-10-07T23:44:16.320Z"
   },
   {
    "duration": 660,
    "start_time": "2022-10-07T23:44:16.328Z"
   },
   {
    "duration": 2,
    "start_time": "2022-10-07T23:44:16.991Z"
   },
   {
    "duration": 9,
    "start_time": "2022-10-07T23:44:16.995Z"
   },
   {
    "duration": 12,
    "start_time": "2022-10-07T23:44:17.005Z"
   },
   {
    "duration": 8,
    "start_time": "2022-10-07T23:44:17.018Z"
   },
   {
    "duration": 14835,
    "start_time": "2022-10-07T23:44:17.028Z"
   },
   {
    "duration": 14484,
    "start_time": "2022-10-07T23:45:04.770Z"
   },
   {
    "duration": 5,
    "start_time": "2022-10-07T23:45:42.506Z"
   },
   {
    "duration": 5,
    "start_time": "2022-10-07T23:45:43.010Z"
   },
   {
    "duration": 4,
    "start_time": "2022-10-07T23:45:43.580Z"
   },
   {
    "duration": 2896,
    "start_time": "2022-10-07T23:45:58.865Z"
   },
   {
    "duration": 5,
    "start_time": "2022-10-07T23:46:05.740Z"
   },
   {
    "duration": 5,
    "start_time": "2022-10-07T23:46:09.160Z"
   },
   {
    "duration": 5,
    "start_time": "2022-10-07T23:46:11.010Z"
   },
   {
    "duration": 5,
    "start_time": "2022-10-07T23:46:15.910Z"
   },
   {
    "duration": 5,
    "start_time": "2022-10-07T23:46:16.090Z"
   },
   {
    "duration": 15625,
    "start_time": "2022-10-07T23:46:16.931Z"
   },
   {
    "duration": 1990,
    "start_time": "2022-10-07T23:48:53.605Z"
   },
   {
    "duration": 9,
    "start_time": "2022-10-07T23:48:55.597Z"
   },
   {
    "duration": 38,
    "start_time": "2022-10-07T23:48:55.608Z"
   },
   {
    "duration": 15,
    "start_time": "2022-10-07T23:48:55.648Z"
   },
   {
    "duration": 15,
    "start_time": "2022-10-07T23:48:55.666Z"
   },
   {
    "duration": 10,
    "start_time": "2022-10-07T23:48:55.683Z"
   },
   {
    "duration": 18,
    "start_time": "2022-10-07T23:48:55.695Z"
   },
   {
    "duration": 15,
    "start_time": "2022-10-07T23:48:55.714Z"
   },
   {
    "duration": 36,
    "start_time": "2022-10-07T23:48:55.730Z"
   },
   {
    "duration": 8,
    "start_time": "2022-10-07T23:48:55.767Z"
   },
   {
    "duration": 11,
    "start_time": "2022-10-07T23:48:55.776Z"
   },
   {
    "duration": 3952,
    "start_time": "2022-10-07T23:48:55.789Z"
   },
   {
    "duration": 567,
    "start_time": "2022-10-07T23:48:59.743Z"
   },
   {
    "duration": 7,
    "start_time": "2022-10-07T23:49:00.314Z"
   },
   {
    "duration": 21,
    "start_time": "2022-10-07T23:49:00.322Z"
   },
   {
    "duration": 36,
    "start_time": "2022-10-07T23:49:00.345Z"
   },
   {
    "duration": 41,
    "start_time": "2022-10-07T23:49:00.383Z"
   },
   {
    "duration": 84,
    "start_time": "2022-10-07T23:49:00.426Z"
   },
   {
    "duration": 50,
    "start_time": "2022-10-07T23:49:00.512Z"
   },
   {
    "duration": 45,
    "start_time": "2022-10-07T23:49:00.563Z"
   },
   {
    "duration": 44,
    "start_time": "2022-10-07T23:49:00.610Z"
   },
   {
    "duration": 43,
    "start_time": "2022-10-07T23:49:00.656Z"
   },
   {
    "duration": 58,
    "start_time": "2022-10-07T23:49:00.701Z"
   },
   {
    "duration": 55,
    "start_time": "2022-10-07T23:49:00.761Z"
   },
   {
    "duration": 81,
    "start_time": "2022-10-07T23:49:00.818Z"
   },
   {
    "duration": 43,
    "start_time": "2022-10-07T23:49:00.901Z"
   },
   {
    "duration": 41,
    "start_time": "2022-10-07T23:49:00.946Z"
   },
   {
    "duration": 23,
    "start_time": "2022-10-07T23:49:00.989Z"
   },
   {
    "duration": 54,
    "start_time": "2022-10-07T23:49:01.013Z"
   },
   {
    "duration": 49,
    "start_time": "2022-10-07T23:49:01.069Z"
   },
   {
    "duration": 36,
    "start_time": "2022-10-07T23:49:01.120Z"
   },
   {
    "duration": 2783,
    "start_time": "2022-10-07T23:49:01.157Z"
   },
   {
    "duration": 15,
    "start_time": "2022-10-07T23:49:03.942Z"
   },
   {
    "duration": 640,
    "start_time": "2022-10-07T23:49:03.959Z"
   },
   {
    "duration": 4,
    "start_time": "2022-10-07T23:49:04.601Z"
   },
   {
    "duration": 6,
    "start_time": "2022-10-07T23:49:04.607Z"
   },
   {
    "duration": 10,
    "start_time": "2022-10-07T23:49:04.615Z"
   },
   {
    "duration": 6,
    "start_time": "2022-10-07T23:49:04.627Z"
   },
   {
    "duration": 14906,
    "start_time": "2022-10-07T23:49:04.655Z"
   },
   {
    "duration": 6,
    "start_time": "2022-10-07T23:49:28.274Z"
   },
   {
    "duration": 5,
    "start_time": "2022-10-07T23:49:28.729Z"
   },
   {
    "duration": 1979,
    "start_time": "2022-10-07T23:50:24.580Z"
   },
   {
    "duration": 7,
    "start_time": "2022-10-07T23:50:26.561Z"
   },
   {
    "duration": 39,
    "start_time": "2022-10-07T23:50:26.569Z"
   },
   {
    "duration": 18,
    "start_time": "2022-10-07T23:50:26.610Z"
   },
   {
    "duration": 5,
    "start_time": "2022-10-07T23:50:26.631Z"
   },
   {
    "duration": 10,
    "start_time": "2022-10-07T23:50:26.638Z"
   },
   {
    "duration": 17,
    "start_time": "2022-10-07T23:50:26.650Z"
   },
   {
    "duration": 19,
    "start_time": "2022-10-07T23:50:26.669Z"
   },
   {
    "duration": 32,
    "start_time": "2022-10-07T23:50:26.690Z"
   },
   {
    "duration": 7,
    "start_time": "2022-10-07T23:50:26.724Z"
   },
   {
    "duration": 9,
    "start_time": "2022-10-07T23:50:26.733Z"
   },
   {
    "duration": 3818,
    "start_time": "2022-10-07T23:50:26.743Z"
   },
   {
    "duration": 605,
    "start_time": "2022-10-07T23:50:30.563Z"
   },
   {
    "duration": 6,
    "start_time": "2022-10-07T23:50:31.172Z"
   },
   {
    "duration": 11,
    "start_time": "2022-10-07T23:50:31.180Z"
   },
   {
    "duration": 10,
    "start_time": "2022-10-07T23:50:31.193Z"
   },
   {
    "duration": 25,
    "start_time": "2022-10-07T23:50:31.205Z"
   },
   {
    "duration": 12,
    "start_time": "2022-10-07T23:50:31.232Z"
   },
   {
    "duration": 8,
    "start_time": "2022-10-07T23:50:31.246Z"
   },
   {
    "duration": 21,
    "start_time": "2022-10-07T23:50:31.256Z"
   },
   {
    "duration": 36,
    "start_time": "2022-10-07T23:50:31.280Z"
   },
   {
    "duration": 11,
    "start_time": "2022-10-07T23:50:31.319Z"
   },
   {
    "duration": 24,
    "start_time": "2022-10-07T23:50:31.332Z"
   },
   {
    "duration": 39,
    "start_time": "2022-10-07T23:50:31.359Z"
   },
   {
    "duration": 33,
    "start_time": "2022-10-07T23:50:31.400Z"
   },
   {
    "duration": 50,
    "start_time": "2022-10-07T23:50:31.436Z"
   },
   {
    "duration": 18,
    "start_time": "2022-10-07T23:50:31.488Z"
   },
   {
    "duration": 13,
    "start_time": "2022-10-07T23:50:31.509Z"
   },
   {
    "duration": 13,
    "start_time": "2022-10-07T23:50:31.524Z"
   },
   {
    "duration": 13,
    "start_time": "2022-10-07T23:50:31.540Z"
   },
   {
    "duration": 16,
    "start_time": "2022-10-07T23:50:31.556Z"
   },
   {
    "duration": 2832,
    "start_time": "2022-10-07T23:50:31.575Z"
   },
   {
    "duration": 6,
    "start_time": "2022-10-07T23:50:34.409Z"
   },
   {
    "duration": 645,
    "start_time": "2022-10-07T23:50:34.416Z"
   },
   {
    "duration": 3,
    "start_time": "2022-10-07T23:50:35.063Z"
   },
   {
    "duration": 8,
    "start_time": "2022-10-07T23:50:35.067Z"
   },
   {
    "duration": 10,
    "start_time": "2022-10-07T23:50:35.077Z"
   },
   {
    "duration": 7,
    "start_time": "2022-10-07T23:50:35.089Z"
   },
   {
    "duration": 63169,
    "start_time": "2022-10-07T23:50:35.097Z"
   },
   {
    "duration": 2073,
    "start_time": "2022-10-07T23:51:55.802Z"
   },
   {
    "duration": 6,
    "start_time": "2022-10-07T23:51:57.877Z"
   },
   {
    "duration": 37,
    "start_time": "2022-10-07T23:51:57.885Z"
   },
   {
    "duration": 16,
    "start_time": "2022-10-07T23:51:57.924Z"
   },
   {
    "duration": 5,
    "start_time": "2022-10-07T23:51:57.943Z"
   },
   {
    "duration": 5,
    "start_time": "2022-10-07T23:51:57.949Z"
   },
   {
    "duration": 13,
    "start_time": "2022-10-07T23:51:57.956Z"
   },
   {
    "duration": 6,
    "start_time": "2022-10-07T23:51:57.971Z"
   },
   {
    "duration": 28,
    "start_time": "2022-10-07T23:51:57.979Z"
   },
   {
    "duration": 8,
    "start_time": "2022-10-07T23:51:58.009Z"
   },
   {
    "duration": 9,
    "start_time": "2022-10-07T23:51:58.019Z"
   },
   {
    "duration": 3887,
    "start_time": "2022-10-07T23:51:58.029Z"
   },
   {
    "duration": 563,
    "start_time": "2022-10-07T23:52:01.918Z"
   },
   {
    "duration": 6,
    "start_time": "2022-10-07T23:52:02.486Z"
   },
   {
    "duration": 26,
    "start_time": "2022-10-07T23:52:02.494Z"
   },
   {
    "duration": 18,
    "start_time": "2022-10-07T23:52:02.523Z"
   },
   {
    "duration": 12,
    "start_time": "2022-10-07T23:52:02.543Z"
   },
   {
    "duration": 31,
    "start_time": "2022-10-07T23:52:02.557Z"
   },
   {
    "duration": 31,
    "start_time": "2022-10-07T23:52:02.589Z"
   },
   {
    "duration": 12,
    "start_time": "2022-10-07T23:52:02.622Z"
   },
   {
    "duration": 7,
    "start_time": "2022-10-07T23:52:02.636Z"
   },
   {
    "duration": 11,
    "start_time": "2022-10-07T23:52:02.645Z"
   },
   {
    "duration": 27,
    "start_time": "2022-10-07T23:52:02.658Z"
   },
   {
    "duration": 25,
    "start_time": "2022-10-07T23:52:02.687Z"
   },
   {
    "duration": 17,
    "start_time": "2022-10-07T23:52:02.714Z"
   },
   {
    "duration": 23,
    "start_time": "2022-10-07T23:52:02.733Z"
   },
   {
    "duration": 8,
    "start_time": "2022-10-07T23:52:02.758Z"
   },
   {
    "duration": 6,
    "start_time": "2022-10-07T23:52:02.768Z"
   },
   {
    "duration": 8,
    "start_time": "2022-10-07T23:52:02.776Z"
   },
   {
    "duration": 9,
    "start_time": "2022-10-07T23:52:02.786Z"
   },
   {
    "duration": 45,
    "start_time": "2022-10-07T23:52:02.797Z"
   },
   {
    "duration": 2757,
    "start_time": "2022-10-07T23:52:02.844Z"
   },
   {
    "duration": 9,
    "start_time": "2022-10-07T23:52:05.604Z"
   },
   {
    "duration": 643,
    "start_time": "2022-10-07T23:52:05.615Z"
   },
   {
    "duration": 2,
    "start_time": "2022-10-07T23:52:06.260Z"
   },
   {
    "duration": 11,
    "start_time": "2022-10-07T23:52:06.264Z"
   },
   {
    "duration": 31,
    "start_time": "2022-10-07T23:52:06.277Z"
   },
   {
    "duration": 16,
    "start_time": "2022-10-07T23:52:06.309Z"
   },
   {
    "duration": 47141,
    "start_time": "2022-10-07T23:52:06.327Z"
   },
   {
    "duration": 7,
    "start_time": "2022-10-07T23:53:24.147Z"
   },
   {
    "duration": 609,
    "start_time": "2022-10-07T23:53:34.602Z"
   },
   {
    "duration": 1876,
    "start_time": "2022-10-08T00:15:22.347Z"
   },
   {
    "duration": 6,
    "start_time": "2022-10-08T00:15:24.225Z"
   },
   {
    "duration": 34,
    "start_time": "2022-10-08T00:15:24.233Z"
   },
   {
    "duration": 14,
    "start_time": "2022-10-08T00:15:24.269Z"
   },
   {
    "duration": 5,
    "start_time": "2022-10-08T00:15:24.285Z"
   },
   {
    "duration": 8,
    "start_time": "2022-10-08T00:15:24.291Z"
   },
   {
    "duration": 9,
    "start_time": "2022-10-08T00:15:24.301Z"
   },
   {
    "duration": 12,
    "start_time": "2022-10-08T00:15:24.312Z"
   },
   {
    "duration": 32,
    "start_time": "2022-10-08T00:15:24.326Z"
   },
   {
    "duration": 8,
    "start_time": "2022-10-08T00:15:24.359Z"
   },
   {
    "duration": 11,
    "start_time": "2022-10-08T00:15:24.369Z"
   },
   {
    "duration": 3739,
    "start_time": "2022-10-08T00:15:24.381Z"
   },
   {
    "duration": 551,
    "start_time": "2022-10-08T00:15:28.122Z"
   },
   {
    "duration": 7,
    "start_time": "2022-10-08T00:15:28.677Z"
   },
   {
    "duration": 8,
    "start_time": "2022-10-08T00:15:28.686Z"
   },
   {
    "duration": 10,
    "start_time": "2022-10-08T00:15:28.696Z"
   },
   {
    "duration": 8,
    "start_time": "2022-10-08T00:15:28.708Z"
   },
   {
    "duration": 5,
    "start_time": "2022-10-08T00:15:28.718Z"
   },
   {
    "duration": 8,
    "start_time": "2022-10-08T00:15:28.725Z"
   },
   {
    "duration": 21,
    "start_time": "2022-10-08T00:15:28.734Z"
   },
   {
    "duration": 8,
    "start_time": "2022-10-08T00:15:28.757Z"
   },
   {
    "duration": 15,
    "start_time": "2022-10-08T00:15:28.766Z"
   },
   {
    "duration": 13,
    "start_time": "2022-10-08T00:15:28.782Z"
   },
   {
    "duration": 17,
    "start_time": "2022-10-08T00:15:28.796Z"
   },
   {
    "duration": 23,
    "start_time": "2022-10-08T00:15:28.815Z"
   },
   {
    "duration": 25,
    "start_time": "2022-10-08T00:15:28.840Z"
   },
   {
    "duration": 7,
    "start_time": "2022-10-08T00:15:28.867Z"
   },
   {
    "duration": 5,
    "start_time": "2022-10-08T00:15:28.875Z"
   },
   {
    "duration": 6,
    "start_time": "2022-10-08T00:15:28.881Z"
   },
   {
    "duration": 9,
    "start_time": "2022-10-08T00:15:28.888Z"
   },
   {
    "duration": 6,
    "start_time": "2022-10-08T00:15:28.898Z"
   },
   {
    "duration": 2816,
    "start_time": "2022-10-08T00:15:28.905Z"
   },
   {
    "duration": 33,
    "start_time": "2022-10-08T00:15:31.723Z"
   },
   {
    "duration": 652,
    "start_time": "2022-10-08T00:15:31.758Z"
   },
   {
    "duration": 3,
    "start_time": "2022-10-08T00:15:32.412Z"
   },
   {
    "duration": 7,
    "start_time": "2022-10-08T00:15:32.417Z"
   },
   {
    "duration": 7,
    "start_time": "2022-10-08T00:15:32.425Z"
   },
   {
    "duration": 5,
    "start_time": "2022-10-08T00:15:32.434Z"
   },
   {
    "duration": 1881,
    "start_time": "2022-10-08T00:16:08.990Z"
   },
   {
    "duration": 7,
    "start_time": "2022-10-08T00:16:10.873Z"
   },
   {
    "duration": 31,
    "start_time": "2022-10-08T00:16:10.882Z"
   },
   {
    "duration": 14,
    "start_time": "2022-10-08T00:16:10.915Z"
   },
   {
    "duration": 5,
    "start_time": "2022-10-08T00:16:10.931Z"
   },
   {
    "duration": 5,
    "start_time": "2022-10-08T00:16:10.937Z"
   },
   {
    "duration": 7,
    "start_time": "2022-10-08T00:16:10.944Z"
   },
   {
    "duration": 6,
    "start_time": "2022-10-08T00:16:10.954Z"
   },
   {
    "duration": 28,
    "start_time": "2022-10-08T00:16:10.961Z"
   },
   {
    "duration": 7,
    "start_time": "2022-10-08T00:16:10.990Z"
   },
   {
    "duration": 8,
    "start_time": "2022-10-08T00:16:10.998Z"
   },
   {
    "duration": 3825,
    "start_time": "2022-10-08T00:16:11.008Z"
   },
   {
    "duration": 551,
    "start_time": "2022-10-08T00:16:14.835Z"
   },
   {
    "duration": 6,
    "start_time": "2022-10-08T00:16:15.390Z"
   },
   {
    "duration": 5,
    "start_time": "2022-10-08T00:16:15.397Z"
   },
   {
    "duration": 9,
    "start_time": "2022-10-08T00:16:15.404Z"
   },
   {
    "duration": 11,
    "start_time": "2022-10-08T00:16:15.415Z"
   },
   {
    "duration": 8,
    "start_time": "2022-10-08T00:16:15.428Z"
   },
   {
    "duration": 18,
    "start_time": "2022-10-08T00:16:15.438Z"
   },
   {
    "duration": 8,
    "start_time": "2022-10-08T00:16:15.458Z"
   },
   {
    "duration": 6,
    "start_time": "2022-10-08T00:16:15.468Z"
   },
   {
    "duration": 5,
    "start_time": "2022-10-08T00:16:15.476Z"
   },
   {
    "duration": 15,
    "start_time": "2022-10-08T00:16:15.482Z"
   },
   {
    "duration": 20,
    "start_time": "2022-10-08T00:16:15.498Z"
   },
   {
    "duration": 35,
    "start_time": "2022-10-08T00:16:15.520Z"
   },
   {
    "duration": 23,
    "start_time": "2022-10-08T00:16:15.557Z"
   },
   {
    "duration": 15,
    "start_time": "2022-10-08T00:16:15.582Z"
   },
   {
    "duration": 11,
    "start_time": "2022-10-08T00:16:15.600Z"
   },
   {
    "duration": 9,
    "start_time": "2022-10-08T00:16:15.612Z"
   },
   {
    "duration": 6,
    "start_time": "2022-10-08T00:16:15.623Z"
   },
   {
    "duration": 6,
    "start_time": "2022-10-08T00:16:15.631Z"
   },
   {
    "duration": 2620,
    "start_time": "2022-10-08T00:16:15.638Z"
   },
   {
    "duration": 6,
    "start_time": "2022-10-08T00:16:18.260Z"
   },
   {
    "duration": 639,
    "start_time": "2022-10-08T00:16:18.268Z"
   },
   {
    "duration": 3,
    "start_time": "2022-10-08T00:16:18.909Z"
   },
   {
    "duration": 11,
    "start_time": "2022-10-08T00:16:18.913Z"
   },
   {
    "duration": 15,
    "start_time": "2022-10-08T00:16:18.926Z"
   },
   {
    "duration": 7,
    "start_time": "2022-10-08T00:16:18.943Z"
   },
   {
    "duration": 45514,
    "start_time": "2022-10-08T00:16:18.955Z"
   },
   {
    "duration": 84,
    "start_time": "2022-10-08T00:17:04.471Z"
   },
   {
    "duration": 635,
    "start_time": "2022-10-08T00:17:04.559Z"
   },
   {
    "duration": 1816,
    "start_time": "2022-10-08T00:17:28.308Z"
   },
   {
    "duration": 7,
    "start_time": "2022-10-08T00:17:30.126Z"
   },
   {
    "duration": 43,
    "start_time": "2022-10-08T00:17:30.134Z"
   },
   {
    "duration": 14,
    "start_time": "2022-10-08T00:17:30.179Z"
   },
   {
    "duration": 12,
    "start_time": "2022-10-08T00:17:30.195Z"
   },
   {
    "duration": 31,
    "start_time": "2022-10-08T00:17:30.208Z"
   },
   {
    "duration": 36,
    "start_time": "2022-10-08T00:17:30.241Z"
   },
   {
    "duration": 40,
    "start_time": "2022-10-08T00:17:30.279Z"
   },
   {
    "duration": 43,
    "start_time": "2022-10-08T00:17:30.321Z"
   },
   {
    "duration": 23,
    "start_time": "2022-10-08T00:17:30.365Z"
   },
   {
    "duration": 38,
    "start_time": "2022-10-08T00:17:30.390Z"
   },
   {
    "duration": 3862,
    "start_time": "2022-10-08T00:17:30.430Z"
   },
   {
    "duration": 553,
    "start_time": "2022-10-08T00:17:34.295Z"
   },
   {
    "duration": 6,
    "start_time": "2022-10-08T00:17:34.853Z"
   },
   {
    "duration": 16,
    "start_time": "2022-10-08T00:17:34.860Z"
   },
   {
    "duration": 17,
    "start_time": "2022-10-08T00:17:34.878Z"
   },
   {
    "duration": 11,
    "start_time": "2022-10-08T00:17:34.896Z"
   },
   {
    "duration": 13,
    "start_time": "2022-10-08T00:17:34.908Z"
   },
   {
    "duration": 23,
    "start_time": "2022-10-08T00:17:34.922Z"
   },
   {
    "duration": 34,
    "start_time": "2022-10-08T00:17:34.946Z"
   },
   {
    "duration": 13,
    "start_time": "2022-10-08T00:17:34.982Z"
   },
   {
    "duration": 13,
    "start_time": "2022-10-08T00:17:34.996Z"
   },
   {
    "duration": 28,
    "start_time": "2022-10-08T00:17:35.011Z"
   },
   {
    "duration": 27,
    "start_time": "2022-10-08T00:17:35.041Z"
   },
   {
    "duration": 28,
    "start_time": "2022-10-08T00:17:35.070Z"
   },
   {
    "duration": 25,
    "start_time": "2022-10-08T00:17:35.100Z"
   },
   {
    "duration": 14,
    "start_time": "2022-10-08T00:17:35.127Z"
   },
   {
    "duration": 8,
    "start_time": "2022-10-08T00:17:35.143Z"
   },
   {
    "duration": 15,
    "start_time": "2022-10-08T00:17:35.153Z"
   },
   {
    "duration": 14,
    "start_time": "2022-10-08T00:17:35.170Z"
   },
   {
    "duration": 14,
    "start_time": "2022-10-08T00:17:35.185Z"
   },
   {
    "duration": 2730,
    "start_time": "2022-10-08T00:17:35.200Z"
   },
   {
    "duration": 5,
    "start_time": "2022-10-08T00:17:37.932Z"
   },
   {
    "duration": 616,
    "start_time": "2022-10-08T00:17:37.954Z"
   },
   {
    "duration": 3,
    "start_time": "2022-10-08T00:17:38.572Z"
   },
   {
    "duration": 7,
    "start_time": "2022-10-08T00:17:38.576Z"
   },
   {
    "duration": 15,
    "start_time": "2022-10-08T00:17:38.585Z"
   },
   {
    "duration": 5,
    "start_time": "2022-10-08T00:17:38.602Z"
   },
   {
    "duration": 35165,
    "start_time": "2022-10-08T00:17:38.609Z"
   },
   {
    "duration": 83,
    "start_time": "2022-10-08T00:18:13.776Z"
   },
   {
    "duration": 656,
    "start_time": "2022-10-08T00:18:13.862Z"
   },
   {
    "duration": 2439,
    "start_time": "2022-10-08T08:49:11.546Z"
   },
   {
    "duration": 13,
    "start_time": "2022-10-08T08:49:13.987Z"
   },
   {
    "duration": 73,
    "start_time": "2022-10-08T08:49:14.002Z"
   },
   {
    "duration": 14,
    "start_time": "2022-10-08T08:49:14.077Z"
   },
   {
    "duration": 8,
    "start_time": "2022-10-08T08:49:14.092Z"
   },
   {
    "duration": 6,
    "start_time": "2022-10-08T08:49:14.102Z"
   },
   {
    "duration": 8,
    "start_time": "2022-10-08T08:49:14.110Z"
   },
   {
    "duration": 8,
    "start_time": "2022-10-08T08:49:14.120Z"
   },
   {
    "duration": 27,
    "start_time": "2022-10-08T08:49:14.130Z"
   },
   {
    "duration": 8,
    "start_time": "2022-10-08T08:49:14.159Z"
   },
   {
    "duration": 9,
    "start_time": "2022-10-08T08:49:14.168Z"
   },
   {
    "duration": 3806,
    "start_time": "2022-10-08T08:49:14.178Z"
   },
   {
    "duration": 571,
    "start_time": "2022-10-08T08:49:17.986Z"
   },
   {
    "duration": 7,
    "start_time": "2022-10-08T08:49:18.559Z"
   },
   {
    "duration": 11,
    "start_time": "2022-10-08T08:49:18.567Z"
   },
   {
    "duration": 14,
    "start_time": "2022-10-08T08:49:18.580Z"
   },
   {
    "duration": 15,
    "start_time": "2022-10-08T08:49:18.596Z"
   },
   {
    "duration": 8,
    "start_time": "2022-10-08T08:49:18.613Z"
   },
   {
    "duration": 13,
    "start_time": "2022-10-08T08:49:18.623Z"
   },
   {
    "duration": 9,
    "start_time": "2022-10-08T08:49:18.638Z"
   },
   {
    "duration": 22,
    "start_time": "2022-10-08T08:49:18.649Z"
   },
   {
    "duration": 16,
    "start_time": "2022-10-08T08:49:18.673Z"
   },
   {
    "duration": 33,
    "start_time": "2022-10-08T08:49:18.691Z"
   },
   {
    "duration": 29,
    "start_time": "2022-10-08T08:49:18.726Z"
   },
   {
    "duration": 18,
    "start_time": "2022-10-08T08:49:18.756Z"
   },
   {
    "duration": 20,
    "start_time": "2022-10-08T08:49:18.776Z"
   },
   {
    "duration": 20,
    "start_time": "2022-10-08T08:49:18.798Z"
   },
   {
    "duration": 13,
    "start_time": "2022-10-08T08:49:18.821Z"
   },
   {
    "duration": 12,
    "start_time": "2022-10-08T08:49:18.836Z"
   },
   {
    "duration": 8,
    "start_time": "2022-10-08T08:49:18.850Z"
   },
   {
    "duration": 21,
    "start_time": "2022-10-08T08:49:18.860Z"
   },
   {
    "duration": 2719,
    "start_time": "2022-10-08T08:49:18.882Z"
   },
   {
    "duration": 7,
    "start_time": "2022-10-08T08:49:21.604Z"
   },
   {
    "duration": 662,
    "start_time": "2022-10-08T08:49:21.613Z"
   },
   {
    "duration": 3,
    "start_time": "2022-10-08T08:49:22.277Z"
   },
   {
    "duration": 7,
    "start_time": "2022-10-08T08:49:22.282Z"
   },
   {
    "duration": 9,
    "start_time": "2022-10-08T08:49:22.291Z"
   },
   {
    "duration": 7,
    "start_time": "2022-10-08T08:49:22.301Z"
   },
   {
    "duration": 36247,
    "start_time": "2022-10-08T08:49:22.309Z"
   },
   {
    "duration": 7,
    "start_time": "2022-10-08T08:49:58.558Z"
   },
   {
    "duration": 688,
    "start_time": "2022-10-08T08:49:58.567Z"
   },
   {
    "duration": 2140,
    "start_time": "2022-10-08T08:50:27.274Z"
   },
   {
    "duration": 7,
    "start_time": "2022-10-08T08:50:29.417Z"
   },
   {
    "duration": 33,
    "start_time": "2022-10-08T08:50:29.426Z"
   },
   {
    "duration": 17,
    "start_time": "2022-10-08T08:50:29.461Z"
   },
   {
    "duration": 5,
    "start_time": "2022-10-08T08:50:29.481Z"
   },
   {
    "duration": 5,
    "start_time": "2022-10-08T08:50:29.487Z"
   },
   {
    "duration": 9,
    "start_time": "2022-10-08T08:50:29.493Z"
   },
   {
    "duration": 9,
    "start_time": "2022-10-08T08:50:29.504Z"
   },
   {
    "duration": 54,
    "start_time": "2022-10-08T08:50:29.514Z"
   },
   {
    "duration": 9,
    "start_time": "2022-10-08T08:50:29.570Z"
   },
   {
    "duration": 18,
    "start_time": "2022-10-08T08:50:29.581Z"
   },
   {
    "duration": 4120,
    "start_time": "2022-10-08T08:50:29.601Z"
   },
   {
    "duration": 580,
    "start_time": "2022-10-08T08:50:33.723Z"
   },
   {
    "duration": 8,
    "start_time": "2022-10-08T08:50:34.307Z"
   },
   {
    "duration": 7,
    "start_time": "2022-10-08T08:50:34.317Z"
   },
   {
    "duration": 14,
    "start_time": "2022-10-08T08:50:34.327Z"
   },
   {
    "duration": 8,
    "start_time": "2022-10-08T08:50:34.354Z"
   },
   {
    "duration": 7,
    "start_time": "2022-10-08T08:50:34.363Z"
   },
   {
    "duration": 9,
    "start_time": "2022-10-08T08:50:34.372Z"
   },
   {
    "duration": 11,
    "start_time": "2022-10-08T08:50:34.383Z"
   },
   {
    "duration": 13,
    "start_time": "2022-10-08T08:50:34.396Z"
   },
   {
    "duration": 9,
    "start_time": "2022-10-08T08:50:34.411Z"
   },
   {
    "duration": 15,
    "start_time": "2022-10-08T08:50:34.454Z"
   },
   {
    "duration": 20,
    "start_time": "2022-10-08T08:50:34.472Z"
   },
   {
    "duration": 21,
    "start_time": "2022-10-08T08:50:34.495Z"
   },
   {
    "duration": 37,
    "start_time": "2022-10-08T08:50:34.519Z"
   },
   {
    "duration": 11,
    "start_time": "2022-10-08T08:50:34.559Z"
   },
   {
    "duration": 5,
    "start_time": "2022-10-08T08:50:34.573Z"
   },
   {
    "duration": 8,
    "start_time": "2022-10-08T08:50:34.580Z"
   },
   {
    "duration": 11,
    "start_time": "2022-10-08T08:50:34.591Z"
   },
   {
    "duration": 7,
    "start_time": "2022-10-08T08:50:34.604Z"
   },
   {
    "duration": 2840,
    "start_time": "2022-10-08T08:50:34.614Z"
   },
   {
    "duration": 6,
    "start_time": "2022-10-08T08:50:37.456Z"
   },
   {
    "duration": 631,
    "start_time": "2022-10-08T08:50:37.463Z"
   },
   {
    "duration": 3,
    "start_time": "2022-10-08T08:50:38.096Z"
   },
   {
    "duration": 11,
    "start_time": "2022-10-08T08:50:38.101Z"
   },
   {
    "duration": 19,
    "start_time": "2022-10-08T08:50:38.113Z"
   },
   {
    "duration": 8,
    "start_time": "2022-10-08T08:50:38.134Z"
   },
   {
    "duration": 38222,
    "start_time": "2022-10-08T08:50:38.143Z"
   },
   {
    "duration": 6,
    "start_time": "2022-10-08T08:51:16.367Z"
   },
   {
    "duration": 702,
    "start_time": "2022-10-08T08:51:16.377Z"
   },
   {
    "duration": 1991,
    "start_time": "2022-10-09T18:34:34.097Z"
   },
   {
    "duration": 15,
    "start_time": "2022-10-09T18:34:36.538Z"
   },
   {
    "duration": 81,
    "start_time": "2022-10-09T18:34:38.730Z"
   },
   {
    "duration": 14,
    "start_time": "2022-10-09T18:34:39.372Z"
   },
   {
    "duration": 4,
    "start_time": "2022-10-09T18:34:40.285Z"
   },
   {
    "duration": 3,
    "start_time": "2022-10-09T18:34:40.890Z"
   },
   {
    "duration": 5,
    "start_time": "2022-10-09T18:34:41.819Z"
   },
   {
    "duration": 4,
    "start_time": "2022-10-09T18:34:42.881Z"
   },
   {
    "duration": 24,
    "start_time": "2022-10-09T18:34:43.983Z"
   },
   {
    "duration": 10,
    "start_time": "2022-10-09T18:34:48.914Z"
   },
   {
    "duration": 7,
    "start_time": "2022-10-09T18:34:50.151Z"
   },
   {
    "duration": 3115,
    "start_time": "2022-10-09T18:34:51.029Z"
   },
   {
    "duration": 476,
    "start_time": "2022-10-09T18:34:55.988Z"
   },
   {
    "duration": 6,
    "start_time": "2022-10-09T18:34:58.444Z"
   },
   {
    "duration": 4,
    "start_time": "2022-10-09T18:34:59.973Z"
   },
   {
    "duration": 3,
    "start_time": "2022-10-09T18:35:02.391Z"
   },
   {
    "duration": 4,
    "start_time": "2022-10-09T18:35:17.765Z"
   },
   {
    "duration": 4,
    "start_time": "2022-10-09T18:35:18.654Z"
   },
   {
    "duration": 5,
    "start_time": "2022-10-09T18:35:19.799Z"
   },
   {
    "duration": 3,
    "start_time": "2022-10-09T18:35:21.773Z"
   },
   {
    "duration": 5,
    "start_time": "2022-10-09T18:35:25.159Z"
   },
   {
    "duration": 4,
    "start_time": "2022-10-09T18:35:25.933Z"
   },
   {
    "duration": 4,
    "start_time": "2022-10-09T18:35:26.581Z"
   },
   {
    "duration": 3,
    "start_time": "2022-10-09T18:35:27.577Z"
   },
   {
    "duration": 11,
    "start_time": "2022-10-09T18:35:35.964Z"
   },
   {
    "duration": 11,
    "start_time": "2022-10-09T18:35:40.461Z"
   },
   {
    "duration": 13,
    "start_time": "2022-10-09T18:35:41.226Z"
   },
   {
    "duration": 13,
    "start_time": "2022-10-09T18:35:42.095Z"
   },
   {
    "duration": 1828,
    "start_time": "2022-10-09T18:39:06.047Z"
   },
   {
    "duration": 6,
    "start_time": "2022-10-09T18:39:07.876Z"
   },
   {
    "duration": 28,
    "start_time": "2022-10-09T18:39:08.135Z"
   },
   {
    "duration": 11,
    "start_time": "2022-10-09T18:39:08.717Z"
   },
   {
    "duration": 4,
    "start_time": "2022-10-09T18:39:10.093Z"
   },
   {
    "duration": 2,
    "start_time": "2022-10-09T18:39:10.796Z"
   },
   {
    "duration": 4,
    "start_time": "2022-10-09T18:39:12.583Z"
   },
   {
    "duration": 4,
    "start_time": "2022-10-09T18:39:13.826Z"
   },
   {
    "duration": 28,
    "start_time": "2022-10-09T18:39:14.435Z"
   },
   {
    "duration": 7,
    "start_time": "2022-10-09T18:39:16.929Z"
   },
   {
    "duration": 6,
    "start_time": "2022-10-09T18:39:18.436Z"
   },
   {
    "duration": 3103,
    "start_time": "2022-10-09T18:39:19.341Z"
   },
   {
    "duration": 470,
    "start_time": "2022-10-09T18:39:22.446Z"
   },
   {
    "duration": 6,
    "start_time": "2022-10-09T18:39:24.382Z"
   },
   {
    "duration": 3,
    "start_time": "2022-10-09T18:39:25.773Z"
   },
   {
    "duration": 4,
    "start_time": "2022-10-09T18:39:27.113Z"
   },
   {
    "duration": 5,
    "start_time": "2022-10-09T18:39:28.509Z"
   },
   {
    "duration": 3,
    "start_time": "2022-10-09T18:39:30.773Z"
   },
   {
    "duration": 4,
    "start_time": "2022-10-09T18:39:31.894Z"
   },
   {
    "duration": 5,
    "start_time": "2022-10-09T18:39:32.660Z"
   },
   {
    "duration": 4,
    "start_time": "2022-10-09T18:39:33.301Z"
   },
   {
    "duration": 2,
    "start_time": "2022-10-09T18:39:34.158Z"
   },
   {
    "duration": 140,
    "start_time": "2022-10-09T18:39:35.844Z"
   },
   {
    "duration": 12,
    "start_time": "2022-10-09T18:39:37.723Z"
   },
   {
    "duration": 1723,
    "start_time": "2022-10-09T18:40:19.636Z"
   },
   {
    "duration": 5,
    "start_time": "2022-10-09T18:40:21.361Z"
   },
   {
    "duration": 28,
    "start_time": "2022-10-09T18:40:21.839Z"
   },
   {
    "duration": 12,
    "start_time": "2022-10-09T18:40:22.463Z"
   },
   {
    "duration": 4,
    "start_time": "2022-10-09T18:40:23.458Z"
   },
   {
    "duration": 3,
    "start_time": "2022-10-09T18:40:24.513Z"
   },
   {
    "duration": 5,
    "start_time": "2022-10-09T18:40:25.810Z"
   },
   {
    "duration": 4,
    "start_time": "2022-10-09T18:40:26.881Z"
   },
   {
    "duration": 23,
    "start_time": "2022-10-09T18:40:27.611Z"
   },
   {
    "duration": 7,
    "start_time": "2022-10-09T18:40:30.386Z"
   },
   {
    "duration": 5,
    "start_time": "2022-10-09T18:40:31.352Z"
   },
   {
    "duration": 3107,
    "start_time": "2022-10-09T18:40:31.973Z"
   },
   {
    "duration": 462,
    "start_time": "2022-10-09T18:40:35.082Z"
   },
   {
    "duration": 5,
    "start_time": "2022-10-09T18:40:35.545Z"
   },
   {
    "duration": 4,
    "start_time": "2022-10-09T18:40:37.216Z"
   },
   {
    "duration": 4,
    "start_time": "2022-10-09T18:40:38.156Z"
   },
   {
    "duration": 5,
    "start_time": "2022-10-09T18:40:39.353Z"
   },
   {
    "duration": 3,
    "start_time": "2022-10-09T18:40:40.806Z"
   },
   {
    "duration": 5,
    "start_time": "2022-10-09T18:40:41.802Z"
   },
   {
    "duration": 4,
    "start_time": "2022-10-09T18:40:42.681Z"
   },
   {
    "duration": 4,
    "start_time": "2022-10-09T18:40:43.267Z"
   },
   {
    "duration": 3,
    "start_time": "2022-10-09T18:40:43.949Z"
   },
   {
    "duration": 0,
    "start_time": "2022-10-09T18:40:44.889Z"
   },
   {
    "duration": 15,
    "start_time": "2022-10-09T18:40:46.548Z"
   },
   {
    "duration": 1724,
    "start_time": "2022-10-09T18:42:12.253Z"
   },
   {
    "duration": 6,
    "start_time": "2022-10-09T18:42:13.979Z"
   },
   {
    "duration": 28,
    "start_time": "2022-10-09T18:42:16.069Z"
   },
   {
    "duration": 13,
    "start_time": "2022-10-09T18:42:16.962Z"
   },
   {
    "duration": 4,
    "start_time": "2022-10-09T18:42:18.465Z"
   },
   {
    "duration": 3,
    "start_time": "2022-10-09T18:42:19.264Z"
   },
   {
    "duration": 4,
    "start_time": "2022-10-09T18:42:20.742Z"
   },
   {
    "duration": 3,
    "start_time": "2022-10-09T18:42:22.997Z"
   },
   {
    "duration": 31,
    "start_time": "2022-10-09T18:42:23.633Z"
   },
   {
    "duration": 7,
    "start_time": "2022-10-09T18:42:28.076Z"
   },
   {
    "duration": 5,
    "start_time": "2022-10-09T18:42:29.249Z"
   },
   {
    "duration": 3333,
    "start_time": "2022-10-09T18:42:30.063Z"
   },
   {
    "duration": 468,
    "start_time": "2022-10-09T18:42:33.646Z"
   },
   {
    "duration": 5,
    "start_time": "2022-10-09T18:42:38.048Z"
   },
   {
    "duration": 4,
    "start_time": "2022-10-09T18:42:39.842Z"
   },
   {
    "duration": 4,
    "start_time": "2022-10-09T18:42:41.295Z"
   },
   {
    "duration": 5,
    "start_time": "2022-10-09T18:42:43.140Z"
   },
   {
    "duration": 5,
    "start_time": "2022-10-09T18:42:44.603Z"
   },
   {
    "duration": 5,
    "start_time": "2022-10-09T18:42:46.800Z"
   },
   {
    "duration": 4,
    "start_time": "2022-10-09T18:42:47.509Z"
   },
   {
    "duration": 4,
    "start_time": "2022-10-09T18:42:48.187Z"
   },
   {
    "duration": 3,
    "start_time": "2022-10-09T18:42:49.369Z"
   },
   {
    "duration": 11,
    "start_time": "2022-10-09T18:42:50.505Z"
   },
   {
    "duration": 10,
    "start_time": "2022-10-09T18:42:51.766Z"
   },
   {
    "duration": 13,
    "start_time": "2022-10-09T18:42:52.435Z"
   },
   {
    "duration": 16,
    "start_time": "2022-10-09T18:42:53.737Z"
   },
   {
    "duration": 4,
    "start_time": "2022-10-09T18:42:59.267Z"
   },
   {
    "duration": 2,
    "start_time": "2022-10-09T18:43:01.253Z"
   },
   {
    "duration": 4,
    "start_time": "2022-10-09T18:43:04.073Z"
   },
   {
    "duration": 1783,
    "start_time": "2022-10-09T20:48:40.780Z"
   },
   {
    "duration": 7,
    "start_time": "2022-10-09T20:48:42.679Z"
   },
   {
    "duration": 28,
    "start_time": "2022-10-09T20:48:44.156Z"
   },
   {
    "duration": 12,
    "start_time": "2022-10-09T20:48:45.003Z"
   },
   {
    "duration": 4,
    "start_time": "2022-10-09T20:48:45.833Z"
   },
   {
    "duration": 3,
    "start_time": "2022-10-09T20:48:46.488Z"
   },
   {
    "duration": 4,
    "start_time": "2022-10-09T20:48:47.460Z"
   },
   {
    "duration": 3,
    "start_time": "2022-10-09T20:48:48.658Z"
   },
   {
    "duration": 23,
    "start_time": "2022-10-09T20:48:49.755Z"
   },
   {
    "duration": 8,
    "start_time": "2022-10-09T20:48:54.659Z"
   },
   {
    "duration": 6,
    "start_time": "2022-10-09T20:48:55.516Z"
   },
   {
    "duration": 3087,
    "start_time": "2022-10-09T20:48:56.285Z"
   },
   {
    "duration": 466,
    "start_time": "2022-10-09T20:49:00.922Z"
   },
   {
    "duration": 6,
    "start_time": "2022-10-09T20:49:02.727Z"
   },
   {
    "duration": 3,
    "start_time": "2022-10-09T20:49:03.959Z"
   },
   {
    "duration": 4,
    "start_time": "2022-10-09T20:49:05.776Z"
   },
   {
    "duration": 5,
    "start_time": "2022-10-09T20:49:07.490Z"
   },
   {
    "duration": 3,
    "start_time": "2022-10-09T20:49:08.540Z"
   },
   {
    "duration": 5,
    "start_time": "2022-10-09T20:49:09.544Z"
   },
   {
    "duration": 5,
    "start_time": "2022-10-09T20:49:10.363Z"
   },
   {
    "duration": 4,
    "start_time": "2022-10-09T20:49:11.158Z"
   },
   {
    "duration": 3,
    "start_time": "2022-10-09T20:49:11.949Z"
   },
   {
    "duration": 11,
    "start_time": "2022-10-09T20:49:13.817Z"
   },
   {
    "duration": 12,
    "start_time": "2022-10-09T20:49:15.368Z"
   },
   {
    "duration": 13,
    "start_time": "2022-10-09T20:49:17.404Z"
   },
   {
    "duration": 12,
    "start_time": "2022-10-09T20:49:19.689Z"
   },
   {
    "duration": 3,
    "start_time": "2022-10-09T20:49:28.786Z"
   },
   {
    "duration": 3,
    "start_time": "2022-10-09T20:49:31.006Z"
   },
   {
    "duration": 4,
    "start_time": "2022-10-09T20:49:32.532Z"
   },
   {
    "duration": 1631,
    "start_time": "2022-10-09T22:42:50.052Z"
   },
   {
    "duration": 6,
    "start_time": "2022-10-09T22:42:51.684Z"
   },
   {
    "duration": 28,
    "start_time": "2022-10-09T22:42:54.635Z"
   },
   {
    "duration": 11,
    "start_time": "2022-10-09T22:42:55.346Z"
   },
   {
    "duration": 4,
    "start_time": "2022-10-09T22:42:56.970Z"
   },
   {
    "duration": 2,
    "start_time": "2022-10-09T22:42:57.651Z"
   },
   {
    "duration": 5,
    "start_time": "2022-10-09T22:42:59.053Z"
   },
   {
    "duration": 4,
    "start_time": "2022-10-09T22:43:01.183Z"
   },
   {
    "duration": 23,
    "start_time": "2022-10-09T22:43:01.985Z"
   },
   {
    "duration": 8,
    "start_time": "2022-10-09T22:43:05.037Z"
   },
   {
    "duration": 5,
    "start_time": "2022-10-09T22:43:06.356Z"
   },
   {
    "duration": 3025,
    "start_time": "2022-10-09T22:43:07.035Z"
   },
   {
    "duration": 462,
    "start_time": "2022-10-09T22:43:10.062Z"
   },
   {
    "duration": 5,
    "start_time": "2022-10-09T22:43:12.560Z"
   },
   {
    "duration": 3,
    "start_time": "2022-10-09T22:43:14.152Z"
   },
   {
    "duration": 3,
    "start_time": "2022-10-09T22:43:15.911Z"
   },
   {
    "duration": 5,
    "start_time": "2022-10-09T22:43:17.557Z"
   },
   {
    "duration": 4,
    "start_time": "2022-10-09T22:43:18.789Z"
   },
   {
    "duration": 6,
    "start_time": "2022-10-09T22:43:19.928Z"
   },
   {
    "duration": 4,
    "start_time": "2022-10-09T22:43:20.757Z"
   },
   {
    "duration": 4,
    "start_time": "2022-10-09T22:43:21.431Z"
   },
   {
    "duration": 3,
    "start_time": "2022-10-09T22:43:22.221Z"
   },
   {
    "duration": 12,
    "start_time": "2022-10-09T22:43:22.916Z"
   },
   {
    "duration": 12,
    "start_time": "2022-10-09T22:43:24.370Z"
   },
   {
    "duration": 14,
    "start_time": "2022-10-09T22:43:25.220Z"
   },
   {
    "duration": 13,
    "start_time": "2022-10-09T22:43:26.056Z"
   },
   {
    "duration": 4,
    "start_time": "2022-10-09T22:43:27.797Z"
   },
   {
    "duration": 3,
    "start_time": "2022-10-09T22:43:29.066Z"
   },
   {
    "duration": 4,
    "start_time": "2022-10-09T22:43:31.487Z"
   },
   {
    "duration": 5,
    "start_time": "2022-10-09T22:56:57.346Z"
   },
   {
    "duration": 3,
    "start_time": "2022-10-09T22:56:57.624Z"
   },
   {
    "duration": 1927,
    "start_time": "2022-10-09T22:56:57.849Z"
   },
   {
    "duration": 33,
    "start_time": "2022-10-09T22:56:59.778Z"
   },
   {
    "duration": 658,
    "start_time": "2022-10-09T22:56:59.812Z"
   },
   {
    "duration": 3,
    "start_time": "2022-10-09T22:57:01.744Z"
   },
   {
    "duration": 5,
    "start_time": "2022-10-09T22:57:01.931Z"
   },
   {
    "duration": 4,
    "start_time": "2022-10-09T22:57:02.572Z"
   },
   {
    "duration": 3,
    "start_time": "2022-10-09T22:57:03.297Z"
   },
   {
    "duration": 26452,
    "start_time": "2022-10-09T22:57:03.661Z"
   },
   {
    "duration": 5,
    "start_time": "2022-10-09T22:57:30.114Z"
   },
   {
    "duration": 577,
    "start_time": "2022-10-09T22:57:30.121Z"
   },
   {
    "duration": 1744,
    "start_time": "2022-10-09T23:04:22.897Z"
   },
   {
    "duration": 5,
    "start_time": "2022-10-09T23:04:24.643Z"
   },
   {
    "duration": 27,
    "start_time": "2022-10-09T23:04:28.637Z"
   },
   {
    "duration": 150,
    "start_time": "2022-10-09T23:05:01.042Z"
   },
   {
    "duration": 135,
    "start_time": "2022-10-09T23:05:15.624Z"
   },
   {
    "duration": 1649,
    "start_time": "2022-10-09T23:06:20.573Z"
   },
   {
    "duration": 7,
    "start_time": "2022-10-09T23:06:22.224Z"
   },
   {
    "duration": 29,
    "start_time": "2022-10-09T23:06:22.232Z"
   },
   {
    "duration": 11,
    "start_time": "2022-10-09T23:06:22.263Z"
   },
   {
    "duration": 4,
    "start_time": "2022-10-09T23:06:22.276Z"
   },
   {
    "duration": 4,
    "start_time": "2022-10-09T23:06:22.281Z"
   },
   {
    "duration": 5,
    "start_time": "2022-10-09T23:06:22.286Z"
   },
   {
    "duration": 17,
    "start_time": "2022-10-09T23:06:22.293Z"
   },
   {
    "duration": 27,
    "start_time": "2022-10-09T23:06:22.311Z"
   },
   {
    "duration": 6,
    "start_time": "2022-10-09T23:06:22.340Z"
   },
   {
    "duration": 6,
    "start_time": "2022-10-09T23:06:22.347Z"
   },
   {
    "duration": 3302,
    "start_time": "2022-10-09T23:06:22.354Z"
   },
   {
    "duration": 487,
    "start_time": "2022-10-09T23:06:25.657Z"
   },
   {
    "duration": 4,
    "start_time": "2022-10-09T23:06:26.146Z"
   },
   {
    "duration": 4,
    "start_time": "2022-10-09T23:06:26.152Z"
   },
   {
    "duration": 6,
    "start_time": "2022-10-09T23:06:26.158Z"
   },
   {
    "duration": 7,
    "start_time": "2022-10-09T23:06:26.165Z"
   },
   {
    "duration": 12,
    "start_time": "2022-10-09T23:06:26.174Z"
   },
   {
    "duration": 21,
    "start_time": "2022-10-09T23:06:26.188Z"
   },
   {
    "duration": 5,
    "start_time": "2022-10-09T23:06:26.210Z"
   },
   {
    "duration": 7,
    "start_time": "2022-10-09T23:06:26.216Z"
   },
   {
    "duration": 6,
    "start_time": "2022-10-09T23:06:26.224Z"
   },
   {
    "duration": 16,
    "start_time": "2022-10-09T23:06:26.232Z"
   },
   {
    "duration": 15,
    "start_time": "2022-10-09T23:06:26.249Z"
   },
   {
    "duration": 20,
    "start_time": "2022-10-09T23:06:26.266Z"
   },
   {
    "duration": 35,
    "start_time": "2022-10-09T23:06:26.287Z"
   },
   {
    "duration": 4,
    "start_time": "2022-10-09T23:06:26.323Z"
   },
   {
    "duration": 4,
    "start_time": "2022-10-09T23:06:26.330Z"
   },
   {
    "duration": 6,
    "start_time": "2022-10-09T23:06:26.336Z"
   },
   {
    "duration": 8,
    "start_time": "2022-10-09T23:06:26.343Z"
   },
   {
    "duration": 5,
    "start_time": "2022-10-09T23:06:26.352Z"
   },
   {
    "duration": 2065,
    "start_time": "2022-10-09T23:06:26.359Z"
   },
   {
    "duration": 8,
    "start_time": "2022-10-09T23:06:28.426Z"
   },
   {
    "duration": 592,
    "start_time": "2022-10-09T23:06:28.438Z"
   },
   {
    "duration": 3,
    "start_time": "2022-10-09T23:06:29.031Z"
   },
   {
    "duration": 6,
    "start_time": "2022-10-09T23:06:29.035Z"
   },
   {
    "duration": 7,
    "start_time": "2022-10-09T23:06:29.042Z"
   },
   {
    "duration": 5,
    "start_time": "2022-10-09T23:06:29.051Z"
   },
   {
    "duration": 27259,
    "start_time": "2022-10-09T23:06:29.058Z"
   },
   {
    "duration": 5,
    "start_time": "2022-10-09T23:06:56.318Z"
   },
   {
    "duration": 610,
    "start_time": "2022-10-09T23:06:56.324Z"
   },
   {
    "duration": 1615,
    "start_time": "2022-10-09T23:10:47.235Z"
   },
   {
    "duration": 6,
    "start_time": "2022-10-09T23:10:48.852Z"
   },
   {
    "duration": 27,
    "start_time": "2022-10-09T23:10:48.859Z"
   },
   {
    "duration": 11,
    "start_time": "2022-10-09T23:10:49.404Z"
   },
   {
    "duration": 4,
    "start_time": "2022-10-09T23:10:50.210Z"
   },
   {
    "duration": 3,
    "start_time": "2022-10-09T23:10:50.458Z"
   },
   {
    "duration": 4,
    "start_time": "2022-10-09T23:10:50.913Z"
   },
   {
    "duration": 4,
    "start_time": "2022-10-09T23:10:51.402Z"
   },
   {
    "duration": 22,
    "start_time": "2022-10-09T23:10:52.145Z"
   },
   {
    "duration": 8,
    "start_time": "2022-10-09T23:10:55.678Z"
   },
   {
    "duration": 5,
    "start_time": "2022-10-09T23:10:56.953Z"
   },
   {
    "duration": 3060,
    "start_time": "2022-10-09T23:10:57.632Z"
   },
   {
    "duration": 481,
    "start_time": "2022-10-09T23:11:00.694Z"
   },
   {
    "duration": 6,
    "start_time": "2022-10-09T23:11:02.910Z"
   },
   {
    "duration": 3,
    "start_time": "2022-10-09T23:11:04.601Z"
   },
   {
    "duration": 4,
    "start_time": "2022-10-09T23:11:06.034Z"
   },
   {
    "duration": 5,
    "start_time": "2022-10-09T23:11:07.524Z"
   },
   {
    "duration": 4,
    "start_time": "2022-10-09T23:11:09.024Z"
   },
   {
    "duration": 5,
    "start_time": "2022-10-09T23:11:10.045Z"
   },
   {
    "duration": 4,
    "start_time": "2022-10-09T23:11:10.740Z"
   },
   {
    "duration": 4,
    "start_time": "2022-10-09T23:11:11.389Z"
   },
   {
    "duration": 3,
    "start_time": "2022-10-09T23:11:12.572Z"
   },
   {
    "duration": 12,
    "start_time": "2022-10-09T23:11:13.237Z"
   },
   {
    "duration": 9,
    "start_time": "2022-10-09T23:11:14.786Z"
   },
   {
    "duration": 14,
    "start_time": "2022-10-09T23:11:15.481Z"
   },
   {
    "duration": 15,
    "start_time": "2022-10-09T23:11:16.221Z"
   },
   {
    "duration": 3,
    "start_time": "2022-10-09T23:11:17.966Z"
   },
   {
    "duration": 2,
    "start_time": "2022-10-09T23:11:18.757Z"
   },
   {
    "duration": 4,
    "start_time": "2022-10-09T23:11:19.683Z"
   },
   {
    "duration": 5,
    "start_time": "2022-10-09T23:11:21.031Z"
   },
   {
    "duration": 4,
    "start_time": "2022-10-09T23:11:22.255Z"
   },
   {
    "duration": 1956,
    "start_time": "2022-10-09T23:11:23.326Z"
   },
   {
    "duration": 2835,
    "start_time": "2022-10-09T23:13:42.386Z"
   },
   {
    "duration": 3,
    "start_time": "2022-10-09T23:14:28.525Z"
   },
   {
    "duration": 1659,
    "start_time": "2022-10-09T23:52:32.947Z"
   },
   {
    "duration": 7,
    "start_time": "2022-10-09T23:52:35.557Z"
   },
   {
    "duration": 27,
    "start_time": "2022-10-09T23:52:36.684Z"
   },
   {
    "duration": 11,
    "start_time": "2022-10-09T23:52:37.343Z"
   },
   {
    "duration": 4,
    "start_time": "2022-10-09T23:52:38.028Z"
   },
   {
    "duration": 3,
    "start_time": "2022-10-09T23:52:39.083Z"
   },
   {
    "duration": 4,
    "start_time": "2022-10-09T23:52:40.352Z"
   },
   {
    "duration": 4,
    "start_time": "2022-10-09T23:52:41.379Z"
   },
   {
    "duration": 25,
    "start_time": "2022-10-09T23:52:42.510Z"
   },
   {
    "duration": 7,
    "start_time": "2022-10-09T23:52:44.181Z"
   },
   {
    "duration": 6,
    "start_time": "2022-10-09T23:52:45.283Z"
   },
   {
    "duration": 3000,
    "start_time": "2022-10-09T23:52:48.684Z"
   },
   {
    "duration": 474,
    "start_time": "2022-10-09T23:52:53.730Z"
   },
   {
    "duration": 5,
    "start_time": "2022-10-09T23:52:56.221Z"
   },
   {
    "duration": 4,
    "start_time": "2022-10-09T23:52:57.566Z"
   },
   {
    "duration": 3,
    "start_time": "2022-10-09T23:52:59.133Z"
   },
   {
    "duration": 5,
    "start_time": "2022-10-09T23:53:00.909Z"
   },
   {
    "duration": 3,
    "start_time": "2022-10-09T23:53:02.303Z"
   },
   {
    "duration": 5,
    "start_time": "2022-10-09T23:53:03.411Z"
   },
   {
    "duration": 4,
    "start_time": "2022-10-09T23:53:04.200Z"
   },
   {
    "duration": 3,
    "start_time": "2022-10-09T23:53:04.992Z"
   },
   {
    "duration": 2,
    "start_time": "2022-10-09T23:53:06.006Z"
   },
   {
    "duration": 11,
    "start_time": "2022-10-09T23:53:09.277Z"
   },
   {
    "duration": 10,
    "start_time": "2022-10-09T23:53:12.777Z"
   },
   {
    "duration": 13,
    "start_time": "2022-10-09T23:53:13.544Z"
   },
   {
    "duration": 14,
    "start_time": "2022-10-09T23:53:16.998Z"
   },
   {
    "duration": 3,
    "start_time": "2022-10-09T23:53:19.212Z"
   },
   {
    "duration": 2,
    "start_time": "2022-10-09T23:53:20.072Z"
   },
   {
    "duration": 4,
    "start_time": "2022-10-09T23:53:21.713Z"
   },
   {
    "duration": 5,
    "start_time": "2022-10-09T23:53:24.488Z"
   },
   {
    "duration": 3,
    "start_time": "2022-10-09T23:53:28.137Z"
   },
   {
    "duration": 1916,
    "start_time": "2022-10-09T23:53:29.043Z"
   },
   {
    "duration": 15,
    "start_time": "2022-10-09T23:53:31.604Z"
   },
   {
    "duration": 3,
    "start_time": "2022-10-09T23:54:04.914Z"
   },
   {
    "duration": 1962,
    "start_time": "2022-10-09T23:56:57.594Z"
   },
   {
    "duration": 5,
    "start_time": "2022-10-09T23:57:22.485Z"
   },
   {
    "duration": 514,
    "start_time": "2022-10-09T23:57:23.493Z"
   },
   {
    "duration": 3,
    "start_time": "2022-10-10T00:03:20.799Z"
   },
   {
    "duration": 141,
    "start_time": "2022-10-10T00:03:48.487Z"
   },
   {
    "duration": 5,
    "start_time": "2022-10-10T00:03:56.125Z"
   },
   {
    "duration": 5,
    "start_time": "2022-10-10T00:03:56.537Z"
   },
   {
    "duration": 3,
    "start_time": "2022-10-10T00:05:54.700Z"
   },
   {
    "duration": 73,
    "start_time": "2022-10-10T00:07:01.628Z"
   },
   {
    "duration": 29,
    "start_time": "2022-10-10T00:07:09.161Z"
   },
   {
    "duration": 3,
    "start_time": "2022-10-10T00:09:17.748Z"
   },
   {
    "duration": 3,
    "start_time": "2022-10-10T00:09:29.429Z"
   },
   {
    "duration": 16,
    "start_time": "2022-10-10T00:09:36.579Z"
   },
   {
    "duration": 15,
    "start_time": "2022-10-10T00:09:40.241Z"
   },
   {
    "duration": 38,
    "start_time": "2022-10-10T00:10:07.382Z"
   },
   {
    "duration": 36,
    "start_time": "2022-10-10T00:10:40.376Z"
   },
   {
    "duration": 35,
    "start_time": "2022-10-10T00:10:46.860Z"
   },
   {
    "duration": 27,
    "start_time": "2022-10-10T00:11:28.171Z"
   },
   {
    "duration": 3,
    "start_time": "2022-10-10T00:12:10.416Z"
   },
   {
    "duration": 5,
    "start_time": "2022-10-10T00:12:11.143Z"
   },
   {
    "duration": 4,
    "start_time": "2022-10-10T00:12:12.868Z"
   },
   {
    "duration": 3,
    "start_time": "2022-10-10T00:12:13.999Z"
   },
   {
    "duration": 3,
    "start_time": "2022-10-10T00:12:15.145Z"
   },
   {
    "duration": 55233,
    "start_time": "2022-10-10T00:12:16.295Z"
   },
   {
    "duration": 3,
    "start_time": "2022-10-10T00:13:38.186Z"
   },
   {
    "duration": 2,
    "start_time": "2022-10-10T00:13:38.297Z"
   },
   {
    "duration": 3,
    "start_time": "2022-10-10T00:14:10.171Z"
   },
   {
    "duration": 2,
    "start_time": "2022-10-10T00:14:24.875Z"
   },
   {
    "duration": 36,
    "start_time": "2022-10-10T00:14:49.142Z"
   },
   {
    "duration": 2061,
    "start_time": "2022-10-21T22:55:22.029Z"
   },
   {
    "duration": 8,
    "start_time": "2022-10-21T22:55:24.092Z"
   },
   {
    "duration": 35,
    "start_time": "2022-10-21T22:55:24.101Z"
   },
   {
    "duration": 12,
    "start_time": "2022-10-21T22:55:24.138Z"
   },
   {
    "duration": 4,
    "start_time": "2022-10-21T22:55:24.152Z"
   },
   {
    "duration": 10,
    "start_time": "2022-10-21T22:55:24.157Z"
   },
   {
    "duration": 10,
    "start_time": "2022-10-21T22:55:24.168Z"
   },
   {
    "duration": 8,
    "start_time": "2022-10-21T22:55:24.179Z"
   },
   {
    "duration": 25,
    "start_time": "2022-10-21T22:55:24.188Z"
   },
   {
    "duration": 8,
    "start_time": "2022-10-21T22:55:24.215Z"
   },
   {
    "duration": 8,
    "start_time": "2022-10-21T22:55:24.224Z"
   },
   {
    "duration": 3355,
    "start_time": "2022-10-21T22:55:24.233Z"
   },
   {
    "duration": 496,
    "start_time": "2022-10-21T22:55:27.590Z"
   },
   {
    "duration": 7,
    "start_time": "2022-10-21T22:55:28.088Z"
   },
   {
    "duration": 4,
    "start_time": "2022-10-21T22:55:28.096Z"
   },
   {
    "duration": 20,
    "start_time": "2022-10-21T22:55:28.102Z"
   },
   {
    "duration": 6,
    "start_time": "2022-10-21T22:55:28.123Z"
   },
   {
    "duration": 5,
    "start_time": "2022-10-21T22:55:28.131Z"
   },
   {
    "duration": 7,
    "start_time": "2022-10-21T22:55:28.137Z"
   },
   {
    "duration": 7,
    "start_time": "2022-10-21T22:55:28.145Z"
   },
   {
    "duration": 5,
    "start_time": "2022-10-21T22:55:28.154Z"
   },
   {
    "duration": 5,
    "start_time": "2022-10-21T22:55:28.161Z"
   },
   {
    "duration": 15,
    "start_time": "2022-10-21T22:55:28.167Z"
   },
   {
    "duration": 13,
    "start_time": "2022-10-21T22:55:28.184Z"
   },
   {
    "duration": 36,
    "start_time": "2022-10-21T22:55:28.199Z"
   },
   {
    "duration": 25,
    "start_time": "2022-10-21T22:55:28.236Z"
   },
   {
    "duration": 13,
    "start_time": "2022-10-21T22:55:28.263Z"
   },
   {
    "duration": 13,
    "start_time": "2022-10-21T22:55:28.280Z"
   },
   {
    "duration": 9,
    "start_time": "2022-10-21T22:55:28.295Z"
   },
   {
    "duration": 25,
    "start_time": "2022-10-21T22:55:28.306Z"
   },
   {
    "duration": 21,
    "start_time": "2022-10-21T22:55:28.332Z"
   },
   {
    "duration": 2696,
    "start_time": "2022-10-21T22:55:28.355Z"
   },
   {
    "duration": 8,
    "start_time": "2022-10-21T22:55:31.053Z"
   },
   {
    "duration": 646,
    "start_time": "2022-10-21T22:55:31.062Z"
   },
   {
    "duration": 3,
    "start_time": "2022-10-21T22:55:31.710Z"
   },
   {
    "duration": 25,
    "start_time": "2022-10-21T22:55:31.714Z"
   },
   {
    "duration": 8,
    "start_time": "2022-10-21T22:55:31.740Z"
   },
   {
    "duration": 12,
    "start_time": "2022-10-21T22:55:31.750Z"
   },
   {
    "duration": 32174,
    "start_time": "2022-10-21T22:55:31.763Z"
   },
   {
    "duration": 8,
    "start_time": "2022-10-21T22:56:03.939Z"
   },
   {
    "duration": 543,
    "start_time": "2022-10-21T22:56:04.022Z"
   },
   {
    "duration": 128,
    "start_time": "2022-10-21T22:56:04.566Z"
   },
   {
    "duration": 0,
    "start_time": "2022-10-21T22:56:04.696Z"
   },
   {
    "duration": 0,
    "start_time": "2022-10-21T22:56:04.697Z"
   },
   {
    "duration": 0,
    "start_time": "2022-10-21T22:56:04.698Z"
   },
   {
    "duration": 2093,
    "start_time": "2022-10-30T11:40:38.129Z"
   },
   {
    "duration": 8,
    "start_time": "2022-10-30T11:40:46.259Z"
   },
   {
    "duration": 72,
    "start_time": "2022-10-30T11:40:49.285Z"
   },
   {
    "duration": 13,
    "start_time": "2022-10-30T11:40:49.906Z"
   },
   {
    "duration": 5,
    "start_time": "2022-10-30T11:40:50.662Z"
   },
   {
    "duration": 3,
    "start_time": "2022-10-30T11:40:54.505Z"
   },
   {
    "duration": 6,
    "start_time": "2022-10-30T11:40:59.543Z"
   },
   {
    "duration": 4,
    "start_time": "2022-10-30T11:41:01.372Z"
   },
   {
    "duration": 27,
    "start_time": "2022-10-30T11:41:01.820Z"
   },
   {
    "duration": 1845,
    "start_time": "2022-10-30T11:42:11.794Z"
   },
   {
    "duration": 7,
    "start_time": "2022-10-30T11:42:13.641Z"
   },
   {
    "duration": 28,
    "start_time": "2022-10-30T11:42:14.812Z"
   },
   {
    "duration": 16,
    "start_time": "2022-10-30T11:42:15.301Z"
   },
   {
    "duration": 5,
    "start_time": "2022-10-30T11:42:15.890Z"
   },
   {
    "duration": 5,
    "start_time": "2022-10-30T11:42:16.405Z"
   },
   {
    "duration": 5,
    "start_time": "2022-10-30T11:42:18.818Z"
   },
   {
    "duration": 5,
    "start_time": "2022-10-30T11:42:20.193Z"
   },
   {
    "duration": 35,
    "start_time": "2022-10-30T11:42:20.595Z"
   },
   {
    "duration": 9,
    "start_time": "2022-10-30T11:42:24.031Z"
   },
   {
    "duration": 6,
    "start_time": "2022-10-30T11:42:24.961Z"
   },
   {
    "duration": 3871,
    "start_time": "2022-10-30T11:42:27.298Z"
   },
   {
    "duration": 660,
    "start_time": "2022-10-30T11:42:35.866Z"
   },
   {
    "duration": 7,
    "start_time": "2022-10-30T11:42:40.422Z"
   },
   {
    "duration": 4,
    "start_time": "2022-10-30T11:42:43.743Z"
   },
   {
    "duration": 4,
    "start_time": "2022-10-30T11:42:46.953Z"
   },
   {
    "duration": 6,
    "start_time": "2022-10-30T11:42:51.802Z"
   },
   {
    "duration": 4,
    "start_time": "2022-10-30T11:42:52.265Z"
   },
   {
    "duration": 5,
    "start_time": "2022-10-30T11:42:58.098Z"
   },
   {
    "duration": 7,
    "start_time": "2022-10-30T11:42:58.514Z"
   },
   {
    "duration": 4,
    "start_time": "2022-10-30T11:42:58.932Z"
   },
   {
    "duration": 3,
    "start_time": "2022-10-30T11:42:59.342Z"
   },
   {
    "duration": 12,
    "start_time": "2022-10-30T11:42:59.783Z"
   },
   {
    "duration": 13,
    "start_time": "2022-10-30T11:43:02.021Z"
   },
   {
    "duration": 19,
    "start_time": "2022-10-30T11:44:08.991Z"
   },
   {
    "duration": 4,
    "start_time": "2022-10-30T11:44:56.510Z"
   },
   {
    "duration": 3,
    "start_time": "2022-10-30T11:45:20.732Z"
   },
   {
    "duration": 4,
    "start_time": "2022-10-30T11:45:24.701Z"
   },
   {
    "duration": 6,
    "start_time": "2022-10-30T12:02:02.801Z"
   },
   {
    "duration": 4,
    "start_time": "2022-10-30T12:02:03.397Z"
   },
   {
    "duration": 2856,
    "start_time": "2022-10-30T12:02:03.965Z"
   },
   {
    "duration": 2181,
    "start_time": "2022-10-31T11:38:10.203Z"
   },
   {
    "duration": 13,
    "start_time": "2022-10-31T11:38:13.910Z"
   },
   {
    "duration": 68,
    "start_time": "2022-10-31T11:38:20.181Z"
   },
   {
    "duration": 20,
    "start_time": "2022-10-31T11:38:20.636Z"
   },
   {
    "duration": 4,
    "start_time": "2022-10-31T11:38:21.150Z"
   },
   {
    "duration": 4,
    "start_time": "2022-10-31T11:38:21.710Z"
   },
   {
    "duration": 5,
    "start_time": "2022-10-31T11:38:23.670Z"
   },
   {
    "duration": 5,
    "start_time": "2022-10-31T11:38:24.341Z"
   },
   {
    "duration": 26,
    "start_time": "2022-10-31T11:38:24.750Z"
   },
   {
    "duration": 9,
    "start_time": "2022-10-31T11:38:28.237Z"
   },
   {
    "duration": 8,
    "start_time": "2022-10-31T11:38:29.220Z"
   },
   {
    "duration": 4059,
    "start_time": "2022-10-31T11:38:30.738Z"
   },
   {
    "duration": 560,
    "start_time": "2022-10-31T11:38:38.789Z"
   },
   {
    "duration": 6,
    "start_time": "2022-10-31T11:38:41.997Z"
   },
   {
    "duration": 4,
    "start_time": "2022-10-31T11:38:44.186Z"
   },
   {
    "duration": 4,
    "start_time": "2022-10-31T11:38:46.440Z"
   },
   {
    "duration": 8,
    "start_time": "2022-10-31T11:38:50.850Z"
   },
   {
    "duration": 5,
    "start_time": "2022-10-31T11:38:51.658Z"
   },
   {
    "duration": 11,
    "start_time": "2022-10-31T11:39:10.801Z"
   },
   {
    "duration": 12,
    "start_time": "2022-10-31T11:39:13.285Z"
   },
   {
    "duration": 6,
    "start_time": "2022-10-31T11:39:23.158Z"
   },
   {
    "duration": 5,
    "start_time": "2022-10-31T11:39:26.340Z"
   },
   {
    "duration": 5,
    "start_time": "2022-10-31T11:39:27.481Z"
   },
   {
    "duration": 4,
    "start_time": "2022-10-31T11:39:28.560Z"
   },
   {
    "duration": 13,
    "start_time": "2022-10-31T11:39:33.140Z"
   },
   {
    "duration": 13,
    "start_time": "2022-10-31T11:39:35.677Z"
   },
   {
    "duration": 19,
    "start_time": "2022-10-31T11:39:36.407Z"
   },
   {
    "duration": 5,
    "start_time": "2022-10-31T11:39:40.127Z"
   },
   {
    "duration": 3,
    "start_time": "2022-10-31T11:39:41.937Z"
   },
   {
    "duration": 5,
    "start_time": "2022-10-31T11:39:45.669Z"
   },
   {
    "duration": 6,
    "start_time": "2022-10-31T11:39:48.368Z"
   },
   {
    "duration": 5,
    "start_time": "2022-10-31T11:39:49.205Z"
   },
   {
    "duration": 1882,
    "start_time": "2022-10-31T11:47:27.421Z"
   },
   {
    "duration": 7,
    "start_time": "2022-10-31T11:47:29.306Z"
   },
   {
    "duration": 30,
    "start_time": "2022-10-31T11:47:29.314Z"
   },
   {
    "duration": 14,
    "start_time": "2022-10-31T11:47:29.346Z"
   },
   {
    "duration": 7,
    "start_time": "2022-10-31T11:47:29.362Z"
   },
   {
    "duration": 3,
    "start_time": "2022-10-31T11:47:29.442Z"
   },
   {
    "duration": 4,
    "start_time": "2022-10-31T11:47:29.762Z"
   },
   {
    "duration": 4,
    "start_time": "2022-10-31T11:47:30.102Z"
   },
   {
    "duration": 31,
    "start_time": "2022-10-31T11:47:30.261Z"
   },
   {
    "duration": 9,
    "start_time": "2022-10-31T11:47:31.272Z"
   },
   {
    "duration": 7,
    "start_time": "2022-10-31T11:47:31.802Z"
   },
   {
    "duration": 3715,
    "start_time": "2022-10-31T11:47:32.141Z"
   },
   {
    "duration": 535,
    "start_time": "2022-10-31T11:47:35.859Z"
   },
   {
    "duration": 7,
    "start_time": "2022-10-31T11:47:36.396Z"
   },
   {
    "duration": 8,
    "start_time": "2022-10-31T11:47:36.405Z"
   },
   {
    "duration": 4,
    "start_time": "2022-10-31T11:47:36.477Z"
   },
   {
    "duration": 6,
    "start_time": "2022-10-31T11:47:36.949Z"
   },
   {
    "duration": 5,
    "start_time": "2022-10-31T11:47:37.381Z"
   },
   {
    "duration": 5,
    "start_time": "2022-10-31T11:47:40.173Z"
   },
   {
    "duration": 5,
    "start_time": "2022-10-31T11:47:40.422Z"
   },
   {
    "duration": 4,
    "start_time": "2022-10-31T11:47:40.621Z"
   },
   {
    "duration": 3,
    "start_time": "2022-10-31T11:47:40.790Z"
   },
   {
    "duration": 13,
    "start_time": "2022-10-31T11:47:43.293Z"
   },
   {
    "duration": 12,
    "start_time": "2022-10-31T11:47:43.901Z"
   },
   {
    "duration": 26,
    "start_time": "2022-10-31T11:47:45.562Z"
   },
   {
    "duration": 4,
    "start_time": "2022-10-31T11:47:47.003Z"
   },
   {
    "duration": 4,
    "start_time": "2022-10-31T11:47:49.691Z"
   },
   {
    "duration": 4,
    "start_time": "2022-10-31T11:47:53.302Z"
   },
   {
    "duration": 5,
    "start_time": "2022-10-31T11:47:56.812Z"
   },
   {
    "duration": 4,
    "start_time": "2022-10-31T11:48:07.609Z"
   },
   {
    "duration": 132,
    "start_time": "2022-10-31T11:50:22.317Z"
   },
   {
    "duration": 11,
    "start_time": "2022-10-31T11:50:32.844Z"
   },
   {
    "duration": 14,
    "start_time": "2022-10-31T11:51:13.923Z"
   },
   {
    "duration": 3516,
    "start_time": "2022-10-31T11:51:26.172Z"
   },
   {
    "duration": 21,
    "start_time": "2022-10-31T11:51:33.442Z"
   },
   {
    "duration": 3145,
    "start_time": "2022-10-31T11:51:50.022Z"
   },
   {
    "duration": 118,
    "start_time": "2022-10-31T11:51:54.710Z"
   },
   {
    "duration": 2018,
    "start_time": "2022-10-31T11:52:05.482Z"
   },
   {
    "duration": 6,
    "start_time": "2022-10-31T11:52:09.044Z"
   },
   {
    "duration": 29,
    "start_time": "2022-10-31T11:52:09.942Z"
   },
   {
    "duration": 13,
    "start_time": "2022-10-31T11:52:10.272Z"
   },
   {
    "duration": 5,
    "start_time": "2022-10-31T11:52:10.653Z"
   },
   {
    "duration": 3,
    "start_time": "2022-10-31T11:52:12.084Z"
   },
   {
    "duration": 6,
    "start_time": "2022-10-31T11:52:12.602Z"
   },
   {
    "duration": 5,
    "start_time": "2022-10-31T11:52:13.302Z"
   },
   {
    "duration": 28,
    "start_time": "2022-10-31T11:52:13.512Z"
   },
   {
    "duration": 9,
    "start_time": "2022-10-31T11:52:14.893Z"
   },
   {
    "duration": 7,
    "start_time": "2022-10-31T11:52:16.892Z"
   },
   {
    "duration": 3834,
    "start_time": "2022-10-31T11:52:17.142Z"
   },
   {
    "duration": 617,
    "start_time": "2022-10-31T11:52:20.980Z"
   },
   {
    "duration": 7,
    "start_time": "2022-10-31T11:52:21.600Z"
   },
   {
    "duration": 4,
    "start_time": "2022-10-31T11:52:22.593Z"
   },
   {
    "duration": 4,
    "start_time": "2022-10-31T11:52:24.102Z"
   },
   {
    "duration": 6,
    "start_time": "2022-10-31T11:52:24.434Z"
   },
   {
    "duration": 5,
    "start_time": "2022-10-31T11:52:24.789Z"
   },
   {
    "duration": 6,
    "start_time": "2022-10-31T11:52:26.554Z"
   },
   {
    "duration": 7,
    "start_time": "2022-10-31T11:52:26.722Z"
   },
   {
    "duration": 5,
    "start_time": "2022-10-31T11:52:26.903Z"
   },
   {
    "duration": 5,
    "start_time": "2022-10-31T11:52:27.072Z"
   },
   {
    "duration": 13,
    "start_time": "2022-10-31T11:52:28.092Z"
   },
   {
    "duration": 11,
    "start_time": "2022-10-31T11:52:29.763Z"
   },
   {
    "duration": 21,
    "start_time": "2022-10-31T11:52:30.061Z"
   },
   {
    "duration": 4,
    "start_time": "2022-10-31T11:52:32.771Z"
   },
   {
    "duration": 3,
    "start_time": "2022-10-31T11:52:33.151Z"
   },
   {
    "duration": 5,
    "start_time": "2022-10-31T11:52:33.590Z"
   },
   {
    "duration": 5,
    "start_time": "2022-10-31T11:52:37.313Z"
   },
   {
    "duration": 1843,
    "start_time": "2022-10-31T12:20:18.271Z"
   },
   {
    "duration": 7,
    "start_time": "2022-10-31T12:20:21.812Z"
   },
   {
    "duration": 28,
    "start_time": "2022-10-31T12:20:26.915Z"
   },
   {
    "duration": 14,
    "start_time": "2022-10-31T12:20:27.509Z"
   },
   {
    "duration": 5,
    "start_time": "2022-10-31T12:20:28.138Z"
   },
   {
    "duration": 4,
    "start_time": "2022-10-31T12:20:28.506Z"
   },
   {
    "duration": 5,
    "start_time": "2022-10-31T12:20:29.140Z"
   },
   {
    "duration": 5,
    "start_time": "2022-10-31T12:20:29.789Z"
   },
   {
    "duration": 29,
    "start_time": "2022-10-31T12:20:30.152Z"
   },
   {
    "duration": 10,
    "start_time": "2022-10-31T12:20:31.619Z"
   },
   {
    "duration": 6,
    "start_time": "2022-10-31T12:20:32.060Z"
   },
   {
    "duration": 3687,
    "start_time": "2022-10-31T12:20:32.270Z"
   },
   {
    "duration": 545,
    "start_time": "2022-10-31T12:20:35.959Z"
   },
   {
    "duration": 6,
    "start_time": "2022-10-31T12:20:36.506Z"
   },
   {
    "duration": 7,
    "start_time": "2022-10-31T12:20:36.514Z"
   },
   {
    "duration": 4,
    "start_time": "2022-10-31T12:20:37.980Z"
   },
   {
    "duration": 7,
    "start_time": "2022-10-31T12:20:40.494Z"
   },
   {
    "duration": 5,
    "start_time": "2022-10-31T12:20:42.654Z"
   },
   {
    "duration": 6,
    "start_time": "2022-10-31T12:20:43.991Z"
   },
   {
    "duration": 8,
    "start_time": "2022-10-31T12:20:44.334Z"
   },
   {
    "duration": 6,
    "start_time": "2022-10-31T12:20:44.683Z"
   },
   {
    "duration": 4,
    "start_time": "2022-10-31T12:20:45.550Z"
   },
   {
    "duration": 15,
    "start_time": "2022-10-31T12:20:48.212Z"
   },
   {
    "duration": 12,
    "start_time": "2022-10-31T12:20:52.166Z"
   },
   {
    "duration": 19,
    "start_time": "2022-10-31T12:20:52.519Z"
   },
   {
    "duration": 4,
    "start_time": "2022-10-31T12:20:53.848Z"
   },
   {
    "duration": 3,
    "start_time": "2022-10-31T12:20:54.440Z"
   },
   {
    "duration": 4,
    "start_time": "2022-10-31T12:20:54.630Z"
   },
   {
    "duration": 6,
    "start_time": "2022-10-31T12:20:55.027Z"
   },
   {
    "duration": 4,
    "start_time": "2022-10-31T12:20:57.985Z"
   },
   {
    "duration": 134,
    "start_time": "2022-10-31T12:20:59.229Z"
   },
   {
    "duration": 4,
    "start_time": "2022-10-31T12:21:08.894Z"
   },
   {
    "duration": 22,
    "start_time": "2022-10-31T12:21:50.529Z"
   },
   {
    "duration": 17,
    "start_time": "2022-10-31T12:22:39.528Z"
   },
   {
    "duration": 14,
    "start_time": "2022-10-31T12:23:23.229Z"
   },
   {
    "duration": 5,
    "start_time": "2022-10-31T12:23:39.900Z"
   },
   {
    "duration": 4,
    "start_time": "2022-10-31T12:23:44.647Z"
   },
   {
    "duration": 91,
    "start_time": "2022-10-31T12:23:46.689Z"
   },
   {
    "duration": 17,
    "start_time": "2022-10-31T12:23:55.010Z"
   },
   {
    "duration": 1931,
    "start_time": "2022-10-31T12:26:17.007Z"
   },
   {
    "duration": 16,
    "start_time": "2022-10-31T12:26:18.941Z"
   },
   {
    "duration": 43,
    "start_time": "2022-10-31T12:26:18.959Z"
   },
   {
    "duration": 13,
    "start_time": "2022-10-31T12:26:19.004Z"
   },
   {
    "duration": 17,
    "start_time": "2022-10-31T12:26:19.018Z"
   },
   {
    "duration": 57,
    "start_time": "2022-10-31T12:26:19.036Z"
   },
   {
    "duration": 24,
    "start_time": "2022-10-31T12:26:19.096Z"
   },
   {
    "duration": 5,
    "start_time": "2022-10-31T12:26:19.367Z"
   },
   {
    "duration": 27,
    "start_time": "2022-10-31T12:26:19.714Z"
   },
   {
    "duration": 8,
    "start_time": "2022-10-31T12:26:20.756Z"
   },
   {
    "duration": 7,
    "start_time": "2022-10-31T12:26:21.386Z"
   },
   {
    "duration": 3854,
    "start_time": "2022-10-31T12:26:21.674Z"
   },
   {
    "duration": 558,
    "start_time": "2022-10-31T12:26:25.530Z"
   },
   {
    "duration": 7,
    "start_time": "2022-10-31T12:26:26.090Z"
   },
   {
    "duration": 4,
    "start_time": "2022-10-31T12:26:26.100Z"
   },
   {
    "duration": 15,
    "start_time": "2022-10-31T12:26:26.106Z"
   },
   {
    "duration": 14,
    "start_time": "2022-10-31T12:26:26.123Z"
   },
   {
    "duration": 4,
    "start_time": "2022-10-31T12:26:26.336Z"
   },
   {
    "duration": 5,
    "start_time": "2022-10-31T12:26:27.937Z"
   },
   {
    "duration": 5,
    "start_time": "2022-10-31T12:26:28.117Z"
   },
   {
    "duration": 4,
    "start_time": "2022-10-31T12:26:28.297Z"
   },
   {
    "duration": 4,
    "start_time": "2022-10-31T12:26:28.506Z"
   },
   {
    "duration": 13,
    "start_time": "2022-10-31T12:26:29.202Z"
   },
   {
    "duration": 12,
    "start_time": "2022-10-31T12:26:30.234Z"
   },
   {
    "duration": 19,
    "start_time": "2022-10-31T12:26:30.793Z"
   },
   {
    "duration": 5,
    "start_time": "2022-10-31T12:26:32.402Z"
   },
   {
    "duration": 3,
    "start_time": "2022-10-31T12:26:33.096Z"
   },
   {
    "duration": 6,
    "start_time": "2022-10-31T12:26:33.517Z"
   },
   {
    "duration": 5,
    "start_time": "2022-10-31T12:26:35.048Z"
   },
   {
    "duration": 134,
    "start_time": "2022-10-31T12:26:35.776Z"
   },
   {
    "duration": 5,
    "start_time": "2022-10-31T12:26:42.116Z"
   },
   {
    "duration": 3,
    "start_time": "2022-10-31T12:26:45.672Z"
   },
   {
    "duration": 1344,
    "start_time": "2022-10-31T12:26:47.432Z"
   },
   {
    "duration": 3,
    "start_time": "2022-10-31T12:26:59.202Z"
   },
   {
    "duration": 97,
    "start_time": "2022-10-31T12:27:01.787Z"
   },
   {
    "duration": 24,
    "start_time": "2022-10-31T12:27:27.785Z"
   },
   {
    "duration": 5,
    "start_time": "2022-10-31T12:28:10.170Z"
   },
   {
    "duration": 4,
    "start_time": "2022-10-31T12:28:10.915Z"
   },
   {
    "duration": 2778,
    "start_time": "2022-10-31T12:28:16.564Z"
   },
   {
    "duration": 50,
    "start_time": "2022-10-31T12:28:40.377Z"
   },
   {
    "duration": 0,
    "start_time": "2022-10-31T12:28:40.429Z"
   },
   {
    "duration": 0,
    "start_time": "2022-10-31T12:28:40.430Z"
   },
   {
    "duration": 0,
    "start_time": "2022-10-31T12:28:40.431Z"
   },
   {
    "duration": 0,
    "start_time": "2022-10-31T12:28:40.432Z"
   },
   {
    "duration": 1,
    "start_time": "2022-10-31T12:28:40.433Z"
   },
   {
    "duration": 0,
    "start_time": "2022-10-31T12:28:40.435Z"
   },
   {
    "duration": 0,
    "start_time": "2022-10-31T12:28:40.435Z"
   },
   {
    "duration": 0,
    "start_time": "2022-10-31T12:28:40.437Z"
   },
   {
    "duration": 0,
    "start_time": "2022-10-31T12:28:40.438Z"
   },
   {
    "duration": 0,
    "start_time": "2022-10-31T12:28:40.439Z"
   },
   {
    "duration": 0,
    "start_time": "2022-10-31T12:28:40.440Z"
   },
   {
    "duration": 0,
    "start_time": "2022-10-31T12:28:40.454Z"
   },
   {
    "duration": 0,
    "start_time": "2022-10-31T12:28:40.456Z"
   },
   {
    "duration": 0,
    "start_time": "2022-10-31T12:28:40.457Z"
   },
   {
    "duration": 0,
    "start_time": "2022-10-31T12:28:40.458Z"
   },
   {
    "duration": 0,
    "start_time": "2022-10-31T12:28:40.459Z"
   },
   {
    "duration": 7,
    "start_time": "2022-10-31T12:28:40.676Z"
   },
   {
    "duration": 7,
    "start_time": "2022-10-31T12:28:41.164Z"
   },
   {
    "duration": 8,
    "start_time": "2022-10-31T12:28:41.353Z"
   },
   {
    "duration": 2100,
    "start_time": "2022-10-31T12:28:49.594Z"
   },
   {
    "duration": 9,
    "start_time": "2022-10-31T12:28:51.697Z"
   },
   {
    "duration": 28,
    "start_time": "2022-10-31T12:28:52.875Z"
   },
   {
    "duration": 14,
    "start_time": "2022-10-31T12:28:53.041Z"
   },
   {
    "duration": 6,
    "start_time": "2022-10-31T12:28:53.210Z"
   },
   {
    "duration": 4,
    "start_time": "2022-10-31T12:28:53.366Z"
   },
   {
    "duration": 5,
    "start_time": "2022-10-31T12:28:53.690Z"
   },
   {
    "duration": 5,
    "start_time": "2022-10-31T12:28:54.002Z"
   },
   {
    "duration": 31,
    "start_time": "2022-10-31T12:28:54.162Z"
   },
   {
    "duration": 8,
    "start_time": "2022-10-31T12:28:54.994Z"
   },
   {
    "duration": 6,
    "start_time": "2022-10-31T12:28:55.322Z"
   },
   {
    "duration": 3872,
    "start_time": "2022-10-31T12:28:55.465Z"
   },
   {
    "duration": 581,
    "start_time": "2022-10-31T12:28:59.339Z"
   },
   {
    "duration": 6,
    "start_time": "2022-10-31T12:28:59.922Z"
   },
   {
    "duration": 18,
    "start_time": "2022-10-31T12:28:59.931Z"
   },
   {
    "duration": 12,
    "start_time": "2022-10-31T12:28:59.953Z"
   },
   {
    "duration": 16,
    "start_time": "2022-10-31T12:28:59.967Z"
   },
   {
    "duration": 4,
    "start_time": "2022-10-31T12:29:00.483Z"
   },
   {
    "duration": 6,
    "start_time": "2022-10-31T12:29:01.419Z"
   },
   {
    "duration": 6,
    "start_time": "2022-10-31T12:29:01.993Z"
   },
   {
    "duration": 4,
    "start_time": "2022-10-31T12:29:02.410Z"
   },
   {
    "duration": 3,
    "start_time": "2022-10-31T12:29:02.875Z"
   },
   {
    "duration": 14,
    "start_time": "2022-10-31T12:29:03.778Z"
   },
   {
    "duration": 12,
    "start_time": "2022-10-31T12:29:04.527Z"
   },
   {
    "duration": 21,
    "start_time": "2022-10-31T12:29:04.882Z"
   },
   {
    "duration": 4,
    "start_time": "2022-10-31T12:29:07.737Z"
   },
   {
    "duration": 6,
    "start_time": "2022-10-31T12:29:08.205Z"
   },
   {
    "duration": 4,
    "start_time": "2022-10-31T12:29:08.403Z"
   },
   {
    "duration": 144,
    "start_time": "2022-10-31T12:29:16.256Z"
   },
   {
    "duration": 13,
    "start_time": "2022-10-31T12:29:24.967Z"
   },
   {
    "duration": 6,
    "start_time": "2022-10-31T12:29:32.127Z"
   },
   {
    "duration": 5,
    "start_time": "2022-10-31T12:29:36.149Z"
   },
   {
    "duration": 2724,
    "start_time": "2022-10-31T12:29:38.114Z"
   },
   {
    "duration": 2019,
    "start_time": "2022-11-01T17:37:15.661Z"
   },
   {
    "duration": 3153,
    "start_time": "2022-11-01T17:37:20.935Z"
   },
   {
    "duration": 107,
    "start_time": "2022-11-01T17:37:24.090Z"
   },
   {
    "duration": 7,
    "start_time": "2022-11-01T17:37:27.243Z"
   },
   {
    "duration": 70,
    "start_time": "2022-11-01T17:37:29.194Z"
   },
   {
    "duration": 11,
    "start_time": "2022-11-01T17:37:29.485Z"
   },
   {
    "duration": 4,
    "start_time": "2022-11-01T17:37:29.840Z"
   },
   {
    "duration": 2,
    "start_time": "2022-11-01T17:37:31.337Z"
   },
   {
    "duration": 5,
    "start_time": "2022-11-01T17:37:31.758Z"
   },
   {
    "duration": 4,
    "start_time": "2022-11-01T17:37:32.362Z"
   },
   {
    "duration": 25,
    "start_time": "2022-11-01T17:37:32.695Z"
   },
   {
    "duration": 9,
    "start_time": "2022-11-01T17:37:35.681Z"
   },
   {
    "duration": 6,
    "start_time": "2022-11-01T17:37:36.256Z"
   },
   {
    "duration": 3422,
    "start_time": "2022-11-01T17:37:36.671Z"
   },
   {
    "duration": 459,
    "start_time": "2022-11-01T17:37:40.094Z"
   },
   {
    "duration": 5,
    "start_time": "2022-11-01T17:37:49.642Z"
   },
   {
    "duration": 3,
    "start_time": "2022-11-01T17:37:50.443Z"
   },
   {
    "duration": 4,
    "start_time": "2022-11-01T17:37:50.788Z"
   },
   {
    "duration": 5,
    "start_time": "2022-11-01T17:37:51.265Z"
   },
   {
    "duration": 3,
    "start_time": "2022-11-01T17:37:51.437Z"
   },
   {
    "duration": 4,
    "start_time": "2022-11-01T17:37:51.922Z"
   },
   {
    "duration": 5,
    "start_time": "2022-11-01T17:37:52.104Z"
   },
   {
    "duration": 3,
    "start_time": "2022-11-01T17:37:52.409Z"
   },
   {
    "duration": 3,
    "start_time": "2022-11-01T17:37:52.590Z"
   },
   {
    "duration": 14,
    "start_time": "2022-11-01T17:37:53.100Z"
   },
   {
    "duration": 10,
    "start_time": "2022-11-01T17:37:53.451Z"
   },
   {
    "duration": 15,
    "start_time": "2022-11-01T17:37:53.933Z"
   },
   {
    "duration": 3,
    "start_time": "2022-11-01T17:39:45.826Z"
   },
   {
    "duration": 2,
    "start_time": "2022-11-01T17:39:46.254Z"
   },
   {
    "duration": 5,
    "start_time": "2022-11-01T17:39:46.488Z"
   },
   {
    "duration": 5,
    "start_time": "2022-11-01T17:39:46.662Z"
   },
   {
    "duration": 3,
    "start_time": "2022-11-01T17:39:46.824Z"
   },
   {
    "duration": 2399,
    "start_time": "2022-11-01T17:39:47.257Z"
   },
   {
    "duration": 6,
    "start_time": "2022-11-01T17:40:00.863Z"
   },
   {
    "duration": 672,
    "start_time": "2022-11-01T17:41:13.478Z"
   },
   {
    "duration": 4,
    "start_time": "2022-11-01T17:46:54.931Z"
   },
   {
    "duration": 453,
    "start_time": "2022-11-01T17:47:38.049Z"
   },
   {
    "duration": 4,
    "start_time": "2022-11-01T17:47:45.383Z"
   },
   {
    "duration": 480,
    "start_time": "2022-11-01T17:47:47.095Z"
   },
   {
    "duration": 4,
    "start_time": "2022-11-01T17:48:00.607Z"
   },
   {
    "duration": 744,
    "start_time": "2022-11-01T17:48:01.336Z"
   },
   {
    "duration": 3,
    "start_time": "2022-11-01T17:48:15.533Z"
   },
   {
    "duration": 5,
    "start_time": "2022-11-01T17:48:16.150Z"
   },
   {
    "duration": 5,
    "start_time": "2022-11-01T17:48:17.737Z"
   },
   {
    "duration": 5,
    "start_time": "2022-11-01T17:48:18.556Z"
   },
   {
    "duration": 30983,
    "start_time": "2022-11-01T17:48:27.449Z"
   },
   {
    "duration": 6,
    "start_time": "2022-11-01T17:49:08.475Z"
   },
   {
    "duration": 528,
    "start_time": "2022-11-01T17:49:21.859Z"
   },
   {
    "duration": 4,
    "start_time": "2022-11-01T17:49:39.407Z"
   },
   {
    "duration": 3,
    "start_time": "2022-11-01T17:49:43.400Z"
   },
   {
    "duration": 3,
    "start_time": "2022-11-01T17:49:45.660Z"
   },
   {
    "duration": 47338,
    "start_time": "2022-11-01T17:49:46.191Z"
   },
   {
    "duration": 5,
    "start_time": "2022-11-01T17:50:52.143Z"
   },
   {
    "duration": 10,
    "start_time": "2022-11-01T17:50:55.749Z"
   },
   {
    "duration": 4,
    "start_time": "2022-11-01T17:51:04.571Z"
   },
   {
    "duration": 10,
    "start_time": "2022-11-01T17:51:09.151Z"
   },
   {
    "duration": 19,
    "start_time": "2022-11-01T17:51:20.750Z"
   },
   {
    "duration": 14,
    "start_time": "2022-11-01T17:51:24.947Z"
   },
   {
    "duration": 5,
    "start_time": "2022-11-01T17:51:28.595Z"
   },
   {
    "duration": 7,
    "start_time": "2022-11-01T17:52:00.561Z"
   },
   {
    "duration": 8,
    "start_time": "2022-11-01T17:52:18.977Z"
   },
   {
    "duration": 3,
    "start_time": "2022-11-01T17:52:44.892Z"
   },
   {
    "duration": 4,
    "start_time": "2022-11-01T17:52:45.555Z"
   },
   {
    "duration": 37,
    "start_time": "2022-11-01T17:52:46.105Z"
   },
   {
    "duration": 36,
    "start_time": "2022-11-01T17:53:37.261Z"
   },
   {
    "duration": 4,
    "start_time": "2022-11-01T17:53:47.354Z"
   },
   {
    "duration": 5,
    "start_time": "2022-11-01T17:53:52.178Z"
   },
   {
    "duration": 4,
    "start_time": "2022-11-01T17:53:52.679Z"
   },
   {
    "duration": 3,
    "start_time": "2022-11-01T17:53:55.115Z"
   },
   {
    "duration": 3,
    "start_time": "2022-11-01T17:54:00.536Z"
   },
   {
    "duration": 3,
    "start_time": "2022-11-01T17:54:01.015Z"
   },
   {
    "duration": 48438,
    "start_time": "2022-11-01T17:54:01.798Z"
   }
  ],
  "kernelspec": {
   "display_name": "Python 3 (ipykernel)",
   "language": "python",
   "name": "python3"
  },
  "language_info": {
   "codemirror_mode": {
    "name": "ipython",
    "version": 3
   },
   "file_extension": ".py",
   "mimetype": "text/x-python",
   "name": "python",
   "nbconvert_exporter": "python",
   "pygments_lexer": "ipython3",
   "version": "3.9.10"
  },
  "toc": {
   "base_numbering": 1,
   "nav_menu": {},
   "number_sections": false,
   "sideBar": true,
   "skip_h1_title": false,
   "title_cell": "Table of Contents",
   "title_sidebar": "Contents",
   "toc_cell": false,
   "toc_position": {},
   "toc_section_display": true,
   "toc_window_display": false
  },
  "varInspector": {
   "cols": {
    "lenName": 16,
    "lenType": 16,
    "lenVar": 40
   },
   "kernels_config": {
    "python": {
     "delete_cmd_postfix": "",
     "delete_cmd_prefix": "del ",
     "library": "var_list.py",
     "varRefreshCmd": "print(var_dic_list())"
    },
    "r": {
     "delete_cmd_postfix": ") ",
     "delete_cmd_prefix": "rm(",
     "library": "var_list.r",
     "varRefreshCmd": "cat(var_dic_list()) "
    }
   },
   "types_to_exclude": [
    "module",
    "function",
    "builtin_function_or_method",
    "instance",
    "_Feature"
   ],
   "window_display": false
  }
 },
 "nbformat": 4,
 "nbformat_minor": 5
}
